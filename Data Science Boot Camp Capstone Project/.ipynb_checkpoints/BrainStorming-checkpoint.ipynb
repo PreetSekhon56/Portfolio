{
 "cells": [
  {
   "cell_type": "code",
   "execution_count": 1,
   "id": "a7d35316-29b5-4ada-aab8-52b4b51fe219",
   "metadata": {},
   "outputs": [],
   "source": [
    "import json\n",
    "import pandas as pd"
   ]
  },
  {
   "cell_type": "code",
   "execution_count": 13,
   "id": "a0d4bf2e-c817-4d71-b100-47e2414d79b6",
   "metadata": {},
   "outputs": [],
   "source": [
    "df = pd.read_json('./Data/matches.jsonl',lines=True,orient='columns')"
   ]
  },
  {
   "cell_type": "code",
   "execution_count": 14,
   "id": "0c1b85e9-38dc-490e-9327-391e0992eb90",
   "metadata": {},
   "outputs": [
    {
     "data": {
      "text/plain": [
       "(9130, 15)"
      ]
     },
     "execution_count": 14,
     "metadata": {},
     "output_type": "execute_result"
    }
   ],
   "source": [
    "df.shape"
   ]
  },
  {
   "cell_type": "code",
   "execution_count": 48,
   "id": "ce081e13-0bb6-4b95-b624-12a77ec807ac",
   "metadata": {},
   "outputs": [
    {
     "data": {
      "text/html": [
       "<div>\n",
       "<style scoped>\n",
       "    .dataframe tbody tr th:only-of-type {\n",
       "        vertical-align: middle;\n",
       "    }\n",
       "\n",
       "    .dataframe tbody tr th {\n",
       "        vertical-align: top;\n",
       "    }\n",
       "\n",
       "    .dataframe thead th {\n",
       "        text-align: right;\n",
       "    }\n",
       "</style>\n",
       "<table border=\"1\" class=\"dataframe\">\n",
       "  <thead>\n",
       "    <tr style=\"text-align: right;\">\n",
       "      <th></th>\n",
       "      <th>match_id</th>\n",
       "      <th>league</th>\n",
       "      <th>season</th>\n",
       "      <th>round</th>\n",
       "      <th>date</th>\n",
       "      <th>home_team</th>\n",
       "      <th>away_team</th>\n",
       "      <th>home_score</th>\n",
       "      <th>away_score</th>\n",
       "      <th>home_starting_players</th>\n",
       "      <th>home_sub_players</th>\n",
       "      <th>home_events</th>\n",
       "      <th>away_starting_players</th>\n",
       "      <th>away_sub_players</th>\n",
       "      <th>away_events</th>\n",
       "      <th>score</th>\n",
       "    </tr>\n",
       "  </thead>\n",
       "  <tbody>\n",
       "    <tr>\n",
       "      <th>0</th>\n",
       "      <td>5700</td>\n",
       "      <td>de</td>\n",
       "      <td>20172018</td>\n",
       "      <td>1</td>\n",
       "      <td>2017-08-18</td>\n",
       "      <td>Bayern</td>\n",
       "      <td>Leverkusen</td>\n",
       "      <td>3</td>\n",
       "      <td>1</td>\n",
       "      <td>[4710, 2376, 4588, 5627, 1567, 2954, 57, 660, ...</td>\n",
       "      <td>[6388, 5333, 401, 1836, 5085, 1939, 4162]</td>\n",
       "      <td>[{'minute': 9, 'period': 'first_half', 'player...</td>\n",
       "      <td>[3991, 1639, 6211, 4128, 4383, 2198, 2776, 375...</td>\n",
       "      <td>[2736, 5105, 2438, 6668, 4248, 4915, 1178]</td>\n",
       "      <td>[{'minute': 8, 'period': 'first_half', 'player...</td>\n",
       "      <td>4</td>\n",
       "    </tr>\n",
       "    <tr>\n",
       "      <th>1</th>\n",
       "      <td>5701</td>\n",
       "      <td>de</td>\n",
       "      <td>20172018</td>\n",
       "      <td>1</td>\n",
       "      <td>2017-08-19</td>\n",
       "      <td>Mainz 05</td>\n",
       "      <td>Hannover</td>\n",
       "      <td>0</td>\n",
       "      <td>1</td>\n",
       "      <td>[381, 4331, 1648, 4236, 2348, 2115, 4965, 581,...</td>\n",
       "      <td>[6273, 1125, 1912, 3581, 2412, 3922, 6571]</td>\n",
       "      <td>[{'minute': 41, 'period': 'first_half', 'playe...</td>\n",
       "      <td>[308, 2164, 5844, 4041, 3282, 4562, 3168, 5410...</td>\n",
       "      <td>[2847, 4579, 2703, 2063, 4522, 1273, 467]</td>\n",
       "      <td>[{'minute': 11, 'period': 'first_half', 'playe...</td>\n",
       "      <td>1</td>\n",
       "    </tr>\n",
       "    <tr>\n",
       "      <th>2</th>\n",
       "      <td>5702</td>\n",
       "      <td>de</td>\n",
       "      <td>20172018</td>\n",
       "      <td>1</td>\n",
       "      <td>2017-08-19</td>\n",
       "      <td>Amburgo</td>\n",
       "      <td>Augsburg</td>\n",
       "      <td>1</td>\n",
       "      <td>0</td>\n",
       "      <td>[1321, 6654, 5719, 4006, 3773, 4661, 4646, 102...</td>\n",
       "      <td>[863, 3069, 2545, 4483, 780, 5758, 5079]</td>\n",
       "      <td>[{'minute': 8, 'period': 'first_half', 'player...</td>\n",
       "      <td>[119, 4521, 631, 204, 4772, 2340, 5603, 3828, ...</td>\n",
       "      <td>[2734, 3774, 1482, 6023, 4302, 414, 5344]</td>\n",
       "      <td>[{'minute': 20, 'period': 'first_half', 'playe...</td>\n",
       "      <td>1</td>\n",
       "    </tr>\n",
       "    <tr>\n",
       "      <th>3</th>\n",
       "      <td>5703</td>\n",
       "      <td>de</td>\n",
       "      <td>20172018</td>\n",
       "      <td>1</td>\n",
       "      <td>2017-08-19</td>\n",
       "      <td>Hertha Berlin</td>\n",
       "      <td>Stoccarda</td>\n",
       "      <td>2</td>\n",
       "      <td>0</td>\n",
       "      <td>[3020, 2911, 6224, 5194, 5391, 3707, 3065, 158...</td>\n",
       "      <td>[2582, 624, 2379, 3873, 2456, 2429, 2280]</td>\n",
       "      <td>[{'minute': 46, 'period': 'second_half', 'play...</td>\n",
       "      <td>[6274, 4427, 1158, 1767, 5310, 1395, 2212, 527...</td>\n",
       "      <td>[5663, 3570, 1725, 3172, 1450, 1776, 2248]</td>\n",
       "      <td>[{'minute': 63, 'period': 'second_half', 'play...</td>\n",
       "      <td>2</td>\n",
       "    </tr>\n",
       "    <tr>\n",
       "      <th>4</th>\n",
       "      <td>5704</td>\n",
       "      <td>de</td>\n",
       "      <td>20172018</td>\n",
       "      <td>1</td>\n",
       "      <td>2017-08-19</td>\n",
       "      <td>Hoffenheim</td>\n",
       "      <td>Werder B.</td>\n",
       "      <td>1</td>\n",
       "      <td>0</td>\n",
       "      <td>[4950, 5474, 4694, 71, 4831, 1049, 5117, 5131,...</td>\n",
       "      <td>[6386, 5012, 3198, 1664, 1527, 1375, 2122]</td>\n",
       "      <td>[{'minute': 63, 'period': 'second_half', 'play...</td>\n",
       "      <td>[4605, 4452, 2010, 44, 1645, 5687, 5006, 504, ...</td>\n",
       "      <td>[4543, 5688, 5165, 1266, 4078, 6651, 3724]</td>\n",
       "      <td>[{'minute': 26, 'period': 'first_half', 'playe...</td>\n",
       "      <td>1</td>\n",
       "    </tr>\n",
       "  </tbody>\n",
       "</table>\n",
       "</div>"
      ],
      "text/plain": [
       "   match_id league    season  round       date      home_team   away_team  home_score  away_score                              home_starting_players                            home_sub_players                                        home_events                              away_starting_players                            away_sub_players                                        away_events  score\n",
       "0      5700     de  20172018      1 2017-08-18         Bayern  Leverkusen           3           1  [4710, 2376, 4588, 5627, 1567, 2954, 57, 660, ...   [6388, 5333, 401, 1836, 5085, 1939, 4162]  [{'minute': 9, 'period': 'first_half', 'player...  [3991, 1639, 6211, 4128, 4383, 2198, 2776, 375...  [2736, 5105, 2438, 6668, 4248, 4915, 1178]  [{'minute': 8, 'period': 'first_half', 'player...      4\n",
       "1      5701     de  20172018      1 2017-08-19       Mainz 05    Hannover           0           1  [381, 4331, 1648, 4236, 2348, 2115, 4965, 581,...  [6273, 1125, 1912, 3581, 2412, 3922, 6571]  [{'minute': 41, 'period': 'first_half', 'playe...  [308, 2164, 5844, 4041, 3282, 4562, 3168, 5410...   [2847, 4579, 2703, 2063, 4522, 1273, 467]  [{'minute': 11, 'period': 'first_half', 'playe...      1\n",
       "2      5702     de  20172018      1 2017-08-19        Amburgo    Augsburg           1           0  [1321, 6654, 5719, 4006, 3773, 4661, 4646, 102...    [863, 3069, 2545, 4483, 780, 5758, 5079]  [{'minute': 8, 'period': 'first_half', 'player...  [119, 4521, 631, 204, 4772, 2340, 5603, 3828, ...   [2734, 3774, 1482, 6023, 4302, 414, 5344]  [{'minute': 20, 'period': 'first_half', 'playe...      1\n",
       "3      5703     de  20172018      1 2017-08-19  Hertha Berlin   Stoccarda           2           0  [3020, 2911, 6224, 5194, 5391, 3707, 3065, 158...   [2582, 624, 2379, 3873, 2456, 2429, 2280]  [{'minute': 46, 'period': 'second_half', 'play...  [6274, 4427, 1158, 1767, 5310, 1395, 2212, 527...  [5663, 3570, 1725, 3172, 1450, 1776, 2248]  [{'minute': 63, 'period': 'second_half', 'play...      2\n",
       "4      5704     de  20172018      1 2017-08-19     Hoffenheim   Werder B.           1           0  [4950, 5474, 4694, 71, 4831, 1049, 5117, 5131,...  [6386, 5012, 3198, 1664, 1527, 1375, 2122]  [{'minute': 63, 'period': 'second_half', 'play...  [4605, 4452, 2010, 44, 1645, 5687, 5006, 504, ...  [4543, 5688, 5165, 1266, 4078, 6651, 3724]  [{'minute': 26, 'period': 'first_half', 'playe...      1"
      ]
     },
     "execution_count": 48,
     "metadata": {},
     "output_type": "execute_result"
    }
   ],
   "source": [
    "df.head()"
   ]
  },
  {
   "cell_type": "code",
   "execution_count": 50,
   "id": "836b786f-f4b9-46f5-a3e4-acc77e25e25f",
   "metadata": {},
   "outputs": [
    {
     "data": {
      "text/plain": [
       "1     245\n",
       "27    245\n",
       "21    245\n",
       "22    245\n",
       "23    245\n",
       "24    245\n",
       "25    245\n",
       "26    245\n",
       "28    245\n",
       "19    245\n",
       "29    245\n",
       "30    245\n",
       "31    245\n",
       "32    245\n",
       "33    245\n",
       "34    245\n",
       "2     245\n",
       "20    245\n",
       "18    245\n",
       "9     245\n",
       "3     245\n",
       "4     245\n",
       "5     245\n",
       "6     245\n",
       "7     245\n",
       "17    245\n",
       "8     245\n",
       "10    245\n",
       "11    245\n",
       "12    245\n",
       "13    245\n",
       "14    245\n",
       "15    245\n",
       "16    245\n",
       "35    200\n",
       "36    200\n",
       "37    200\n",
       "38    200\n",
       "Name: round, dtype: int64"
      ]
     },
     "execution_count": 50,
     "metadata": {},
     "output_type": "execute_result"
    }
   ],
   "source": [
    "df['round'].value_counts(normalize=False)"
   ]
  },
  {
   "cell_type": "code",
   "execution_count": 51,
   "id": "57766324-a94e-48b7-b6b2-23ec97e5e97a",
   "metadata": {},
   "outputs": [
    {
     "data": {
      "text/plain": [
       "2     0.238445\n",
       "3     0.220372\n",
       "1     0.162212\n",
       "4     0.151588\n",
       "5     0.086637\n",
       "0     0.079080\n",
       "6     0.038226\n",
       "7     0.016758\n",
       "8     0.005038\n",
       "9     0.001533\n",
       "10    0.000110\n",
       "Name: score, dtype: float64"
      ]
     },
     "execution_count": 51,
     "metadata": {},
     "output_type": "execute_result"
    }
   ],
   "source": [
    "df['score'].value_counts(normalize=True)"
   ]
  },
  {
   "cell_type": "code",
   "execution_count": 52,
   "id": "a6331208-b522-4705-ae48-004fe2f8af67",
   "metadata": {},
   "outputs": [],
   "source": [
    "# 14.81% of games are 5 goals or over"
   ]
  },
  {
   "cell_type": "code",
   "execution_count": null,
   "id": "ff4a021b-5408-4756-a1d0-774c9072b6ad",
   "metadata": {},
   "outputs": [],
   "source": [
    "# I want to see percentages by league"
   ]
  },
  {
   "cell_type": "code",
   "execution_count": null,
   "id": "9e6a4cdb-55d4-4a25-86c9-ff207f37b4fa",
   "metadata": {},
   "outputs": [],
   "source": [
    "df.groupby(['score'axis=1)"
   ]
  },
  {
   "cell_type": "code",
   "execution_count": 47,
   "id": "f05d68af-d832-4317-9acd-7369d462f236",
   "metadata": {},
   "outputs": [],
   "source": [
    "# creating new score columns \n",
    "df['score'] = df['home_score'] + df['away_score']\n",
    "\n",
    "# I want to create one for each half\n",
    "df['1h_score'] = df['home_events'isOwnGoal-first half] + df['away_events'isOwnGoal-first half]\n",
    "df['2h_score'] = df['home_events'isOwnGoal-first half] + df['away_events'isOwnGoal-first half]"
   ]
  },
  {
   "cell_type": "markdown",
   "id": "e718c762-ecd9-42dc-99e7-a77d079fbe46",
   "metadata": {},
   "source": [
    "### I want to create:\n",
    "#### - Goal Acceleration/Speed: some type of measurement of how short of time is between goals\n",
    "#### - Running count of goals by players and then that team would have a score based on starting players running goals tailie\n",
    "#### - Team rating based on players\n",
    "#### - Over Historic Values: 1h/2h/G. \n",
    "#### - Classification of to over or not over coupled with a bet rating 1/4. Ex. NB, YB1, YB2, YB3, YB4\n",
    "#### - Current standings\n",
    "#### - Game # of season\n",
    "#### - Team Rating based on over likelyhood"
   ]
  },
  {
   "cell_type": "code",
   "execution_count": 30,
   "id": "6c9d84f3-148e-4099-908d-08654fc7d9a9",
   "metadata": {},
   "outputs": [
    {
     "data": {
      "text/plain": [
       "[{'minute': 9, 'period': 'first_half', 'player': 660, 'type': 'assist'},\n",
       " {'isOwnGoal': False,\n",
       "  'isPenalty': False,\n",
       "  'minute': 9,\n",
       "  'period': 'first_half',\n",
       "  'player': 5627,\n",
       "  'type': 'goal'},\n",
       " {'minute': 18, 'period': 'first_half', 'player': 57, 'type': 'assist'},\n",
       " {'isOwnGoal': False,\n",
       "  'isPenalty': False,\n",
       "  'minute': 18,\n",
       "  'period': 'first_half',\n",
       "  'player': 2954,\n",
       "  'type': 'goal'},\n",
       " {'isOwnGoal': False,\n",
       "  'isPenalty': True,\n",
       "  'minute': 52,\n",
       "  'period': 'second_half',\n",
       "  'player': 3894,\n",
       "  'type': 'goal'},\n",
       " {'minute': 60, 'period': 'second_half', 'player': 1836, 'type': 'subIn'},\n",
       " {'minute': 60, 'period': 'second_half', 'player': 3643, 'type': 'subOff'},\n",
       " {'minute': 61, 'period': 'second_half', 'player': 5333, 'type': 'subIn'},\n",
       " {'minute': 61, 'period': 'second_half', 'player': 2376, 'type': 'subOff'},\n",
       " {'minute': 63, 'period': 'second_half', 'player': 57, 'type': 'yellowCard'},\n",
       " {'minute': 76, 'period': 'second_half', 'player': 5085, 'type': 'subIn'},\n",
       " {'minute': 76, 'period': 'second_half', 'player': 3697, 'type': 'subOff'}]"
      ]
     },
     "execution_count": 30,
     "metadata": {},
     "output_type": "execute_result"
    }
   ],
   "source": [
    "df.iloc[0,11]"
   ]
  },
  {
   "cell_type": "code",
   "execution_count": 46,
   "id": "0d852828-1110-4d62-856d-8030bb951a46",
   "metadata": {},
   "outputs": [
    {
     "data": {
      "text/html": [
       "<div>\n",
       "<style scoped>\n",
       "    .dataframe tbody tr th:only-of-type {\n",
       "        vertical-align: middle;\n",
       "    }\n",
       "\n",
       "    .dataframe tbody tr th {\n",
       "        vertical-align: top;\n",
       "    }\n",
       "\n",
       "    .dataframe thead th {\n",
       "        text-align: right;\n",
       "    }\n",
       "</style>\n",
       "<table border=\"1\" class=\"dataframe\">\n",
       "  <thead>\n",
       "    <tr style=\"text-align: right;\">\n",
       "      <th></th>\n",
       "      <th>match_id</th>\n",
       "      <th>season</th>\n",
       "      <th>round</th>\n",
       "      <th>home_score</th>\n",
       "      <th>away_score</th>\n",
       "    </tr>\n",
       "  </thead>\n",
       "  <tbody>\n",
       "    <tr>\n",
       "      <th>count</th>\n",
       "      <td>9130.000000</td>\n",
       "      <td>9.130000e+03</td>\n",
       "      <td>9130.000000</td>\n",
       "      <td>9130.000000</td>\n",
       "      <td>9130.000000</td>\n",
       "    </tr>\n",
       "    <tr>\n",
       "      <th>mean</th>\n",
       "      <td>4564.500000</td>\n",
       "      <td>2.019202e+07</td>\n",
       "      <td>19.164841</td>\n",
       "      <td>1.511610</td>\n",
       "      <td>1.230011</td>\n",
       "    </tr>\n",
       "    <tr>\n",
       "      <th>std</th>\n",
       "      <td>2635.748312</td>\n",
       "      <td>1.414432e+04</td>\n",
       "      <td>10.807353</td>\n",
       "      <td>1.304427</td>\n",
       "      <td>1.177759</td>\n",
       "    </tr>\n",
       "    <tr>\n",
       "      <th>min</th>\n",
       "      <td>0.000000</td>\n",
       "      <td>2.017202e+07</td>\n",
       "      <td>1.000000</td>\n",
       "      <td>0.000000</td>\n",
       "      <td>0.000000</td>\n",
       "    </tr>\n",
       "    <tr>\n",
       "      <th>25%</th>\n",
       "      <td>2282.250000</td>\n",
       "      <td>2.018202e+07</td>\n",
       "      <td>10.000000</td>\n",
       "      <td>1.000000</td>\n",
       "      <td>0.000000</td>\n",
       "    </tr>\n",
       "    <tr>\n",
       "      <th>50%</th>\n",
       "      <td>4564.500000</td>\n",
       "      <td>2.019202e+07</td>\n",
       "      <td>19.000000</td>\n",
       "      <td>1.000000</td>\n",
       "      <td>1.000000</td>\n",
       "    </tr>\n",
       "    <tr>\n",
       "      <th>75%</th>\n",
       "      <td>6846.750000</td>\n",
       "      <td>2.020202e+07</td>\n",
       "      <td>28.000000</td>\n",
       "      <td>2.000000</td>\n",
       "      <td>2.000000</td>\n",
       "    </tr>\n",
       "    <tr>\n",
       "      <th>max</th>\n",
       "      <td>9129.000000</td>\n",
       "      <td>2.021202e+07</td>\n",
       "      <td>38.000000</td>\n",
       "      <td>9.000000</td>\n",
       "      <td>9.000000</td>\n",
       "    </tr>\n",
       "  </tbody>\n",
       "</table>\n",
       "</div>"
      ],
      "text/plain": [
       "          match_id        season        round   home_score   away_score\n",
       "count  9130.000000  9.130000e+03  9130.000000  9130.000000  9130.000000\n",
       "mean   4564.500000  2.019202e+07    19.164841     1.511610     1.230011\n",
       "std    2635.748312  1.414432e+04    10.807353     1.304427     1.177759\n",
       "min       0.000000  2.017202e+07     1.000000     0.000000     0.000000\n",
       "25%    2282.250000  2.018202e+07    10.000000     1.000000     0.000000\n",
       "50%    4564.500000  2.019202e+07    19.000000     1.000000     1.000000\n",
       "75%    6846.750000  2.020202e+07    28.000000     2.000000     2.000000\n",
       "max    9129.000000  2.021202e+07    38.000000     9.000000     9.000000"
      ]
     },
     "execution_count": 46,
     "metadata": {},
     "output_type": "execute_result"
    }
   ],
   "source": [
    "df.describe()"
   ]
  },
  {
   "cell_type": "code",
   "execution_count": 38,
   "id": "4a1fe509-79eb-4661-9391-878163b930be",
   "metadata": {},
   "outputs": [
    {
     "data": {
      "text/plain": [
       "en    1900\n",
       "es    1900\n",
       "fr    1900\n",
       "it    1900\n",
       "de    1530\n",
       "Name: league, dtype: int64"
      ]
     },
     "execution_count": 38,
     "metadata": {},
     "output_type": "execute_result"
    }
   ],
   "source": [
    "df['league'].value_counts(normalize=False)"
   ]
  },
  {
   "cell_type": "markdown",
   "id": "d797d462-eeb3-4643-be42-69478a269d9b",
   "metadata": {},
   "source": [
    "#### "
   ]
  }
 ],
 "metadata": {
  "kernelspec": {
   "display_name": "Python 3 (ipykernel)",
   "language": "python",
   "name": "python3"
  },
  "language_info": {
   "codemirror_mode": {
    "name": "ipython",
    "version": 3
   },
   "file_extension": ".py",
   "mimetype": "text/x-python",
   "name": "python",
   "nbconvert_exporter": "python",
   "pygments_lexer": "ipython3",
   "version": "3.9.7"
  }
 },
 "nbformat": 4,
 "nbformat_minor": 5
}
