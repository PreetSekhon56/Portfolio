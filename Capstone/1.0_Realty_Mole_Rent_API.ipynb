{
 "cells": [
  {
   "cell_type": "markdown",
   "metadata": {},
   "source": [
    "# <font color=\"blue\">1.0 - Cash Flow - Realty Mole Rental API<font>\n",
    "\n",
    "### <font color=\"blue\">API provided by the source sited below.<font>\n",
    "---\n",
    "### <font color=\"red\">*** Code will not work in this notebook unless API Key is updated to an active one. ***<>font\n",
    "\n",
    "### <font color=\"red\">Also a special thank you goes out to my instructors Ben Mathis and Andrew Riddle, for helping me to adapt this API. It wasn't functioning properly in the original downloaded code.<fong>"
   ]
  },
  {
   "cell_type": "markdown",
   "metadata": {},
   "source": [
    "# Get Zip Code Rental Data by County\n",
    "\n",
    "## Overview\n",
    "| Detail Tag            | Information                                                                                        |\n",
    "|-----------------------|----------------------------------------------------------------------------------------------------|\n",
    "| Originally Created By | Ariel Herrera arielherrera@analyticsariel.com |\n",
    "\n",
    "## History\n",
    "| Date         | Developed By  | Reason                                                |\n",
    "|--------------|---------------|-------------------------------------------------------|\n",
    "| 22nd Jun 2022 | Ariel Herrera | Create notebook. |\n",
    "\n"
   ]
  },
  {
   "cell_type": "markdown",
   "metadata": {
    "id": "-ZgrtjtLUi6a",
    "tags": []
   },
   "source": [
    "---\n",
    "\n",
    "## <font color=\"blue\">Imports<font>\n",
    "---"
   ]
  },
  {
   "cell_type": "code",
   "execution_count": 9,
   "metadata": {
    "id": "7vWKHxJDUjOJ"
   },
   "outputs": [],
   "source": [
    "import pandas as pd\n",
    "from scipy.stats import zscore\n",
    "import requests\n",
    "import warnings\n",
    "from datetime import datetime\n",
    "from dateutil.relativedelta import relativedelta\n",
    "import time\n",
    "\n",
    "warnings.filterwarnings('ignore')"
   ]
  },
  {
   "cell_type": "markdown",
   "metadata": {
    "id": "PkdXQZp8UqcC",
    "tags": []
   },
   "source": [
    "## <font color=\"blue\">Variables</font>\n",
    "---"
   ]
  },
  {
   "cell_type": "code",
   "execution_count": 10,
   "metadata": {},
   "outputs": [],
   "source": [
    "#API key provided by RapidAPI.com\n",
    "rapid_api_key = '6377723b34msh077761c3d376267p15c969jsn8979a9749ad3'\n",
    "\n",
    "#These are the 41 of the 58 zip codes we will be using for our API pull\n",
    "zips = ['Los Angeles', 'San Joaquin', 'Sonoma', 'San Francisco', 'San Diego', 'Orange', 'Alameda', 'San Bernardino', \n",
    "'San Mateo', 'Kern', 'Shasta', 'Fresno', 'Solano', 'Santa Cruz', 'Contra Costa','San Benito', 'Ventura', 'Nevada', \n",
    "'Riverside', 'Madera', 'El Dorado', 'Kings', 'Lake', 'Monterey', 'Imperial','Santa Barbara', 'Tulare', 'Tehama', \n",
    "'Napa', 'Placer', 'Marin', 'Santa Clara', 'Sacramento', 'Yuba', 'San Luis Obispo', 'Butte','Mendocino', 'Stanislaus', \n",
    "'Sutter', 'Merced', 'Yolo']"
   ]
  },
  {
   "cell_type": "markdown",
   "metadata": {},
   "source": [
    "## <font color=\"blue\">Functions</font>\n",
    "---\n"
   ]
  },
  {
   "cell_type": "markdown",
   "metadata": {},
   "source": [
    "##### <font color=\"blue\">Using the api key this function gets all the applicable zip codes for the county input. It also checks validity of the zip<font>"
   ]
  },
  {
   "cell_type": "code",
   "execution_count": 11,
   "metadata": {},
   "outputs": [],
   "source": [
    "def get_rental_market_data(rapid_api_key, zip_code):\n",
    "\n",
    "  if len(str(zip_code)) != 5:\n",
    "    return \"Invalid Zip Code\"\n",
    "\n",
    "  url = f\"https://realty-mole-property-api.p.rapidapi.com/zipCodes/{zip_code}\"\n",
    "\n",
    "  headers = {\n",
    "    \"X-RapidAPI-Key\": rapid_api_key,\n",
    "    \"X-RapidAPI-Host\": \"realty-mole-property-api.p.rapidapi.com\"\n",
    "  }\n",
    "\n",
    "  return requests.request(\"GET\", url, headers=headers)\n"
   ]
  },
  {
   "cell_type": "markdown",
   "metadata": {},
   "source": [
    "##### <font color=\"blue\">This function gets all the activing listings and returns average rent, minimum rent, and maximum rent. For the purposes of this project we are only using \"get_latest_rental_data\"<font>"
   ]
  },
  {
   "cell_type": "code",
   "execution_count": 12,
   "metadata": {},
   "outputs": [],
   "source": [
    "def get_latest_rental_data(response):\n",
    "  # transform data to pandas dataframe\n",
    "  df = pd.json_normalize(data=response.json())\n",
    "  # relevant cols\n",
    "  rent_cols = ['id', 'rentalData.averageRent', 'rentalData.minRent', 'rentalData.maxRent', 'rentalData.totalRentals', 'rentalData.detailed']\n",
    "  df = df[rent_cols]\n",
    "  return df.rename(columns={'id': 'zip_code'})\n",
    "\n",
    "def get_historical_rental_data(response):\n",
    "  # transform data to pandas dataframe\n",
    "  df_rent = pd.json_normalize(data=response.json())\n",
    "\n",
    "  \"\"\" get historical data to single dataframe \"\"\"\n",
    "  df_list = [] # create empty list\n",
    "  # get all \"detailed\" columns\n",
    "  rent_detail_hist_cols = [x for x in df_rent.columns if 'detailed' and 'history' in x]\n",
    "  # iterate through \"detailed\" columns\n",
    "  for x in rent_detail_hist_cols:\n",
    "    # get column date\n",
    "    date_str = x.split('.')[2]\n",
    "    # get column name\n",
    "    detail_col = 'rentalData.history.' + date_str + '.detailed'\n",
    "    # convert historical data to a dataframe\n",
    "    _df = pd.DataFrame(df_rent[detail_col].iloc[0])\n",
    "    # create columns\n",
    "    _df['date_str'] = date_str\n",
    "    _df['zip_code'] = zip_code\n",
    "    # append to list\n",
    "    df_list.append(_df)\n",
    "\n",
    "  \"\"\" combine \"\"\"\n",
    "  # comine sub date dataframes\n",
    "  df_detail = pd.concat(df_list)\n",
    "  # move date column to front\n",
    "  df_detail = move_col_to_front(df=df_detail, col_name='date_str')\n",
    "  df_detail = move_col_to_front(df=df_detail, col_name='zip_code')\n",
    "  # add feature for previous year\n",
    "  df_detail['prev_yr_dt'] = df_detail.apply(lambda x: (datetime.strptime(x['date_str'], '%Y-%m') - relativedelta(years=1)).strftime('%Y-%m'), axis=1)\n",
    "\n",
    "  \"\"\" merge \"\"\"\n",
    "  df_detail_prev = df_detail.copy()\n",
    "  df_detail_prev.columns = [x + '_prev_yr' for x in df_detail_prev.columns]\n",
    "  # merge\n",
    "  df_merge = pd.merge(df_detail, df_detail_prev, how='left', left_on=['prev_yr_dt', 'bedrooms'], right_on=['date_str_prev_yr', 'bedrooms_prev_yr']).drop_duplicates()\n",
    "  # identify outliers\n",
    "  df_merge['averageRent_zscore'] = df_merge[['averageRent']].apply(zscore)\n",
    "\n",
    "  \"\"\" filter \"\"\"\n",
    "  # filter\n",
    "  df_filter = df_merge.copy()\n",
    "  df_filter = df_filter.loc[(df_filter['bedrooms'] <= 4) & (df_filter['averageRent_zscore'] <= 2)]\n",
    "  df_filter = df_filter.drop(columns=['prev_yr_dt', 'date_str_prev_yr', 'prev_yr_dt_prev_yr', 'zip_code_prev_yr'])\n",
    "  # add features\n",
    "  df_filter['YoY_avg_rent'] = \\\n",
    "    (df_filter['averageRent'] - df_filter['averageRent_prev_yr']) / df_filter['averageRent_prev_yr']\n",
    "  df_filter['YoY_total_rentals'] = \\\n",
    "    (df_filter['totalRentals'] - df_filter['totalRentals_prev_yr']) / df_filter['totalRentals_prev_yr']\n",
    "  return df_filter"
   ]
  },
  {
   "cell_type": "markdown",
   "metadata": {
    "id": "PsewsAZfSSXc"
   },
   "source": [
    "### <font color=\"blue\">Multiple Zip Codes - All for a county</font>"
   ]
  },
  {
   "cell_type": "markdown",
   "metadata": {
    "id": "m8lTdtxjYeW7"
   },
   "source": [
    "##### <font color=\"blue\">This is the specific function for when pulling multiple zip codes.<font>"
   ]
  },
  {
   "cell_type": "code",
   "execution_count": 13,
   "metadata": {
    "colab": {
     "base_uri": "https://localhost:8080/",
     "height": 241
    },
    "id": "K5btF8uRSj-Q",
    "outputId": "e4aee2b7-f0f6-4594-cb24-1045a99b99d1"
   },
   "outputs": [
    {
     "name": "stdout",
     "output_type": "stream",
     "text": [
      "Num of rows: 33103\n",
      "Num of columns: 6\n"
     ]
    },
    {
     "data": {
      "text/html": [
       "<div>\n",
       "<style scoped>\n",
       "    .dataframe tbody tr th:only-of-type {\n",
       "        vertical-align: middle;\n",
       "    }\n",
       "\n",
       "    .dataframe tbody tr th {\n",
       "        vertical-align: top;\n",
       "    }\n",
       "\n",
       "    .dataframe thead th {\n",
       "        text-align: right;\n",
       "    }\n",
       "</style>\n",
       "<table border=\"1\" class=\"dataframe\">\n",
       "  <thead>\n",
       "    <tr style=\"text-align: right;\">\n",
       "      <th></th>\n",
       "      <th>state_fips</th>\n",
       "      <th>state</th>\n",
       "      <th>state_abbr</th>\n",
       "      <th>zipcode</th>\n",
       "      <th>county</th>\n",
       "      <th>city</th>\n",
       "    </tr>\n",
       "  </thead>\n",
       "  <tbody>\n",
       "    <tr>\n",
       "      <th>0</th>\n",
       "      <td>1</td>\n",
       "      <td>Alabama</td>\n",
       "      <td>AL</td>\n",
       "      <td>35004</td>\n",
       "      <td>St. Clair</td>\n",
       "      <td>Acmar</td>\n",
       "    </tr>\n",
       "    <tr>\n",
       "      <th>1</th>\n",
       "      <td>1</td>\n",
       "      <td>Alabama</td>\n",
       "      <td>AL</td>\n",
       "      <td>35005</td>\n",
       "      <td>Jefferson</td>\n",
       "      <td>Adamsville</td>\n",
       "    </tr>\n",
       "    <tr>\n",
       "      <th>2</th>\n",
       "      <td>1</td>\n",
       "      <td>Alabama</td>\n",
       "      <td>AL</td>\n",
       "      <td>35006</td>\n",
       "      <td>Jefferson</td>\n",
       "      <td>Adger</td>\n",
       "    </tr>\n",
       "    <tr>\n",
       "      <th>3</th>\n",
       "      <td>1</td>\n",
       "      <td>Alabama</td>\n",
       "      <td>AL</td>\n",
       "      <td>35007</td>\n",
       "      <td>Shelby</td>\n",
       "      <td>Keystone</td>\n",
       "    </tr>\n",
       "    <tr>\n",
       "      <th>4</th>\n",
       "      <td>1</td>\n",
       "      <td>Alabama</td>\n",
       "      <td>AL</td>\n",
       "      <td>35010</td>\n",
       "      <td>Tallapoosa</td>\n",
       "      <td>New site</td>\n",
       "    </tr>\n",
       "  </tbody>\n",
       "</table>\n",
       "</div>"
      ],
      "text/plain": [
       "   state_fips    state state_abbr zipcode      county        city\n",
       "0           1  Alabama         AL   35004   St. Clair       Acmar\n",
       "1           1  Alabama         AL   35005   Jefferson  Adamsville\n",
       "2           1  Alabama         AL   35006   Jefferson       Adger\n",
       "3           1  Alabama         AL   35007      Shelby    Keystone\n",
       "4           1  Alabama         AL   35010  Tallapoosa    New site"
      ]
     },
     "execution_count": 13,
     "metadata": {},
     "output_type": "execute_result"
    }
   ],
   "source": [
    "geo_data_url = 'https://raw.githubusercontent.com/scpike/us-state-county-zip/master/geo-data.csv'\n",
    "df_geo = pd.read_csv(geo_data_url)\n",
    "print('Num of rows:', len(df_geo))\n",
    "print('Num of columns:', len(df_geo.columns))\n",
    "df_geo.head()"
   ]
  },
  {
   "cell_type": "code",
   "execution_count": 14,
   "metadata": {},
   "outputs": [
    {
     "name": "stdout",
     "output_type": "stream",
     "text": [
      "Dataset:\n",
      "valid_zip_code\n",
      "False     1\n",
      "True     29\n",
      "Name: zipcode, dtype: int64\n",
      " \n",
      "Invalid zip codes: ['957XX']\n"
     ]
    }
   ],
   "source": [
    "\n",
    "# filter on single county\n",
    "df_geo_county = df_geo.loc[(df_geo['state_abbr'] == 'CA') &\n",
    "                           (df_geo['county'] == 'Placer')]\n",
    "\n",
    "\n",
    "# create feature to check if zip code is valid\n",
    "df_geo_county['valid_zip_code'] = df_geo_county.apply(lambda x: x['zipcode'].isnumeric(), axis=1)\n",
    "print('Dataset:')\n",
    "print(df_geo_county.groupby(['valid_zip_code'])['zipcode'].count())\n",
    "print(' ')\n",
    "print('Invalid zip codes:', df_geo_county.loc[df_geo_county['valid_zip_code'] == False]['zipcode'].unique())\n",
    "\n",
    "\n",
    "\n",
    "\n",
    "\n"
   ]
  },
  {
   "cell_type": "code",
   "execution_count": 15,
   "metadata": {},
   "outputs": [
    {
     "name": "stdout",
     "output_type": "stream",
     "text": [
      "Num of VALID zip codes: 29\n"
     ]
    },
    {
     "data": {
      "text/html": [
       "<div>\n",
       "<style scoped>\n",
       "    .dataframe tbody tr th:only-of-type {\n",
       "        vertical-align: middle;\n",
       "    }\n",
       "\n",
       "    .dataframe tbody tr th {\n",
       "        vertical-align: top;\n",
       "    }\n",
       "\n",
       "    .dataframe thead th {\n",
       "        text-align: right;\n",
       "    }\n",
       "</style>\n",
       "<table border=\"1\" class=\"dataframe\">\n",
       "  <thead>\n",
       "    <tr style=\"text-align: right;\">\n",
       "      <th></th>\n",
       "      <th>state_fips</th>\n",
       "      <th>state</th>\n",
       "      <th>state_abbr</th>\n",
       "      <th>zipcode</th>\n",
       "      <th>county</th>\n",
       "      <th>city</th>\n",
       "      <th>valid_zip_code</th>\n",
       "    </tr>\n",
       "  </thead>\n",
       "  <tbody>\n",
       "    <tr>\n",
       "      <th>3337</th>\n",
       "      <td>6</td>\n",
       "      <td>California</td>\n",
       "      <td>CA</td>\n",
       "      <td>95602</td>\n",
       "      <td>Placer</td>\n",
       "      <td>Auburn</td>\n",
       "      <td>True</td>\n",
       "    </tr>\n",
       "    <tr>\n",
       "      <th>3338</th>\n",
       "      <td>6</td>\n",
       "      <td>California</td>\n",
       "      <td>CA</td>\n",
       "      <td>95603</td>\n",
       "      <td>Placer</td>\n",
       "      <td>Auburn</td>\n",
       "      <td>True</td>\n",
       "    </tr>\n",
       "    <tr>\n",
       "      <th>3361</th>\n",
       "      <td>6</td>\n",
       "      <td>California</td>\n",
       "      <td>CA</td>\n",
       "      <td>95631</td>\n",
       "      <td>Placer</td>\n",
       "      <td>Foresthill</td>\n",
       "      <td>True</td>\n",
       "    </tr>\n",
       "    <tr>\n",
       "      <th>3375</th>\n",
       "      <td>6</td>\n",
       "      <td>California</td>\n",
       "      <td>CA</td>\n",
       "      <td>95648</td>\n",
       "      <td>Placer</td>\n",
       "      <td>Lincoln</td>\n",
       "      <td>True</td>\n",
       "    </tr>\n",
       "    <tr>\n",
       "      <th>3376</th>\n",
       "      <td>6</td>\n",
       "      <td>California</td>\n",
       "      <td>CA</td>\n",
       "      <td>95650</td>\n",
       "      <td>Placer</td>\n",
       "      <td>Loomis</td>\n",
       "      <td>True</td>\n",
       "    </tr>\n",
       "  </tbody>\n",
       "</table>\n",
       "</div>"
      ],
      "text/plain": [
       "      state_fips       state state_abbr zipcode  county        city  \\\n",
       "3337           6  California         CA   95602  Placer      Auburn   \n",
       "3338           6  California         CA   95603  Placer      Auburn   \n",
       "3361           6  California         CA   95631  Placer  Foresthill   \n",
       "3375           6  California         CA   95648  Placer     Lincoln   \n",
       "3376           6  California         CA   95650  Placer      Loomis   \n",
       "\n",
       "      valid_zip_code  \n",
       "3337            True  \n",
       "3338            True  \n",
       "3361            True  \n",
       "3375            True  \n",
       "3376            True  "
      ]
     },
     "execution_count": 15,
     "metadata": {},
     "output_type": "execute_result"
    }
   ],
   "source": [
    "# filter on only valid zip codes\n",
    "df_geo_county_valid = df_geo_county.loc[df_geo_county['valid_zip_code'] == True]\n",
    "print('Num of VALID zip codes:', len(df_geo_county_valid))\n",
    "df_geo_county_valid.head()"
   ]
  },
  {
   "cell_type": "markdown",
   "metadata": {},
   "source": [
    "##### <font color=\"blue\"> Splitting all zips. <font>"
   ]
  },
  {
   "cell_type": "code",
   "execution_count": 16,
   "metadata": {
    "scrolled": true,
    "tags": []
   },
   "outputs": [
    {
     "name": "stdout",
     "output_type": "stream",
     "text": [
      "Getting data for zipcode: 90001\n",
      "**Error in retrieving data for: 90001\n",
      "Getting data for zipcode: 90002\n",
      "**Error in retrieving data for: 90002\n",
      "Getting data for zipcode: 90003\n",
      "**Error in retrieving data for: 90003\n",
      "Getting data for zipcode: 90004\n",
      "**Error in retrieving data for: 90004\n",
      "Getting data for zipcode: 90005\n",
      "**Error in retrieving data for: 90005\n",
      "Getting data for zipcode: 90006\n",
      "**Error in retrieving data for: 90006\n",
      "Getting data for zipcode: 90007\n",
      "**Error in retrieving data for: 90007\n",
      "Getting data for zipcode: 90008\n",
      "**Error in retrieving data for: 90008\n",
      "Getting data for zipcode: 90010\n",
      "**Error in retrieving data for: 90010\n",
      "Getting data for zipcode: 90011\n",
      "**Error in retrieving data for: 90011\n",
      "Getting data for zipcode: 90012\n",
      "**Error in retrieving data for: 90012\n",
      "Getting data for zipcode: 90013\n",
      "**Error in retrieving data for: 90013\n",
      "Getting data for zipcode: 90014\n",
      "**Error in retrieving data for: 90014\n",
      "Getting data for zipcode: 90015\n",
      "**Error in retrieving data for: 90015\n",
      "Getting data for zipcode: 90016\n",
      "**Error in retrieving data for: 90016\n"
     ]
    },
    {
     "ename": "KeyboardInterrupt",
     "evalue": "",
     "output_type": "error",
     "traceback": [
      "\u001b[0;31m---------------------------------------------------------------------------\u001b[0m",
      "\u001b[0;31mKeyboardInterrupt\u001b[0m                         Traceback (most recent call last)",
      "\u001b[0;32m/var/folders/3j/my4n0ykx0yb51nj_xv6qbxp40000gn/T/ipykernel_16784/3362123972.py\u001b[0m in \u001b[0;36m<module>\u001b[0;34m\u001b[0m\n\u001b[1;32m     35\u001b[0m         \u001b[0mprint\u001b[0m\u001b[0;34m(\u001b[0m\u001b[0;34m'**Error in retrieving data for:'\u001b[0m\u001b[0;34m,\u001b[0m \u001b[0mzip_code\u001b[0m\u001b[0;34m)\u001b[0m\u001b[0;34m\u001b[0m\u001b[0;34m\u001b[0m\u001b[0m\n\u001b[1;32m     36\u001b[0m \u001b[0;34m\u001b[0m\u001b[0m\n\u001b[0;32m---> 37\u001b[0;31m       \u001b[0mtime\u001b[0m\u001b[0;34m.\u001b[0m\u001b[0msleep\u001b[0m\u001b[0;34m(\u001b[0m\u001b[0;36m1\u001b[0m\u001b[0;34m)\u001b[0m \u001b[0;31m# pause for 2 seconds (max 2 requests per second)\u001b[0m\u001b[0;34m\u001b[0m\u001b[0;34m\u001b[0m\u001b[0m\n\u001b[0m\u001b[1;32m     38\u001b[0m     \u001b[0m_all_zips\u001b[0m\u001b[0;34m.\u001b[0m\u001b[0mupdate\u001b[0m\u001b[0;34m(\u001b[0m\u001b[0m_df_latest_list\u001b[0m\u001b[0;34m)\u001b[0m\u001b[0;34m\u001b[0m\u001b[0;34m\u001b[0m\u001b[0m\n",
      "\u001b[0;31mKeyboardInterrupt\u001b[0m: "
     ]
    }
   ],
   "source": [
    "_all_zips = {}\n",
    "\n",
    "\n",
    "for county in zips:\n",
    "    df_geo_county = df_geo.loc[(df_geo['state_abbr'] == 'CA') &\n",
    "                     (df_geo['county'] == county)]\n",
    "    df_geo_county['valid_zip_code'] = df_geo_county.apply(lambda x: x['zipcode'].isnumeric(), axis=1)\n",
    "    df_geo_county_valid = df_geo_county.loc[df_geo_county['valid_zip_code'] == True]\n",
    "\n",
    "                                                          \n",
    "                                                          \n",
    "    _df_latest_list = {}\n",
    "    _df_historical_list = []                                                      \n",
    "# iterate through each zip code in the list\n",
    "    for zip_code in df_geo_county_valid['zipcode'].tolist():\n",
    "      print('Getting data for zipcode:', zip_code)\n",
    "\n",
    "      # for each zip code get rental data\n",
    "      zip_code=int(zip_code)\n",
    "      response = get_rental_market_data(rapid_api_key, zip_code)\n",
    "\n",
    "      try:\n",
    "\n",
    "        # transform response\n",
    "        # 1) latest rental data\n",
    "        _df_latest = get_latest_rental_data(response)\n",
    "        _df_latest_list[zip_code] = _df_latest.iloc[0,-1]\n",
    "\n",
    "        # 2) historical rental data\n",
    "        _df_historical = get_historical_rental_data(response)\n",
    "        _df_historical_list.append(_df_historical)\n",
    "\n",
    "      except:\n",
    "\n",
    "        print('**Error in retrieving data for:', zip_code)\n",
    "\n",
    "      time.sleep(1) # pause for 2 seconds (max 2 requests per second)\n",
    "    _all_zips.update(_df_latest_list)"
   ]
  },
  {
   "cell_type": "markdown",
   "metadata": {},
   "source": [
    "## <font color=\"blue\">Combining Data and Exporting<fong>\n",
    "---"
   ]
  },
  {
   "cell_type": "markdown",
   "metadata": {},
   "source": [
    "##### <font color=\"blue\">This for exporting the data. Created by Ben Mathis.<font>"
   ]
  },
  {
   "cell_type": "code",
   "execution_count": 109,
   "metadata": {},
   "outputs": [],
   "source": [
    "flattened_zips = {}\n",
    "\n",
    "for k, v in _all_zips.items():\n",
    "    new_columns = {}\n",
    "\n",
    "    bed = 0\n",
    "\n",
    "    for entry in v:\n",
    "        if bed > 5 or entry['bedrooms'] > 5:\n",
    "            \n",
    "            break\n",
    "\n",
    "        if entry['bedrooms'] > bed:\n",
    "            \n",
    "            bed = entry['bedrooms']\n",
    "\n",
    "        next_entry = {}\n",
    "\n",
    "        for k2, v2 in entry.items():\n",
    "            if k2 != 'bedrooms':\n",
    "                next_entry[f'bed{bed}_'+k2] = v2\n",
    "\n",
    "        new_columns.update(next_entry)\n",
    "       \n",
    "    flattened_zips[k] = new_columns"
   ]
  },
  {
   "cell_type": "code",
   "execution_count": 110,
   "metadata": {},
   "outputs": [],
   "source": [
    "fz = pd.DataFrame(flattened_zips)"
   ]
  },
  {
   "cell_type": "code",
   "execution_count": 121,
   "metadata": {},
   "outputs": [
    {
     "data": {
      "text/plain": [
       "90001     4\n",
       "90010     4\n",
       "90012     4\n",
       "90013     8\n",
       "90014     4\n",
       "         ..\n",
       "95388    16\n",
       "95612    20\n",
       "95627    16\n",
       "95645    20\n",
       "95694     4\n",
       "Length: 734, dtype: int64"
      ]
     },
     "execution_count": 121,
     "metadata": {},
     "output_type": "execute_result"
    }
   ],
   "source": [
    "fz.isna().sum()[fz.isna().sum() > 0]"
   ]
  },
  {
   "cell_type": "code",
   "execution_count": 133,
   "metadata": {},
   "outputs": [],
   "source": [
    "#Export\n",
    "fz.to_csv('data/cleaned/rent.csv')"
   ]
  }
 ],
 "metadata": {
  "colab": {
   "authorship_tag": "ABX9TyNsM2pCbPgxMoqYcToP3AaF",
   "include_colab_link": true,
   "name": "Analyze Rent Data by Zip Code in Python.ipynb",
   "provenance": []
  },
  "kernelspec": {
   "display_name": "Python 3.9.7 ('DSI')",
   "language": "python",
   "name": "python3"
  },
  "language_info": {
   "codemirror_mode": {
    "name": "ipython",
    "version": 3
   },
   "file_extension": ".py",
   "mimetype": "text/x-python",
   "name": "python",
   "nbconvert_exporter": "python",
   "pygments_lexer": "ipython3",
   "version": "3.9.7"
  },
  "vscode": {
   "interpreter": {
    "hash": "b4d6332538adc0f67df4f4e8d60068b20453d8fcecb090a715006aaedd7cb3da"
   }
  }
 },
 "nbformat": 4,
 "nbformat_minor": 4
}
