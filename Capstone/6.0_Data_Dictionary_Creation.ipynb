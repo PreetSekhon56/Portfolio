{
 "cells": [
  {
   "cell_type": "markdown",
   "metadata": {},
   "source": [
    "## <font color=\"blue\">6.0 - Cash Flow: Data Dictionary Creation<font>\n",
    "---\n",
    "This code was used to streamline the process for creating a Data Dictionary. Thank you P-Easter!\n",
    "\n",
    "https://github.com/p-easter/Python_DataDictionary/blob/main/README.md"
   ]
  },
  {
   "cell_type": "markdown",
   "metadata": {},
   "source": [
    "##### <font color=\"blue\">Imports<font>\n",
    "---"
   ]
  },
  {
   "cell_type": "code",
   "execution_count": 1,
   "metadata": {},
   "outputs": [],
   "source": [
    "import pandas as pd"
   ]
  },
  {
   "cell_type": "code",
   "execution_count": 5,
   "metadata": {},
   "outputs": [],
   "source": [
    "df  = pd.read_parquet('data/cleaned/df_final_2.0.parquet')"
   ]
  },
  {
   "cell_type": "code",
   "execution_count": 6,
   "metadata": {},
   "outputs": [
    {
     "name": "stdout",
     "output_type": "stream",
     "text": [
      "                    Type Length Null_Count Size(Memory) Definition\n",
      "address           object  14499          0       115992           \n",
      "city              object  14499          0       115992           \n",
      "zip                Int64  14499          0       130491           \n",
      "apn               object  14499          0       115992           \n",
      "building_sqft    float64  14499          0       115992           \n",
      "...                  ...    ...        ...          ...        ...\n",
      "county__Sutter     uint8  14499          0        14499           \n",
      "county__Tulare     uint8  14499          0        14499           \n",
      "county__Ventura    uint8  14499          0        14499           \n",
      "county__Yolo       uint8  14499          0        14499           \n",
      "county__Yuba       uint8  14499          0        14499           \n",
      "\n",
      "[262 rows x 5 columns]\n"
     ]
    }
   ],
   "source": [
    "class create_data_dictionary:\n",
    "\n",
    "    def __init__(self):\n",
    "        '''This class provides functions to quickly develop a data dictionary for your data set'''\n",
    "        return None\n",
    "\n",
    "    def make_my_data_dictionary(self, dataFrame):\n",
    "        '''Create an initial data dictionary excluding definitions for meaning of features'''\n",
    "\n",
    "        col_ = dataFrame.columns\n",
    "        df_DataDict = {}\n",
    "\n",
    "        for col in col_:\n",
    "                df_DataDict[col] = {\n",
    "                               'Type': str(df.dtypes[col]),\n",
    "                               'Length': len(df[col]),\n",
    "                               'Null_Count': sum(df[col].isna()),\n",
    "                               'Size(Memory)': df.memory_usage()[col],\n",
    "                               'Definition': str('')\n",
    "                                }\n",
    "\n",
    "        df_DD = pd.DataFrame(df_DataDict)\n",
    "\n",
    "        return df_DD\n",
    "\n",
    "    def define_data_meaning(self, df_data_dictionary):\n",
    "        '''Quickly provide input regarding each columns meaning and transpose into a usable dictionary'''\n",
    "\n",
    "        col_ = df_data_dictionary.columns\n",
    "        d = 'Definition'\n",
    "\n",
    "        for col in col_:\n",
    "            df_data_dictionary[col][d] = input('Provide a data definition for {}'.format(col))\n",
    "\n",
    "        df_data_dictionary = df_data_dictionary.transpose()\n",
    "\n",
    "        return df_data_dictionary\n",
    "\n",
    "    def update_dd_definition(self, df_data_dictionary, attribute):\n",
    "        try:\n",
    "            df_dd = df_data_dictionary.transpose()\n",
    "            df_dd[attribute]['Definition'] = input('Provide a data definition for {}'.format(attribute))\n",
    "            df_dd = df_dd.transpose()\n",
    "            return df_dd\n",
    "        except:\n",
    "            print('Sorry, there was an error.  Check attribute name and try again')\n",
    "\n",
    "#Example use case:\n",
    "\n",
    "dd = create_data_dictionary()\n",
    "df_dd = dd.make_my_data_dictionary(df)\n",
    "df_dd = dd.define_data_meaning(df_dd)\n",
    "\n",
    "print(df_dd)"
   ]
  },
  {
   "cell_type": "code",
   "execution_count": 7,
   "metadata": {},
   "outputs": [],
   "source": [
    "#Export to Excel for editing and then saved as a PDF\n",
    "df_dd.to_csv('Data/Cleaned/Data_Dictionary.csv')"
   ]
  }
 ],
 "metadata": {
  "kernelspec": {
   "display_name": "Python 3.9.7 ('DSI')",
   "language": "python",
   "name": "python3"
  },
  "language_info": {
   "codemirror_mode": {
    "name": "ipython",
    "version": 3
   },
   "file_extension": ".py",
   "mimetype": "text/x-python",
   "name": "python",
   "nbconvert_exporter": "python",
   "pygments_lexer": "ipython3",
   "version": "3.9.7"
  },
  "orig_nbformat": 4,
  "vscode": {
   "interpreter": {
    "hash": "b4d6332538adc0f67df4f4e8d60068b20453d8fcecb090a715006aaedd7cb3da"
   }
  }
 },
 "nbformat": 4,
 "nbformat_minor": 2
}
