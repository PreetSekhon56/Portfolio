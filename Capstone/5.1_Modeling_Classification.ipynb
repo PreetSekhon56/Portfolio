{
 "cells": [
  {
   "cell_type": "markdown",
   "metadata": {},
   "source": [
    "## <font color=\"blue\">5.1 - Cash Flow - Classification Modeling<font>\n",
    "---"
   ]
  },
  {
   "cell_type": "markdown",
   "metadata": {},
   "source": [
    "##### <font color=\"blue\">Imports<font>\n",
    "---"
   ]
  },
  {
   "cell_type": "code",
   "execution_count": 7,
   "metadata": {},
   "outputs": [],
   "source": [
    "import pandas as pd\n",
    "import numpy as np\n",
    "import math\n",
    "import pickle\n",
    "import matplotlib.pyplot as plt\n",
    "\n",
    "from sklearn.model_selection import train_test_split\n",
    "from sklearn.linear_model import LogisticRegression, Lasso\n",
    "from sklearn.model_selection import GridSearchCV\n",
    "from sklearn.ensemble import RandomForestClassifier\n",
    "from sklearn.preprocessing import PolynomialFeatures, StandardScaler\n",
    "from sklearn.inspection import permutation_importance\n",
    "from sklearn.decomposition import PCA\n",
    "from sklearn.pipeline import Pipeline\n",
    "from imblearn.combine import SMOTEENN\n",
    "from sklearn.metrics import confusion_matrix, ConfusionMatrixDisplay\n",
    "from sklearn.metrics import brier_score_loss, make_scorer, confusion_matrix, precision_score\n",
    "\n",
    "from skopt.space import Real, Categorical, Integer\n",
    "from skopt import BayesSearchCV\n",
    "from imblearn.combine import SMOTEENN\n",
    "from xgboost import XGBClassifier\n",
    "\n",
    "\n",
    "\n",
    "pd.set_option('display.max_columns', None)\n",
    "pd.set_option('display.max_rows', None)\n",
    "\n",
    "import warnings\n",
    "warnings.simplefilter(action='ignore', category=FutureWarning)"
   ]
  },
  {
   "cell_type": "code",
   "execution_count": 8,
   "metadata": {},
   "outputs": [],
   "source": [
    "#Read in file\n",
    "df = pd.read_parquet('data/cleaned/df_final_3.0.parquet')\n",
    "\n",
    "df.columns = df.columns.str.replace('<', '')\n",
    "\n",
    "#Removing of unnecessary columns\n",
    "bad_corr = ['address', 'city', 'zip', 'apn', 'min_cfp', 'avg_cfp', 'max_cfp', 'min_coc',\n",
    "            'max_coc', 'min_annual_rent', 'avg_annual_rent', 'max_annual_rent', 'mls_amount', 'mls_date', 'today', \n",
    "            'costs', 'est._value', 'total_assessed_value', 'price_per_sqft', 'principal', 'mortgage',\n",
    "            'avg_coc']         \n",
    "dfc = df.drop(bad_corr, axis = 1)\n",
    "\n",
    "\n",
    "#Setting Variables\n",
    "X = dfc.drop('target_cfp', axis = 1)\n",
    "y = dfc['target_cfp']\n",
    "\n",
    "\n",
    "\n",
    "# fit and apply the transform\n",
    "smtn = SMOTEENN()\n",
    "X_smoteenn, y_smoteenn = smtn.fit_resample(X, y)\n",
    "\n",
    "\n",
    "#Train/Test/Split\n",
    "X_train, X_test, y_train, y_test = train_test_split(X_smoteenn, y_smoteenn, test_size=0.2, random_state=42)\n"
   ]
  },
  {
   "cell_type": "code",
   "execution_count": 10,
   "metadata": {},
   "outputs": [
    {
     "data": {
      "text/plain": [
       "0    0.944272\n",
       "1    0.055728\n",
       "Name: target_cfp, dtype: float64"
      ]
     },
     "execution_count": 10,
     "metadata": {},
     "output_type": "execute_result"
    }
   ],
   "source": [
    "df['target_cfp'].value_counts(normalize=True)"
   ]
  },
  {
   "cell_type": "markdown",
   "metadata": {},
   "source": [
    "##### <font color=\"blue\">Logistic Regression with BayesSearchCV<font>\n",
    "---"
   ]
  },
  {
   "cell_type": "code",
   "execution_count": 11,
   "metadata": {},
   "outputs": [],
   "source": [
    "brier_score = make_scorer(brier_score_loss,greater_is_better=False,needs_proba=True)"
   ]
  },
  {
   "cell_type": "code",
   "execution_count": 13,
   "metadata": {},
   "outputs": [
    {
     "data": {
      "text/html": [
       "<style>#sk-container-id-1 {color: black;background-color: white;}#sk-container-id-1 pre{padding: 0;}#sk-container-id-1 div.sk-toggleable {background-color: white;}#sk-container-id-1 label.sk-toggleable__label {cursor: pointer;display: block;width: 100%;margin-bottom: 0;padding: 0.3em;box-sizing: border-box;text-align: center;}#sk-container-id-1 label.sk-toggleable__label-arrow:before {content: \"▸\";float: left;margin-right: 0.25em;color: #696969;}#sk-container-id-1 label.sk-toggleable__label-arrow:hover:before {color: black;}#sk-container-id-1 div.sk-estimator:hover label.sk-toggleable__label-arrow:before {color: black;}#sk-container-id-1 div.sk-toggleable__content {max-height: 0;max-width: 0;overflow: hidden;text-align: left;background-color: #f0f8ff;}#sk-container-id-1 div.sk-toggleable__content pre {margin: 0.2em;color: black;border-radius: 0.25em;background-color: #f0f8ff;}#sk-container-id-1 input.sk-toggleable__control:checked~div.sk-toggleable__content {max-height: 200px;max-width: 100%;overflow: auto;}#sk-container-id-1 input.sk-toggleable__control:checked~label.sk-toggleable__label-arrow:before {content: \"▾\";}#sk-container-id-1 div.sk-estimator input.sk-toggleable__control:checked~label.sk-toggleable__label {background-color: #d4ebff;}#sk-container-id-1 div.sk-label input.sk-toggleable__control:checked~label.sk-toggleable__label {background-color: #d4ebff;}#sk-container-id-1 input.sk-hidden--visually {border: 0;clip: rect(1px 1px 1px 1px);clip: rect(1px, 1px, 1px, 1px);height: 1px;margin: -1px;overflow: hidden;padding: 0;position: absolute;width: 1px;}#sk-container-id-1 div.sk-estimator {font-family: monospace;background-color: #f0f8ff;border: 1px dotted black;border-radius: 0.25em;box-sizing: border-box;margin-bottom: 0.5em;}#sk-container-id-1 div.sk-estimator:hover {background-color: #d4ebff;}#sk-container-id-1 div.sk-parallel-item::after {content: \"\";width: 100%;border-bottom: 1px solid gray;flex-grow: 1;}#sk-container-id-1 div.sk-label:hover label.sk-toggleable__label {background-color: #d4ebff;}#sk-container-id-1 div.sk-serial::before {content: \"\";position: absolute;border-left: 1px solid gray;box-sizing: border-box;top: 0;bottom: 0;left: 50%;z-index: 0;}#sk-container-id-1 div.sk-serial {display: flex;flex-direction: column;align-items: center;background-color: white;padding-right: 0.2em;padding-left: 0.2em;position: relative;}#sk-container-id-1 div.sk-item {position: relative;z-index: 1;}#sk-container-id-1 div.sk-parallel {display: flex;align-items: stretch;justify-content: center;background-color: white;position: relative;}#sk-container-id-1 div.sk-item::before, #sk-container-id-1 div.sk-parallel-item::before {content: \"\";position: absolute;border-left: 1px solid gray;box-sizing: border-box;top: 0;bottom: 0;left: 50%;z-index: -1;}#sk-container-id-1 div.sk-parallel-item {display: flex;flex-direction: column;z-index: 1;position: relative;background-color: white;}#sk-container-id-1 div.sk-parallel-item:first-child::after {align-self: flex-end;width: 50%;}#sk-container-id-1 div.sk-parallel-item:last-child::after {align-self: flex-start;width: 50%;}#sk-container-id-1 div.sk-parallel-item:only-child::after {width: 0;}#sk-container-id-1 div.sk-dashed-wrapped {border: 1px dashed gray;margin: 0 0.4em 0.5em 0.4em;box-sizing: border-box;padding-bottom: 0.4em;background-color: white;}#sk-container-id-1 div.sk-label label {font-family: monospace;font-weight: bold;display: inline-block;line-height: 1.2em;}#sk-container-id-1 div.sk-label-container {text-align: center;}#sk-container-id-1 div.sk-container {/* jupyter's `normalize.less` sets `[hidden] { display: none; }` but bootstrap.min.css set `[hidden] { display: none !important; }` so we also need the `!important` here to be able to override the default hidden behavior on the sphinx rendered scikit-learn.org. See: https://github.com/scikit-learn/scikit-learn/issues/21755 */display: inline-block !important;position: relative;}#sk-container-id-1 div.sk-text-repr-fallback {display: none;}</style><div id=\"sk-container-id-1\" class=\"sk-top-container\"><div class=\"sk-text-repr-fallback\"><pre>BayesSearchCV(cv=5, estimator=LogisticRegression(max_iter=10000), n_jobs=-1,\n",
       "              scoring=make_scorer(brier_score_loss, greater_is_better=False, needs_proba=True),\n",
       "              search_spaces={&#x27;C&#x27;: Real(low=1e-06, high=10, prior=&#x27;log-uniform&#x27;, transform=&#x27;normalize&#x27;),\n",
       "                             &#x27;penalty&#x27;: Categorical(categories=(&#x27;l1&#x27;,), prior=None),\n",
       "                             &#x27;solver&#x27;: Categorical(categories=(&#x27;saga&#x27;,), prior=None)})</pre><b>In a Jupyter environment, please rerun this cell to show the HTML representation or trust the notebook. <br />On GitHub, the HTML representation is unable to render, please try loading this page with nbviewer.org.</b></div><div class=\"sk-container\" hidden><div class=\"sk-item sk-dashed-wrapped\"><div class=\"sk-label-container\"><div class=\"sk-label sk-toggleable\"><input class=\"sk-toggleable__control sk-hidden--visually\" id=\"sk-estimator-id-1\" type=\"checkbox\" ><label for=\"sk-estimator-id-1\" class=\"sk-toggleable__label sk-toggleable__label-arrow\">BayesSearchCV</label><div class=\"sk-toggleable__content\"><pre>BayesSearchCV(cv=5, estimator=LogisticRegression(max_iter=10000), n_jobs=-1,\n",
       "              scoring=make_scorer(brier_score_loss, greater_is_better=False, needs_proba=True),\n",
       "              search_spaces={&#x27;C&#x27;: Real(low=1e-06, high=10, prior=&#x27;log-uniform&#x27;, transform=&#x27;normalize&#x27;),\n",
       "                             &#x27;penalty&#x27;: Categorical(categories=(&#x27;l1&#x27;,), prior=None),\n",
       "                             &#x27;solver&#x27;: Categorical(categories=(&#x27;saga&#x27;,), prior=None)})</pre></div></div></div><div class=\"sk-parallel\"><div class=\"sk-parallel-item\"><div class=\"sk-item\"><div class=\"sk-label-container\"><div class=\"sk-label sk-toggleable\"><input class=\"sk-toggleable__control sk-hidden--visually\" id=\"sk-estimator-id-2\" type=\"checkbox\" ><label for=\"sk-estimator-id-2\" class=\"sk-toggleable__label sk-toggleable__label-arrow\">estimator: LogisticRegression</label><div class=\"sk-toggleable__content\"><pre>LogisticRegression(max_iter=10000)</pre></div></div></div><div class=\"sk-serial\"><div class=\"sk-item\"><div class=\"sk-estimator sk-toggleable\"><input class=\"sk-toggleable__control sk-hidden--visually\" id=\"sk-estimator-id-3\" type=\"checkbox\" ><label for=\"sk-estimator-id-3\" class=\"sk-toggleable__label sk-toggleable__label-arrow\">LogisticRegression</label><div class=\"sk-toggleable__content\"><pre>LogisticRegression(max_iter=10000)</pre></div></div></div></div></div></div></div></div></div></div>"
      ],
      "text/plain": [
       "BayesSearchCV(cv=5, estimator=LogisticRegression(max_iter=10000), n_jobs=-1,\n",
       "              scoring=make_scorer(brier_score_loss, greater_is_better=False, needs_proba=True),\n",
       "              search_spaces={'C': Real(low=1e-06, high=10, prior='log-uniform', transform='normalize'),\n",
       "                             'penalty': Categorical(categories=('l1',), prior=None),\n",
       "                             'solver': Categorical(categories=('saga',), prior=None)})"
      ]
     },
     "execution_count": 13,
     "metadata": {},
     "output_type": "execute_result"
    }
   ],
   "source": [
    "lr = LogisticRegression(max_iter = 10000)\n",
    "bayes = BayesSearchCV(lr,scoring=brier_score,\n",
    "                      search_spaces = {'penalty': Categorical(['l1']),\n",
    "                                        'solver': Categorical(['saga']),\n",
    "                                        \"C\": Real(1e-6, 10, prior='log-uniform')},   \n",
    "                     cv= 5,\n",
    "                     n_jobs = -1)\n",
    "bayes.fit(X_train,y_train)   "
   ]
  },
  {
   "cell_type": "code",
   "execution_count": 14,
   "metadata": {},
   "outputs": [],
   "source": [
    "pickle.dump(bayes,open('data/Pickles/lr_bayes.pkl', 'wb'))"
   ]
  },
  {
   "cell_type": "code",
   "execution_count": 17,
   "metadata": {},
   "outputs": [],
   "source": [
    "bayes = pickle.load(open('data/Pickles/lr_bayes.pkl', 'rb'))\n",
    "\n",
    "pickle.dump(lr_coef_df,open('data/Pickles/lr_coef_df.pkl', 'wb'))\n"
   ]
  },
  {
   "cell_type": "code",
   "execution_count": 16,
   "metadata": {},
   "outputs": [],
   "source": [
    "lr_coef_df = pickle.load(open('data/Pickles/lr_coef_df.pkl', 'rb'))"
   ]
  },
  {
   "cell_type": "code",
   "execution_count": 28,
   "metadata": {},
   "outputs": [
    {
     "name": "stdout",
     "output_type": "stream",
     "text": [
      "0.2056810516851926\n",
      "0.20462954171440462\n",
      "#############################\n",
      "0.6964130569690952\n",
      "0.693089430894309\n"
     ]
    },
    {
     "data": {
      "image/png": "[encoded data removed]",
      "text/plain": [
       "<Figure size 432x288 with 2 Axes>"
      ]
     },
     "metadata": {
      "needs_background": "light"
     },
     "output_type": "display_data"
    }
   ],
   "source": [
    "print(-bayes.score(X_train,y_train))\n",
    "print(-bayes.score(X_test,y=y_test))\n",
    "print(\"#############################\")\n",
    "print(precision_score(y_train,bayes.predict(X_train)))\n",
    "print(precision_score(y_test,bayes.predict(X_test)))\n",
    "\n",
    "\n",
    "predictions = bayes.predict(X_test)\n",
    "cm = confusion_matrix(y_test, predictions, labels=bayes.classes_)\n",
    "disp = ConfusionMatrixDisplay(confusion_matrix=cm,\n",
    "                               display_labels=['CFN', 'TCFP'])\n",
    "disp.plot()\n",
    "plt.title(\"Logistic Regression Bayes Search\")\n",
    "plt.savefig('Plots/CM.logreg.png',dpi=300, bbox_inches = \"tight\")"
   ]
  },
  {
   "cell_type": "code",
   "execution_count": 19,
   "metadata": {},
   "outputs": [
    {
     "data": {
      "text/html": [
       "<div>\n",
       "<style scoped>\n",
       "    .dataframe tbody tr th:only-of-type {\n",
       "        vertical-align: middle;\n",
       "    }\n",
       "\n",
       "    .dataframe tbody tr th {\n",
       "        vertical-align: top;\n",
       "    }\n",
       "\n",
       "    .dataframe thead th {\n",
       "        text-align: right;\n",
       "    }\n",
       "</style>\n",
       "<table border=\"1\" class=\"dataframe\">\n",
       "  <thead>\n",
       "    <tr style=\"text-align: right;\">\n",
       "      <th></th>\n",
       "      <th>coef</th>\n",
       "      <th>odd_ratio</th>\n",
       "    </tr>\n",
       "  </thead>\n",
       "  <tbody>\n",
       "    <tr>\n",
       "      <th>median_hh_income_white</th>\n",
       "      <td>0.000038</td>\n",
       "      <td>1.000038</td>\n",
       "    </tr>\n",
       "    <tr>\n",
       "      <th>2021_registered_voters</th>\n",
       "      <td>0.000018</td>\n",
       "      <td>1.000018</td>\n",
       "    </tr>\n",
       "    <tr>\n",
       "      <th>2020_mail_voters</th>\n",
       "      <td>0.000012</td>\n",
       "      <td>1.000012</td>\n",
       "    </tr>\n",
       "    <tr>\n",
       "      <th>w_hh_income_$75,000_to_$99,999</th>\n",
       "      <td>0.000011</td>\n",
       "      <td>1.000011</td>\n",
       "    </tr>\n",
       "    <tr>\n",
       "      <th>w_hh_income_$25,000_to_$29,999</th>\n",
       "      <td>0.000010</td>\n",
       "      <td>1.000010</td>\n",
       "    </tr>\n",
       "    <tr>\n",
       "      <th>population__5-9_years</th>\n",
       "      <td>0.000009</td>\n",
       "      <td>1.000009</td>\n",
       "    </tr>\n",
       "    <tr>\n",
       "      <th>w_hh_income_$40,000_to_$44,999</th>\n",
       "      <td>0.000009</td>\n",
       "      <td>1.000009</td>\n",
       "    </tr>\n",
       "    <tr>\n",
       "      <th>w_hh_income_$35,000_to_$39,999</th>\n",
       "      <td>0.000008</td>\n",
       "      <td>1.000008</td>\n",
       "    </tr>\n",
       "    <tr>\n",
       "      <th>population__55-59_years</th>\n",
       "      <td>0.000008</td>\n",
       "      <td>1.000008</td>\n",
       "    </tr>\n",
       "    <tr>\n",
       "      <th>population_70-74_years</th>\n",
       "      <td>0.000007</td>\n",
       "      <td>1.000007</td>\n",
       "    </tr>\n",
       "  </tbody>\n",
       "</table>\n",
       "</div>"
      ],
      "text/plain": [
       "                                    coef  odd_ratio\n",
       "median_hh_income_white          0.000038   1.000038\n",
       "2021_registered_voters          0.000018   1.000018\n",
       "2020_mail_voters                0.000012   1.000012\n",
       "w_hh_income_$75,000_to_$99,999  0.000011   1.000011\n",
       "w_hh_income_$25,000_to_$29,999  0.000010   1.000010\n",
       "population__5-9_years           0.000009   1.000009\n",
       "w_hh_income_$40,000_to_$44,999  0.000009   1.000009\n",
       "w_hh_income_$35,000_to_$39,999  0.000008   1.000008\n",
       "population__55-59_years         0.000008   1.000008\n",
       "population_70-74_years          0.000007   1.000007"
      ]
     },
     "execution_count": 19,
     "metadata": {},
     "output_type": "execute_result"
    }
   ],
   "source": [
    "lr_coef_df = pd.DataFrame(data=bayes.best_estimator_.coef_.reshape(-1,1),columns = ['coef'],index = X_train.columns).sort_values(by='coef',ascending=False)\n",
    "lr_coef_df['odd_ratio'] = lr_coef_df['coef'].apply(math.exp)\n",
    "lr_coef_df.head(10)"
   ]
  },
  {
   "cell_type": "code",
   "execution_count": 20,
   "metadata": {},
   "outputs": [
    {
     "name": "stdout",
     "output_type": "stream",
     "text": [
      "2021_eligible_to_register0.15006 +/- 0.007\n",
      "2020_eligible_to_register0.14946 +/- 0.007\n",
      "2021_total_voters0.13200 +/- 0.006\n",
      "2021_registered_voters0.12513 +/- 0.005\n",
      "2020_total_voters0.12289 +/- 0.006\n",
      "2021_mail_voters0.12187 +/- 0.005\n",
      "total_income0.11592 +/- 0.006\n",
      "2020_mail_voters0.11353 +/- 0.006\n",
      "2020_precinct_voters0.10963 +/- 0.005\n",
      "female_total_population0.10682 +/- 0.003\n",
      "passive_income0.10393 +/- 0.005\n",
      "2020_registered_voters0.10319 +/- 0.003\n",
      "w_hh_income_$200,000_or_more0.10112 +/- 0.006\n",
      "population_under_16_years_and_over0.09322 +/- 0.003\n",
      "active_income0.09233 +/- 0.003\n",
      "population__5-9_years0.08150 +/- 0.001\n",
      "population_10-14_years0.07658 +/- 0.003\n",
      "population_65_years_and_over0.07646 +/- 0.004\n",
      "population_75_years_and_over0.07438 +/- 0.005\n",
      "population_30-34_years0.07175 +/- 0.004\n",
      "population_50-54_years0.07150 +/- 0.003\n",
      "population_under_18-24_years0.06867 +/- 0.002\n",
      "se_income0.06354 +/- 0.003\n",
      "population_over_85_years0.06342 +/- 0.002\n",
      "population_25-29_years0.06219 +/- 0.004\n",
      "population__55-59_years0.05847 +/- 0.001\n",
      "population_under_18_years0.05609 +/- 0.002\n",
      "population_80-84_years0.05507 +/- 0.002\n",
      "population_45-49_years0.05456 +/- 0.002\n",
      "population_62_years_and_over0.05426 +/- 0.001\n",
      "population_35-39_years0.05425 +/- 0.002\n",
      "population_under_5_years0.05241 +/- 0.002\n",
      "population_under_15-44_years0.05081 +/- 0.001\n",
      "w_hh_income_$100,000_to_$124,9990.04897 +/- 0.002\n",
      "total_population0.04727 +/- 0.002\n",
      "population_60_years_and_over0.04551 +/- 0.001\n",
      "population_40-44_years0.04520 +/- 0.001\n",
      "population_60-64_years0.04415 +/- 0.001\n",
      "population_70-74_years0.04387 +/- 0.002\n",
      "population_15-19_years0.04213 +/- 0.001\n",
      "population_20-24_years0.04075 +/- 0.002\n",
      "population_75-79_years0.03604 +/- 0.002\n",
      "w_hh_income_$75,000_to_$99,9990.03472 +/- 0.002\n",
      "median_hh_income_white0.02551 +/- 0.003\n",
      "non_se_income0.02311 +/- 0.001\n",
      "median_hh_income_asian0.01349 +/- 0.003\n",
      "w_hh_income_$150,000_to_$199,9990.01077 +/- 0.003\n",
      "median_hh_income_b_aa0.01047 +/- 0.001\n",
      "w_hh_income_$60,000_to_$74,9990.01030 +/- 0.002\n",
      "population_under_15-17_years0.00897 +/- 0.002\n",
      "w_hh_income_$25,000_to_$29,9990.00393 +/- 0.001\n"
     ]
    }
   ],
   "source": [
    "r = permutation_importance(bayes,X_test,y_test,scoring='precision')\n",
    "\n",
    "for i in r.importances_mean.argsort()[::-1]:\n",
    "        if r.importances_mean[i] - 2 * r.importances_std[i] > 0:\n",
    "            print(f\"{X_test.columns[i]:<8}\"\n",
    "                  f\"{r.importances_mean[i]:.5f}\"\n",
    "                  f\" +/- {r.importances_std[i]:.3f}\")"
   ]
  },
  {
   "cell_type": "markdown",
   "metadata": {},
   "source": [
    "##### <font color=\"blue\">Random Forest Classifier with BayesSearchCV<font>\n",
    "---"
   ]
  },
  {
   "cell_type": "code",
   "execution_count": 21,
   "metadata": {},
   "outputs": [
    {
     "name": "stderr",
     "output_type": "stream",
     "text": [
      "/Users/preetsekhon/opt/anaconda3/envs/DSI/lib/python3.9/site-packages/skopt/optimizer/optimizer.py:449: UserWarning: The objective has been evaluated at this point before.\n",
      "  warnings.warn(\"The objective has been evaluated \"\n",
      "/Users/preetsekhon/opt/anaconda3/envs/DSI/lib/python3.9/site-packages/skopt/optimizer/optimizer.py:449: UserWarning: The objective has been evaluated at this point before.\n",
      "  warnings.warn(\"The objective has been evaluated \"\n",
      "/Users/preetsekhon/opt/anaconda3/envs/DSI/lib/python3.9/site-packages/skopt/optimizer/optimizer.py:449: UserWarning: The objective has been evaluated at this point before.\n",
      "  warnings.warn(\"The objective has been evaluated \"\n",
      "/Users/preetsekhon/opt/anaconda3/envs/DSI/lib/python3.9/site-packages/skopt/optimizer/optimizer.py:449: UserWarning: The objective has been evaluated at this point before.\n",
      "  warnings.warn(\"The objective has been evaluated \"\n",
      "/Users/preetsekhon/opt/anaconda3/envs/DSI/lib/python3.9/site-packages/skopt/optimizer/optimizer.py:449: UserWarning: The objective has been evaluated at this point before.\n",
      "  warnings.warn(\"The objective has been evaluated \"\n",
      "/Users/preetsekhon/opt/anaconda3/envs/DSI/lib/python3.9/site-packages/skopt/optimizer/optimizer.py:449: UserWarning: The objective has been evaluated at this point before.\n",
      "  warnings.warn(\"The objective has been evaluated \"\n",
      "/Users/preetsekhon/opt/anaconda3/envs/DSI/lib/python3.9/site-packages/skopt/optimizer/optimizer.py:449: UserWarning: The objective has been evaluated at this point before.\n",
      "  warnings.warn(\"The objective has been evaluated \"\n",
      "/Users/preetsekhon/opt/anaconda3/envs/DSI/lib/python3.9/site-packages/skopt/optimizer/optimizer.py:449: UserWarning: The objective has been evaluated at this point before.\n",
      "  warnings.warn(\"The objective has been evaluated \"\n",
      "/Users/preetsekhon/opt/anaconda3/envs/DSI/lib/python3.9/site-packages/skopt/optimizer/optimizer.py:449: UserWarning: The objective has been evaluated at this point before.\n",
      "  warnings.warn(\"The objective has been evaluated \"\n",
      "/Users/preetsekhon/opt/anaconda3/envs/DSI/lib/python3.9/site-packages/skopt/optimizer/optimizer.py:449: UserWarning: The objective has been evaluated at this point before.\n",
      "  warnings.warn(\"The objective has been evaluated \"\n",
      "/Users/preetsekhon/opt/anaconda3/envs/DSI/lib/python3.9/site-packages/skopt/optimizer/optimizer.py:449: UserWarning: The objective has been evaluated at this point before.\n",
      "  warnings.warn(\"The objective has been evaluated \"\n",
      "/Users/preetsekhon/opt/anaconda3/envs/DSI/lib/python3.9/site-packages/skopt/optimizer/optimizer.py:449: UserWarning: The objective has been evaluated at this point before.\n",
      "  warnings.warn(\"The objective has been evaluated \"\n",
      "/Users/preetsekhon/opt/anaconda3/envs/DSI/lib/python3.9/site-packages/skopt/optimizer/optimizer.py:449: UserWarning: The objective has been evaluated at this point before.\n",
      "  warnings.warn(\"The objective has been evaluated \"\n",
      "/Users/preetsekhon/opt/anaconda3/envs/DSI/lib/python3.9/site-packages/skopt/optimizer/optimizer.py:449: UserWarning: The objective has been evaluated at this point before.\n",
      "  warnings.warn(\"The objective has been evaluated \"\n",
      "/Users/preetsekhon/opt/anaconda3/envs/DSI/lib/python3.9/site-packages/skopt/optimizer/optimizer.py:449: UserWarning: The objective has been evaluated at this point before.\n",
      "  warnings.warn(\"The objective has been evaluated \"\n",
      "/Users/preetsekhon/opt/anaconda3/envs/DSI/lib/python3.9/site-packages/skopt/optimizer/optimizer.py:449: UserWarning: The objective has been evaluated at this point before.\n",
      "  warnings.warn(\"The objective has been evaluated \"\n",
      "/Users/preetsekhon/opt/anaconda3/envs/DSI/lib/python3.9/site-packages/skopt/optimizer/optimizer.py:449: UserWarning: The objective has been evaluated at this point before.\n",
      "  warnings.warn(\"The objective has been evaluated \"\n",
      "/Users/preetsekhon/opt/anaconda3/envs/DSI/lib/python3.9/site-packages/skopt/optimizer/optimizer.py:449: UserWarning: The objective has been evaluated at this point before.\n",
      "  warnings.warn(\"The objective has been evaluated \"\n",
      "/Users/preetsekhon/opt/anaconda3/envs/DSI/lib/python3.9/site-packages/skopt/optimizer/optimizer.py:449: UserWarning: The objective has been evaluated at this point before.\n",
      "  warnings.warn(\"The objective has been evaluated \"\n",
      "/Users/preetsekhon/opt/anaconda3/envs/DSI/lib/python3.9/site-packages/skopt/optimizer/optimizer.py:449: UserWarning: The objective has been evaluated at this point before.\n",
      "  warnings.warn(\"The objective has been evaluated \"\n",
      "/Users/preetsekhon/opt/anaconda3/envs/DSI/lib/python3.9/site-packages/skopt/optimizer/optimizer.py:449: UserWarning: The objective has been evaluated at this point before.\n",
      "  warnings.warn(\"The objective has been evaluated \"\n",
      "/Users/preetsekhon/opt/anaconda3/envs/DSI/lib/python3.9/site-packages/skopt/optimizer/optimizer.py:449: UserWarning: The objective has been evaluated at this point before.\n",
      "  warnings.warn(\"The objective has been evaluated \"\n",
      "/Users/preetsekhon/opt/anaconda3/envs/DSI/lib/python3.9/site-packages/skopt/optimizer/optimizer.py:449: UserWarning: The objective has been evaluated at this point before.\n",
      "  warnings.warn(\"The objective has been evaluated \"\n",
      "/Users/preetsekhon/opt/anaconda3/envs/DSI/lib/python3.9/site-packages/skopt/optimizer/optimizer.py:449: UserWarning: The objective has been evaluated at this point before.\n",
      "  warnings.warn(\"The objective has been evaluated \"\n",
      "/Users/preetsekhon/opt/anaconda3/envs/DSI/lib/python3.9/site-packages/skopt/optimizer/optimizer.py:449: UserWarning: The objective has been evaluated at this point before.\n",
      "  warnings.warn(\"The objective has been evaluated \"\n",
      "/Users/preetsekhon/opt/anaconda3/envs/DSI/lib/python3.9/site-packages/skopt/optimizer/optimizer.py:449: UserWarning: The objective has been evaluated at this point before.\n",
      "  warnings.warn(\"The objective has been evaluated \"\n",
      "/Users/preetsekhon/opt/anaconda3/envs/DSI/lib/python3.9/site-packages/skopt/optimizer/optimizer.py:449: UserWarning: The objective has been evaluated at this point before.\n",
      "  warnings.warn(\"The objective has been evaluated \"\n",
      "/Users/preetsekhon/opt/anaconda3/envs/DSI/lib/python3.9/site-packages/skopt/optimizer/optimizer.py:449: UserWarning: The objective has been evaluated at this point before.\n",
      "  warnings.warn(\"The objective has been evaluated \"\n",
      "/Users/preetsekhon/opt/anaconda3/envs/DSI/lib/python3.9/site-packages/skopt/optimizer/optimizer.py:449: UserWarning: The objective has been evaluated at this point before.\n",
      "  warnings.warn(\"The objective has been evaluated \"\n",
      "/Users/preetsekhon/opt/anaconda3/envs/DSI/lib/python3.9/site-packages/skopt/optimizer/optimizer.py:449: UserWarning: The objective has been evaluated at this point before.\n",
      "  warnings.warn(\"The objective has been evaluated \"\n",
      "/Users/preetsekhon/opt/anaconda3/envs/DSI/lib/python3.9/site-packages/skopt/optimizer/optimizer.py:449: UserWarning: The objective has been evaluated at this point before.\n",
      "  warnings.warn(\"The objective has been evaluated \"\n",
      "/Users/preetsekhon/opt/anaconda3/envs/DSI/lib/python3.9/site-packages/skopt/optimizer/optimizer.py:449: UserWarning: The objective has been evaluated at this point before.\n",
      "  warnings.warn(\"The objective has been evaluated \"\n"
     ]
    },
    {
     "data": {
      "text/html": [
       "<style>#sk-container-id-2 {color: black;background-color: white;}#sk-container-id-2 pre{padding: 0;}#sk-container-id-2 div.sk-toggleable {background-color: white;}#sk-container-id-2 label.sk-toggleable__label {cursor: pointer;display: block;width: 100%;margin-bottom: 0;padding: 0.3em;box-sizing: border-box;text-align: center;}#sk-container-id-2 label.sk-toggleable__label-arrow:before {content: \"▸\";float: left;margin-right: 0.25em;color: #696969;}#sk-container-id-2 label.sk-toggleable__label-arrow:hover:before {color: black;}#sk-container-id-2 div.sk-estimator:hover label.sk-toggleable__label-arrow:before {color: black;}#sk-container-id-2 div.sk-toggleable__content {max-height: 0;max-width: 0;overflow: hidden;text-align: left;background-color: #f0f8ff;}#sk-container-id-2 div.sk-toggleable__content pre {margin: 0.2em;color: black;border-radius: 0.25em;background-color: #f0f8ff;}#sk-container-id-2 input.sk-toggleable__control:checked~div.sk-toggleable__content {max-height: 200px;max-width: 100%;overflow: auto;}#sk-container-id-2 input.sk-toggleable__control:checked~label.sk-toggleable__label-arrow:before {content: \"▾\";}#sk-container-id-2 div.sk-estimator input.sk-toggleable__control:checked~label.sk-toggleable__label {background-color: #d4ebff;}#sk-container-id-2 div.sk-label input.sk-toggleable__control:checked~label.sk-toggleable__label {background-color: #d4ebff;}#sk-container-id-2 input.sk-hidden--visually {border: 0;clip: rect(1px 1px 1px 1px);clip: rect(1px, 1px, 1px, 1px);height: 1px;margin: -1px;overflow: hidden;padding: 0;position: absolute;width: 1px;}#sk-container-id-2 div.sk-estimator {font-family: monospace;background-color: #f0f8ff;border: 1px dotted black;border-radius: 0.25em;box-sizing: border-box;margin-bottom: 0.5em;}#sk-container-id-2 div.sk-estimator:hover {background-color: #d4ebff;}#sk-container-id-2 div.sk-parallel-item::after {content: \"\";width: 100%;border-bottom: 1px solid gray;flex-grow: 1;}#sk-container-id-2 div.sk-label:hover label.sk-toggleable__label {background-color: #d4ebff;}#sk-container-id-2 div.sk-serial::before {content: \"\";position: absolute;border-left: 1px solid gray;box-sizing: border-box;top: 0;bottom: 0;left: 50%;z-index: 0;}#sk-container-id-2 div.sk-serial {display: flex;flex-direction: column;align-items: center;background-color: white;padding-right: 0.2em;padding-left: 0.2em;position: relative;}#sk-container-id-2 div.sk-item {position: relative;z-index: 1;}#sk-container-id-2 div.sk-parallel {display: flex;align-items: stretch;justify-content: center;background-color: white;position: relative;}#sk-container-id-2 div.sk-item::before, #sk-container-id-2 div.sk-parallel-item::before {content: \"\";position: absolute;border-left: 1px solid gray;box-sizing: border-box;top: 0;bottom: 0;left: 50%;z-index: -1;}#sk-container-id-2 div.sk-parallel-item {display: flex;flex-direction: column;z-index: 1;position: relative;background-color: white;}#sk-container-id-2 div.sk-parallel-item:first-child::after {align-self: flex-end;width: 50%;}#sk-container-id-2 div.sk-parallel-item:last-child::after {align-self: flex-start;width: 50%;}#sk-container-id-2 div.sk-parallel-item:only-child::after {width: 0;}#sk-container-id-2 div.sk-dashed-wrapped {border: 1px dashed gray;margin: 0 0.4em 0.5em 0.4em;box-sizing: border-box;padding-bottom: 0.4em;background-color: white;}#sk-container-id-2 div.sk-label label {font-family: monospace;font-weight: bold;display: inline-block;line-height: 1.2em;}#sk-container-id-2 div.sk-label-container {text-align: center;}#sk-container-id-2 div.sk-container {/* jupyter's `normalize.less` sets `[hidden] { display: none; }` but bootstrap.min.css set `[hidden] { display: none !important; }` so we also need the `!important` here to be able to override the default hidden behavior on the sphinx rendered scikit-learn.org. See: https://github.com/scikit-learn/scikit-learn/issues/21755 */display: inline-block !important;position: relative;}#sk-container-id-2 div.sk-text-repr-fallback {display: none;}</style><div id=\"sk-container-id-2\" class=\"sk-top-container\"><div class=\"sk-text-repr-fallback\"><pre>BayesSearchCV(cv=3,\n",
       "              estimator=RandomForestClassifier(max_depth=3, min_samples_leaf=4,\n",
       "                                               min_samples_split=4,\n",
       "                                               n_estimators=600),\n",
       "              n_jobs=-1,\n",
       "              scoring=make_scorer(brier_score_loss, greater_is_better=False, needs_proba=True),\n",
       "              search_spaces={&#x27;max_features&#x27;: Integer(low=30, high=50, prior=&#x27;uniform&#x27;, transform=&#x27;normalize&#x27;)})</pre><b>In a Jupyter environment, please rerun this cell to show the HTML representation or trust the notebook. <br />On GitHub, the HTML representation is unable to render, please try loading this page with nbviewer.org.</b></div><div class=\"sk-container\" hidden><div class=\"sk-item sk-dashed-wrapped\"><div class=\"sk-label-container\"><div class=\"sk-label sk-toggleable\"><input class=\"sk-toggleable__control sk-hidden--visually\" id=\"sk-estimator-id-4\" type=\"checkbox\" ><label for=\"sk-estimator-id-4\" class=\"sk-toggleable__label sk-toggleable__label-arrow\">BayesSearchCV</label><div class=\"sk-toggleable__content\"><pre>BayesSearchCV(cv=3,\n",
       "              estimator=RandomForestClassifier(max_depth=3, min_samples_leaf=4,\n",
       "                                               min_samples_split=4,\n",
       "                                               n_estimators=600),\n",
       "              n_jobs=-1,\n",
       "              scoring=make_scorer(brier_score_loss, greater_is_better=False, needs_proba=True),\n",
       "              search_spaces={&#x27;max_features&#x27;: Integer(low=30, high=50, prior=&#x27;uniform&#x27;, transform=&#x27;normalize&#x27;)})</pre></div></div></div><div class=\"sk-parallel\"><div class=\"sk-parallel-item\"><div class=\"sk-item\"><div class=\"sk-label-container\"><div class=\"sk-label sk-toggleable\"><input class=\"sk-toggleable__control sk-hidden--visually\" id=\"sk-estimator-id-5\" type=\"checkbox\" ><label for=\"sk-estimator-id-5\" class=\"sk-toggleable__label sk-toggleable__label-arrow\">estimator: RandomForestClassifier</label><div class=\"sk-toggleable__content\"><pre>RandomForestClassifier(max_depth=3, min_samples_leaf=4, min_samples_split=4,\n",
       "                       n_estimators=600)</pre></div></div></div><div class=\"sk-serial\"><div class=\"sk-item\"><div class=\"sk-estimator sk-toggleable\"><input class=\"sk-toggleable__control sk-hidden--visually\" id=\"sk-estimator-id-6\" type=\"checkbox\" ><label for=\"sk-estimator-id-6\" class=\"sk-toggleable__label sk-toggleable__label-arrow\">RandomForestClassifier</label><div class=\"sk-toggleable__content\"><pre>RandomForestClassifier(max_depth=3, min_samples_leaf=4, min_samples_split=4,\n",
       "                       n_estimators=600)</pre></div></div></div></div></div></div></div></div></div></div>"
      ],
      "text/plain": [
       "BayesSearchCV(cv=3,\n",
       "              estimator=RandomForestClassifier(max_depth=3, min_samples_leaf=4,\n",
       "                                               min_samples_split=4,\n",
       "                                               n_estimators=600),\n",
       "              n_jobs=-1,\n",
       "              scoring=make_scorer(brier_score_loss, greater_is_better=False, needs_proba=True),\n",
       "              search_spaces={'max_features': Integer(low=30, high=50, prior='uniform', transform='normalize')})"
      ]
     },
     "execution_count": 21,
     "metadata": {},
     "output_type": "execute_result"
    }
   ],
   "source": [
    "rf = RandomForestClassifier(n_estimators=600, max_depth=3,min_samples_split=4,\n",
    "                                       min_samples_leaf=4)\n",
    "bayes_rf = BayesSearchCV(rf,scoring=brier_score,\n",
    "                      search_spaces = {'max_features':Integer(30,50)\n",
    "                        },\n",
    "                     cv= 3,\n",
    "                     n_jobs = -1)\n",
    "bayes_rf.fit(X_train,y_train)"
   ]
  },
  {
   "cell_type": "code",
   "execution_count": 22,
   "metadata": {},
   "outputs": [],
   "source": [
    "pickle.dump(bayes_rf,open('data/pickles/rf_bayes.pkl', 'wb'))\n",
    "bayes_rf = pickle.load(open('data/pickles/rf_bayes.pkl', 'rb'))"
   ]
  },
  {
   "cell_type": "code",
   "execution_count": 29,
   "metadata": {},
   "outputs": [
    {
     "name": "stdout",
     "output_type": "stream",
     "text": [
      "OrderedDict([('max_features', 50)])\n",
      "0.14357018158365106\n",
      "0.14701241109464633\n",
      "#############################\n",
      "0.7926336450756264\n",
      "0.7798334875115633\n"
     ]
    },
    {
     "data": {
      "image/png": "[encoded data removed]",
      "text/plain": [
       "<Figure size 432x288 with 2 Axes>"
      ]
     },
     "metadata": {
      "needs_background": "light"
     },
     "output_type": "display_data"
    }
   ],
   "source": [
    "print(bayes_rf.best_params_)\n",
    "print(-bayes_rf.score(X_train,y_train))\n",
    "print(-bayes_rf.score(X_test,y_test))\n",
    "print(\"#############################\")\n",
    "print(precision_score(y_train,bayes_rf.predict(X_train)))\n",
    "print(precision_score(y_test,bayes_rf.predict(X_test)))\n",
    "predictions = bayes_rf.predict(X_test)\n",
    "cm = confusion_matrix(y_test, predictions, labels=bayes_rf.classes_)\n",
    "disp = ConfusionMatrixDisplay(confusion_matrix=cm,\n",
    "                               display_labels=['CFN', 'TCFP'])\n",
    "disp.plot()\n",
    "plt.title(\"Random Forest Classifier Bayes Search\")\n",
    "plt.savefig('Plots/CM.RF.png',dpi=300, bbox_inches = \"tight\")\n",
    "\n"
   ]
  },
  {
   "cell_type": "code",
   "execution_count": 24,
   "metadata": {},
   "outputs": [
    {
     "data": {
      "text/html": [
       "<div>\n",
       "<style scoped>\n",
       "    .dataframe tbody tr th:only-of-type {\n",
       "        vertical-align: middle;\n",
       "    }\n",
       "\n",
       "    .dataframe tbody tr th {\n",
       "        vertical-align: top;\n",
       "    }\n",
       "\n",
       "    .dataframe thead th {\n",
       "        text-align: right;\n",
       "    }\n",
       "</style>\n",
       "<table border=\"1\" class=\"dataframe\">\n",
       "  <thead>\n",
       "    <tr style=\"text-align: right;\">\n",
       "      <th></th>\n",
       "      <th>feature_importance</th>\n",
       "    </tr>\n",
       "  </thead>\n",
       "  <tbody>\n",
       "    <tr>\n",
       "      <th>bath__3.0</th>\n",
       "      <td>0.217042</td>\n",
       "    </tr>\n",
       "    <tr>\n",
       "      <th>median_hh_income_white</th>\n",
       "      <td>0.142016</td>\n",
       "    </tr>\n",
       "    <tr>\n",
       "      <th>type__SFR</th>\n",
       "      <td>0.122958</td>\n",
       "    </tr>\n",
       "    <tr>\n",
       "      <th>building_sqft</th>\n",
       "      <td>0.089361</td>\n",
       "    </tr>\n",
       "    <tr>\n",
       "      <th>2020_turnout_eligible</th>\n",
       "      <td>0.081194</td>\n",
       "    </tr>\n",
       "    <tr>\n",
       "      <th>median_age_(years)</th>\n",
       "      <td>0.051613</td>\n",
       "    </tr>\n",
       "    <tr>\n",
       "      <th>2021_turnout_eligible</th>\n",
       "      <td>0.033364</td>\n",
       "    </tr>\n",
       "    <tr>\n",
       "      <th>lot_size_sqft</th>\n",
       "      <td>0.032939</td>\n",
       "    </tr>\n",
       "    <tr>\n",
       "      <th>bed__4</th>\n",
       "      <td>0.032821</td>\n",
       "    </tr>\n",
       "    <tr>\n",
       "      <th>bed__3</th>\n",
       "      <td>0.021857</td>\n",
       "    </tr>\n",
       "  </tbody>\n",
       "</table>\n",
       "</div>"
      ],
      "text/plain": [
       "                        feature_importance\n",
       "bath__3.0                         0.217042\n",
       "median_hh_income_white            0.142016\n",
       "type__SFR                         0.122958\n",
       "building_sqft                     0.089361\n",
       "2020_turnout_eligible             0.081194\n",
       "median_age_(years)                0.051613\n",
       "2021_turnout_eligible             0.033364\n",
       "lot_size_sqft                     0.032939\n",
       "bed__4                            0.032821\n",
       "bed__3                            0.021857"
      ]
     },
     "execution_count": 24,
     "metadata": {},
     "output_type": "execute_result"
    }
   ],
   "source": [
    "rf_coef_df = pd.DataFrame(data=bayes_rf.best_estimator_.feature_importances_.reshape(-1,1),\n",
    "                          columns = ['feature_importance'],\n",
    "                          index = bayes_rf.best_estimator_.feature_names_in_).sort_values(by='feature_importance',ascending=False)\n",
    "\n",
    "rf_coef_df.head(10)\n"
   ]
  },
  {
   "cell_type": "code",
   "execution_count": 25,
   "metadata": {},
   "outputs": [
    {
     "name": "stdout",
     "output_type": "stream",
     "text": [
      "bath__3.00.06840 +/- 0.006\n",
      "type__SFR0.02081 +/- 0.002\n",
      "median_hh_income0.00366 +/- 0.000\n",
      "bath__4.00.00290 +/- 0.000\n",
      "median_hh_income_b_aa0.00227 +/- 0.000\n",
      "effective_year_built0.00139 +/- 0.000\n",
      "bed__4  0.00100 +/- 0.000\n"
     ]
    }
   ],
   "source": [
    "r = permutation_importance(bayes_rf,X_test,y_test,scoring='precision')\n",
    "\n",
    "for i in r.importances_mean.argsort()[::-1]:\n",
    "        if r.importances_mean[i] - 2 * r.importances_std[i] > 0:\n",
    "            print(f\"{X_test.columns[i]:<8}\"\n",
    "                  f\"{r.importances_mean[i]:.5f}\"\n",
    "                  f\" +/- {r.importances_std[i]:.3f}\")"
   ]
  },
  {
   "cell_type": "markdown",
   "metadata": {},
   "source": [
    "##### <font color=\"blue\">XGB Classifier with BayesSearchCV<font>\n",
    "---"
   ]
  },
  {
   "cell_type": "code",
   "execution_count": 33,
   "metadata": {},
   "outputs": [
    {
     "name": "stdout",
     "output_type": "stream",
     "text": [
      "Fitting 3 folds for each of 1 candidates, totalling 3 fits\n",
      "Fitting 3 folds for each of 1 candidates, totalling 3 fits\n",
      "Fitting 3 folds for each of 1 candidates, totalling 3 fits\n",
      "Fitting 3 folds for each of 1 candidates, totalling 3 fits\n",
      "Fitting 3 folds for each of 1 candidates, totalling 3 fits\n",
      "Fitting 3 folds for each of 1 candidates, totalling 3 fits\n",
      "Fitting 3 folds for each of 1 candidates, totalling 3 fits\n",
      "Fitting 3 folds for each of 1 candidates, totalling 3 fits\n",
      "Fitting 3 folds for each of 1 candidates, totalling 3 fits\n",
      "Fitting 3 folds for each of 1 candidates, totalling 3 fits\n",
      "Fitting 3 folds for each of 1 candidates, totalling 3 fits\n",
      "Fitting 3 folds for each of 1 candidates, totalling 3 fits\n",
      "Fitting 3 folds for each of 1 candidates, totalling 3 fits\n"
     ]
    },
    {
     "name": "stderr",
     "output_type": "stream",
     "text": [
      "/Users/preetsekhon/opt/anaconda3/envs/DSI/lib/python3.9/site-packages/skopt/optimizer/optimizer.py:449: UserWarning: The objective has been evaluated at this point before.\n",
      "  warnings.warn(\"The objective has been evaluated \"\n"
     ]
    },
    {
     "name": "stdout",
     "output_type": "stream",
     "text": [
      "Fitting 3 folds for each of 1 candidates, totalling 3 fits\n",
      "Fitting 3 folds for each of 1 candidates, totalling 3 fits\n"
     ]
    },
    {
     "name": "stderr",
     "output_type": "stream",
     "text": [
      "/Users/preetsekhon/opt/anaconda3/envs/DSI/lib/python3.9/site-packages/skopt/optimizer/optimizer.py:449: UserWarning: The objective has been evaluated at this point before.\n",
      "  warnings.warn(\"The objective has been evaluated \"\n"
     ]
    },
    {
     "name": "stdout",
     "output_type": "stream",
     "text": [
      "Fitting 3 folds for each of 1 candidates, totalling 3 fits\n",
      "Fitting 3 folds for each of 1 candidates, totalling 3 fits\n",
      "Fitting 3 folds for each of 1 candidates, totalling 3 fits\n",
      "Fitting 3 folds for each of 1 candidates, totalling 3 fits\n",
      "Fitting 3 folds for each of 1 candidates, totalling 3 fits\n",
      "Fitting 3 folds for each of 1 candidates, totalling 3 fits\n",
      "Fitting 3 folds for each of 1 candidates, totalling 3 fits\n",
      "Fitting 3 folds for each of 1 candidates, totalling 3 fits\n",
      "Fitting 3 folds for each of 1 candidates, totalling 3 fits\n",
      "Fitting 3 folds for each of 1 candidates, totalling 3 fits\n"
     ]
    },
    {
     "name": "stderr",
     "output_type": "stream",
     "text": [
      "/Users/preetsekhon/opt/anaconda3/envs/DSI/lib/python3.9/site-packages/skopt/optimizer/optimizer.py:449: UserWarning: The objective has been evaluated at this point before.\n",
      "  warnings.warn(\"The objective has been evaluated \"\n"
     ]
    },
    {
     "name": "stdout",
     "output_type": "stream",
     "text": [
      "Fitting 3 folds for each of 1 candidates, totalling 3 fits\n",
      "Fitting 3 folds for each of 1 candidates, totalling 3 fits\n",
      "Fitting 3 folds for each of 1 candidates, totalling 3 fits\n",
      "Fitting 3 folds for each of 1 candidates, totalling 3 fits\n"
     ]
    },
    {
     "name": "stderr",
     "output_type": "stream",
     "text": [
      "/Users/preetsekhon/opt/anaconda3/envs/DSI/lib/python3.9/site-packages/skopt/optimizer/optimizer.py:449: UserWarning: The objective has been evaluated at this point before.\n",
      "  warnings.warn(\"The objective has been evaluated \"\n"
     ]
    },
    {
     "name": "stdout",
     "output_type": "stream",
     "text": [
      "Fitting 3 folds for each of 1 candidates, totalling 3 fits\n"
     ]
    },
    {
     "name": "stderr",
     "output_type": "stream",
     "text": [
      "/Users/preetsekhon/opt/anaconda3/envs/DSI/lib/python3.9/site-packages/skopt/optimizer/optimizer.py:449: UserWarning: The objective has been evaluated at this point before.\n",
      "  warnings.warn(\"The objective has been evaluated \"\n"
     ]
    },
    {
     "name": "stdout",
     "output_type": "stream",
     "text": [
      "Fitting 3 folds for each of 1 candidates, totalling 3 fits\n",
      "Fitting 3 folds for each of 1 candidates, totalling 3 fits\n",
      "Fitting 3 folds for each of 1 candidates, totalling 3 fits\n"
     ]
    },
    {
     "name": "stderr",
     "output_type": "stream",
     "text": [
      "/Users/preetsekhon/opt/anaconda3/envs/DSI/lib/python3.9/site-packages/skopt/optimizer/optimizer.py:449: UserWarning: The objective has been evaluated at this point before.\n",
      "  warnings.warn(\"The objective has been evaluated \"\n"
     ]
    },
    {
     "name": "stdout",
     "output_type": "stream",
     "text": [
      "Fitting 3 folds for each of 1 candidates, totalling 3 fits\n"
     ]
    },
    {
     "name": "stderr",
     "output_type": "stream",
     "text": [
      "/Users/preetsekhon/opt/anaconda3/envs/DSI/lib/python3.9/site-packages/skopt/optimizer/optimizer.py:449: UserWarning: The objective has been evaluated at this point before.\n",
      "  warnings.warn(\"The objective has been evaluated \"\n"
     ]
    },
    {
     "name": "stdout",
     "output_type": "stream",
     "text": [
      "Fitting 3 folds for each of 1 candidates, totalling 3 fits\n"
     ]
    },
    {
     "name": "stderr",
     "output_type": "stream",
     "text": [
      "/Users/preetsekhon/opt/anaconda3/envs/DSI/lib/python3.9/site-packages/skopt/optimizer/optimizer.py:449: UserWarning: The objective has been evaluated at this point before.\n",
      "  warnings.warn(\"The objective has been evaluated \"\n"
     ]
    },
    {
     "name": "stdout",
     "output_type": "stream",
     "text": [
      "Fitting 3 folds for each of 1 candidates, totalling 3 fits\n",
      "Fitting 3 folds for each of 1 candidates, totalling 3 fits\n",
      "Fitting 3 folds for each of 1 candidates, totalling 3 fits\n",
      "Fitting 3 folds for each of 1 candidates, totalling 3 fits\n",
      "Fitting 3 folds for each of 1 candidates, totalling 3 fits\n",
      "Fitting 3 folds for each of 1 candidates, totalling 3 fits\n",
      "Fitting 3 folds for each of 1 candidates, totalling 3 fits\n"
     ]
    },
    {
     "name": "stderr",
     "output_type": "stream",
     "text": [
      "/Users/preetsekhon/opt/anaconda3/envs/DSI/lib/python3.9/site-packages/skopt/optimizer/optimizer.py:449: UserWarning: The objective has been evaluated at this point before.\n",
      "  warnings.warn(\"The objective has been evaluated \"\n"
     ]
    },
    {
     "name": "stdout",
     "output_type": "stream",
     "text": [
      "Fitting 3 folds for each of 1 candidates, totalling 3 fits\n",
      "Fitting 3 folds for each of 1 candidates, totalling 3 fits\n",
      "Fitting 3 folds for each of 1 candidates, totalling 3 fits\n",
      "Fitting 3 folds for each of 1 candidates, totalling 3 fits\n",
      "Fitting 3 folds for each of 1 candidates, totalling 3 fits\n",
      "Fitting 3 folds for each of 1 candidates, totalling 3 fits\n",
      "Fitting 3 folds for each of 1 candidates, totalling 3 fits\n",
      "Fitting 3 folds for each of 1 candidates, totalling 3 fits\n"
     ]
    },
    {
     "data": {
      "text/html": [
       "<style>#sk-container-id-3 {color: black;background-color: white;}#sk-container-id-3 pre{padding: 0;}#sk-container-id-3 div.sk-toggleable {background-color: white;}#sk-container-id-3 label.sk-toggleable__label {cursor: pointer;display: block;width: 100%;margin-bottom: 0;padding: 0.3em;box-sizing: border-box;text-align: center;}#sk-container-id-3 label.sk-toggleable__label-arrow:before {content: \"▸\";float: left;margin-right: 0.25em;color: #696969;}#sk-container-id-3 label.sk-toggleable__label-arrow:hover:before {color: black;}#sk-container-id-3 div.sk-estimator:hover label.sk-toggleable__label-arrow:before {color: black;}#sk-container-id-3 div.sk-toggleable__content {max-height: 0;max-width: 0;overflow: hidden;text-align: left;background-color: #f0f8ff;}#sk-container-id-3 div.sk-toggleable__content pre {margin: 0.2em;color: black;border-radius: 0.25em;background-color: #f0f8ff;}#sk-container-id-3 input.sk-toggleable__control:checked~div.sk-toggleable__content {max-height: 200px;max-width: 100%;overflow: auto;}#sk-container-id-3 input.sk-toggleable__control:checked~label.sk-toggleable__label-arrow:before {content: \"▾\";}#sk-container-id-3 div.sk-estimator input.sk-toggleable__control:checked~label.sk-toggleable__label {background-color: #d4ebff;}#sk-container-id-3 div.sk-label input.sk-toggleable__control:checked~label.sk-toggleable__label {background-color: #d4ebff;}#sk-container-id-3 input.sk-hidden--visually {border: 0;clip: rect(1px 1px 1px 1px);clip: rect(1px, 1px, 1px, 1px);height: 1px;margin: -1px;overflow: hidden;padding: 0;position: absolute;width: 1px;}#sk-container-id-3 div.sk-estimator {font-family: monospace;background-color: #f0f8ff;border: 1px dotted black;border-radius: 0.25em;box-sizing: border-box;margin-bottom: 0.5em;}#sk-container-id-3 div.sk-estimator:hover {background-color: #d4ebff;}#sk-container-id-3 div.sk-parallel-item::after {content: \"\";width: 100%;border-bottom: 1px solid gray;flex-grow: 1;}#sk-container-id-3 div.sk-label:hover label.sk-toggleable__label {background-color: #d4ebff;}#sk-container-id-3 div.sk-serial::before {content: \"\";position: absolute;border-left: 1px solid gray;box-sizing: border-box;top: 0;bottom: 0;left: 50%;z-index: 0;}#sk-container-id-3 div.sk-serial {display: flex;flex-direction: column;align-items: center;background-color: white;padding-right: 0.2em;padding-left: 0.2em;position: relative;}#sk-container-id-3 div.sk-item {position: relative;z-index: 1;}#sk-container-id-3 div.sk-parallel {display: flex;align-items: stretch;justify-content: center;background-color: white;position: relative;}#sk-container-id-3 div.sk-item::before, #sk-container-id-3 div.sk-parallel-item::before {content: \"\";position: absolute;border-left: 1px solid gray;box-sizing: border-box;top: 0;bottom: 0;left: 50%;z-index: -1;}#sk-container-id-3 div.sk-parallel-item {display: flex;flex-direction: column;z-index: 1;position: relative;background-color: white;}#sk-container-id-3 div.sk-parallel-item:first-child::after {align-self: flex-end;width: 50%;}#sk-container-id-3 div.sk-parallel-item:last-child::after {align-self: flex-start;width: 50%;}#sk-container-id-3 div.sk-parallel-item:only-child::after {width: 0;}#sk-container-id-3 div.sk-dashed-wrapped {border: 1px dashed gray;margin: 0 0.4em 0.5em 0.4em;box-sizing: border-box;padding-bottom: 0.4em;background-color: white;}#sk-container-id-3 div.sk-label label {font-family: monospace;font-weight: bold;display: inline-block;line-height: 1.2em;}#sk-container-id-3 div.sk-label-container {text-align: center;}#sk-container-id-3 div.sk-container {/* jupyter's `normalize.less` sets `[hidden] { display: none; }` but bootstrap.min.css set `[hidden] { display: none !important; }` so we also need the `!important` here to be able to override the default hidden behavior on the sphinx rendered scikit-learn.org. See: https://github.com/scikit-learn/scikit-learn/issues/21755 */display: inline-block !important;position: relative;}#sk-container-id-3 div.sk-text-repr-fallback {display: none;}</style><div id=\"sk-container-id-3\" class=\"sk-top-container\"><div class=\"sk-text-repr-fallback\"><pre>BayesSearchCV(cv=3,\n",
       "              estimator=XGBClassifier(base_score=None, booster=None,\n",
       "                                      callbacks=None, colsample_bylevel=None,\n",
       "                                      colsample_bynode=None,\n",
       "                                      colsample_bytree=None,\n",
       "                                      early_stopping_rounds=None,\n",
       "                                      enable_categorical=False,\n",
       "                                      eval_metric=None, feature_types=None,\n",
       "                                      gamma=0.7, gpu_id=None, grow_policy=None,\n",
       "                                      importance_type=None,\n",
       "                                      interaction_constraints=None,\n",
       "                                      learning_rate=None,...\n",
       "                                      max_leaves=2, min_child_weight=2,\n",
       "                                      missing=nan, monotone_constraints=None,\n",
       "                                      n_estimators=187, n_jobs=None,\n",
       "                                      num_parallel_tree=None, predictor=None,\n",
       "                                      random_state=None, ...),\n",
       "              n_jobs=-1,\n",
       "              scoring=make_scorer(brier_score_loss, greater_is_better=False, needs_proba=True),\n",
       "              search_spaces={&#x27;learning_rate&#x27;: Real(low=0.05, high=0.2, prior=&#x27;uniform&#x27;, transform=&#x27;normalize&#x27;)},\n",
       "              verbose=True)</pre><b>In a Jupyter environment, please rerun this cell to show the HTML representation or trust the notebook. <br />On GitHub, the HTML representation is unable to render, please try loading this page with nbviewer.org.</b></div><div class=\"sk-container\" hidden><div class=\"sk-item sk-dashed-wrapped\"><div class=\"sk-label-container\"><div class=\"sk-label sk-toggleable\"><input class=\"sk-toggleable__control sk-hidden--visually\" id=\"sk-estimator-id-7\" type=\"checkbox\" ><label for=\"sk-estimator-id-7\" class=\"sk-toggleable__label sk-toggleable__label-arrow\">BayesSearchCV</label><div class=\"sk-toggleable__content\"><pre>BayesSearchCV(cv=3,\n",
       "              estimator=XGBClassifier(base_score=None, booster=None,\n",
       "                                      callbacks=None, colsample_bylevel=None,\n",
       "                                      colsample_bynode=None,\n",
       "                                      colsample_bytree=None,\n",
       "                                      early_stopping_rounds=None,\n",
       "                                      enable_categorical=False,\n",
       "                                      eval_metric=None, feature_types=None,\n",
       "                                      gamma=0.7, gpu_id=None, grow_policy=None,\n",
       "                                      importance_type=None,\n",
       "                                      interaction_constraints=None,\n",
       "                                      learning_rate=None,...\n",
       "                                      max_leaves=2, min_child_weight=2,\n",
       "                                      missing=nan, monotone_constraints=None,\n",
       "                                      n_estimators=187, n_jobs=None,\n",
       "                                      num_parallel_tree=None, predictor=None,\n",
       "                                      random_state=None, ...),\n",
       "              n_jobs=-1,\n",
       "              scoring=make_scorer(brier_score_loss, greater_is_better=False, needs_proba=True),\n",
       "              search_spaces={&#x27;learning_rate&#x27;: Real(low=0.05, high=0.2, prior=&#x27;uniform&#x27;, transform=&#x27;normalize&#x27;)},\n",
       "              verbose=True)</pre></div></div></div><div class=\"sk-parallel\"><div class=\"sk-parallel-item\"><div class=\"sk-item\"><div class=\"sk-label-container\"><div class=\"sk-label sk-toggleable\"><input class=\"sk-toggleable__control sk-hidden--visually\" id=\"sk-estimator-id-8\" type=\"checkbox\" ><label for=\"sk-estimator-id-8\" class=\"sk-toggleable__label sk-toggleable__label-arrow\">estimator: XGBClassifier</label><div class=\"sk-toggleable__content\"><pre>XGBClassifier(base_score=None, booster=None, callbacks=None,\n",
       "              colsample_bylevel=None, colsample_bynode=None,\n",
       "              colsample_bytree=None, early_stopping_rounds=None,\n",
       "              enable_categorical=False, eval_metric=None, feature_types=None,\n",
       "              gamma=0.7, gpu_id=None, grow_policy=None, importance_type=None,\n",
       "              interaction_constraints=None, learning_rate=None, max_bin=None,\n",
       "              max_cat_threshold=None, max_cat_to_onehot=None,\n",
       "              max_delta_step=None, max_depth=2, max_leaves=2,\n",
       "              min_child_weight=2, missing=nan, monotone_constraints=None,\n",
       "              n_estimators=187, n_jobs=None, num_parallel_tree=None,\n",
       "              predictor=None, random_state=None, ...)</pre></div></div></div><div class=\"sk-serial\"><div class=\"sk-item\"><div class=\"sk-estimator sk-toggleable\"><input class=\"sk-toggleable__control sk-hidden--visually\" id=\"sk-estimator-id-9\" type=\"checkbox\" ><label for=\"sk-estimator-id-9\" class=\"sk-toggleable__label sk-toggleable__label-arrow\">XGBClassifier</label><div class=\"sk-toggleable__content\"><pre>XGBClassifier(base_score=None, booster=None, callbacks=None,\n",
       "              colsample_bylevel=None, colsample_bynode=None,\n",
       "              colsample_bytree=None, early_stopping_rounds=None,\n",
       "              enable_categorical=False, eval_metric=None, feature_types=None,\n",
       "              gamma=0.7, gpu_id=None, grow_policy=None, importance_type=None,\n",
       "              interaction_constraints=None, learning_rate=None, max_bin=None,\n",
       "              max_cat_threshold=None, max_cat_to_onehot=None,\n",
       "              max_delta_step=None, max_depth=2, max_leaves=2,\n",
       "              min_child_weight=2, missing=nan, monotone_constraints=None,\n",
       "              n_estimators=187, n_jobs=None, num_parallel_tree=None,\n",
       "              predictor=None, random_state=None, ...)</pre></div></div></div></div></div></div></div></div></div></div>"
      ],
      "text/plain": [
       "BayesSearchCV(cv=3,\n",
       "              estimator=XGBClassifier(base_score=None, booster=None,\n",
       "                                      callbacks=None, colsample_bylevel=None,\n",
       "                                      colsample_bynode=None,\n",
       "                                      colsample_bytree=None,\n",
       "                                      early_stopping_rounds=None,\n",
       "                                      enable_categorical=False,\n",
       "                                      eval_metric=None, feature_types=None,\n",
       "                                      gamma=0.7, gpu_id=None, grow_policy=None,\n",
       "                                      importance_type=None,\n",
       "                                      interaction_constraints=None,\n",
       "                                      learning_rate=None,...\n",
       "                                      max_leaves=2, min_child_weight=2,\n",
       "                                      missing=nan, monotone_constraints=None,\n",
       "                                      n_estimators=187, n_jobs=None,\n",
       "                                      num_parallel_tree=None, predictor=None,\n",
       "                                      random_state=None, ...),\n",
       "              n_jobs=-1,\n",
       "              scoring=make_scorer(brier_score_loss, greater_is_better=False, needs_proba=True),\n",
       "              search_spaces={'learning_rate': Real(low=0.05, high=0.2, prior='uniform', transform='normalize')},\n",
       "              verbose=True)"
      ]
     },
     "execution_count": 33,
     "metadata": {},
     "output_type": "execute_result"
    }
   ],
   "source": [
    "xgb = XGBClassifier(n_estimators = 187,max_depth=2,min_child_weight=2,gamma = 0.7,max_leaves = 2)\n",
    "bayes_xgb = BayesSearchCV(xgb,scoring=brier_score,\n",
    "                      search_spaces = {'learning_rate':Real(.05,.2)},\n",
    "                    cv= 3,\n",
    "                    n_jobs = -1,\n",
    "                    verbose=True)\n",
    "bayes_xgb.fit(X_train,y_train)"
   ]
  },
  {
   "cell_type": "code",
   "execution_count": 31,
   "metadata": {},
   "outputs": [],
   "source": [
    "#pickle.dump(bayes_xgb,open('../data/pickles/xgb_bayes.pkl', 'wb'))\n",
    "bayes_xgb = pickle.load(open('../data/pickles/xgb_bayes.pkl', 'rb'))"
   ]
  },
  {
   "cell_type": "code",
   "execution_count": 34,
   "metadata": {},
   "outputs": [
    {
     "name": "stdout",
     "output_type": "stream",
     "text": [
      "OrderedDict([('learning_rate', 0.199706731543767)])\n",
      "0.044695389560692265\n",
      "0.047302021122134316\n",
      "#############################\n",
      "0.9636481241914618\n",
      "0.9551148225469729\n"
     ]
    },
    {
     "data": {
      "image/png": "[encoded data removed]",
      "text/plain": [
       "<Figure size 432x288 with 2 Axes>"
      ]
     },
     "metadata": {
      "needs_background": "light"
     },
     "output_type": "display_data"
    }
   ],
   "source": [
    "print(bayes_xgb.best_params_)\n",
    "print(-bayes_xgb.score(X_train,y_train))\n",
    "print(-bayes_xgb.score(X_test,y_test))\n",
    "print(\"#############################\")\n",
    "print(precision_score(y_train,bayes_xgb.predict(X_train)))\n",
    "print(precision_score(y_test,bayes_xgb.predict(X_test)))\n",
    "predictions = bayes_xgb.predict(X_test)\n",
    "cm = confusion_matrix(y_test, predictions, labels=bayes_xgb.classes_)\n",
    "disp = ConfusionMatrixDisplay(confusion_matrix=cm,\n",
    "                               display_labels=['CFN', 'TCFP'])\n",
    "disp.plot()\n",
    "plt.title(\"XGBoost Classifier Bayes Search\")\n",
    "plt.savefig('Plots/CM.XGB.png',dpi=300, bbox_inches = \"tight\")\n"
   ]
  },
  {
   "cell_type": "code",
   "execution_count": null,
   "metadata": {},
   "outputs": [
    {
     "data": {
      "text/html": [
       "<div>\n",
       "<style scoped>\n",
       "    .dataframe tbody tr th:only-of-type {\n",
       "        vertical-align: middle;\n",
       "    }\n",
       "\n",
       "    .dataframe tbody tr th {\n",
       "        vertical-align: top;\n",
       "    }\n",
       "\n",
       "    .dataframe thead th {\n",
       "        text-align: right;\n",
       "    }\n",
       "</style>\n",
       "<table border=\"1\" class=\"dataframe\">\n",
       "  <thead>\n",
       "    <tr style=\"text-align: right;\">\n",
       "      <th></th>\n",
       "      <th>feature_importance</th>\n",
       "    </tr>\n",
       "  </thead>\n",
       "  <tbody>\n",
       "    <tr>\n",
       "      <th>median_hh_income_white</th>\n",
       "      <td>0.094715</td>\n",
       "    </tr>\n",
       "    <tr>\n",
       "      <th>bath__3.0</th>\n",
       "      <td>0.072193</td>\n",
       "    </tr>\n",
       "    <tr>\n",
       "      <th>status__PENDING</th>\n",
       "      <td>0.063546</td>\n",
       "    </tr>\n",
       "    <tr>\n",
       "      <th>status__ACTIVE</th>\n",
       "      <td>0.057477</td>\n",
       "    </tr>\n",
       "    <tr>\n",
       "      <th>type__SFR</th>\n",
       "      <td>0.054789</td>\n",
       "    </tr>\n",
       "    <tr>\n",
       "      <th>median_hh_income</th>\n",
       "      <td>0.048991</td>\n",
       "    </tr>\n",
       "    <tr>\n",
       "      <th>2020_turnout_eligible</th>\n",
       "      <td>0.045324</td>\n",
       "    </tr>\n",
       "    <tr>\n",
       "      <th>child_dependency_ratio</th>\n",
       "      <td>0.042329</td>\n",
       "    </tr>\n",
       "    <tr>\n",
       "      <th>county__Riverside</th>\n",
       "      <td>0.035299</td>\n",
       "    </tr>\n",
       "    <tr>\n",
       "      <th>bath__2.0</th>\n",
       "      <td>0.033343</td>\n",
       "    </tr>\n",
       "  </tbody>\n",
       "</table>\n",
       "</div>"
      ],
      "text/plain": [
       "                        feature_importance\n",
       "median_hh_income_white            0.094715\n",
       "bath__3.0                         0.072193\n",
       "status__PENDING                   0.063546\n",
       "status__ACTIVE                    0.057477\n",
       "type__SFR                         0.054789\n",
       "median_hh_income                  0.048991\n",
       "2020_turnout_eligible             0.045324\n",
       "child_dependency_ratio            0.042329\n",
       "county__Riverside                 0.035299\n",
       "bath__2.0                         0.033343"
      ]
     },
     "execution_count": 25,
     "metadata": {},
     "output_type": "execute_result"
    }
   ],
   "source": [
    "xbg_coef_df = pd.DataFrame(data=bayes_xgb.best_estimator_.feature_importances_.reshape(-1,1),columns = ['feature_importance'],index = bayes_xgb.best_estimator_.feature_names_in_).sort_values(by='feature_importance',ascending=False)\n",
    "xbg_coef_df.head(10)"
   ]
  },
  {
   "cell_type": "code",
   "execution_count": null,
   "metadata": {},
   "outputs": [
    {
     "name": "stdout",
     "output_type": "stream",
     "text": [
      "status__ACTIVE0.11937 +/- 0.004\n",
      "status__PENDING0.10288 +/- 0.003\n",
      "bath__2.00.08497 +/- 0.004\n",
      "bed__3  0.07835 +/- 0.001\n",
      "bath__3.00.07490 +/- 0.002\n",
      "bed__2  0.04702 +/- 0.000\n",
      "bed__4  0.04202 +/- 0.002\n",
      "building_sqft0.03935 +/- 0.004\n",
      "type__SFR0.03261 +/- 0.001\n",
      "status__CONTINGENT0.02812 +/- 0.001\n",
      "bath__1.00.02231 +/- 0.001\n",
      "bed__1  0.01128 +/- 0.001\n",
      "bath__4.00.00830 +/- 0.001\n",
      "lot_size_sqft0.00646 +/- 0.002\n",
      "type__Condo0.00420 +/- 0.000\n",
      "bed__5  0.00411 +/- 0.001\n",
      "effective_year_built0.00274 +/- 0.001\n",
      "dom     0.00200 +/- 0.001\n",
      "bath__2.50.00108 +/- 0.000\n",
      "old-age_dependency_ratio0.00084 +/- 0.000\n"
     ]
    }
   ],
   "source": [
    "r = permutation_importance(bayes_xgb,X_test,y_test,scoring='precision')\n",
    "\n",
    "for i in r.importances_mean.argsort()[::-1]:\n",
    "        if r.importances_mean[i] - 2 * r.importances_std[i] > 0:\n",
    "            print(f\"{X_test.columns[i]:<8}\"\n",
    "                  f\"{r.importances_mean[i]:.5f}\"\n",
    "                  f\" +/- {r.importances_std[i]:.3f}\")"
   ]
  },
  {
   "cell_type": "code",
   "execution_count": null,
   "metadata": {},
   "outputs": [
    {
     "name": "stdout",
     "output_type": "stream",
     "text": [
      "0.2071378829249076\n",
      "0.20238801411680568\n",
      "0.6956789363535639\n",
      "0.7101879327398615\n",
      "0.14607556827563922\n",
      "0.14582353279340157\n",
      "0.7918775885872066\n",
      "0.7922971114167813\n",
      "0.04465348545006822\n",
      "0.047191090205547674\n",
      "0.9627960865087538\n",
      "0.9490670700958144\n"
     ]
    }
   ],
   "source": [
    "print(-bayes.score(X_train,y_train))\n",
    "print(-bayes.score(X_test,y=y_test))\n",
    "print(precision_score(y_train,bayes.predict(X_train)))\n",
    "print(precision_score(y_test,bayes.predict(X_test)))\n",
    "\n",
    "print(-bayes_rf.score(X_train,y_train))\n",
    "print(-bayes_rf.score(X_test,y_test))\n",
    "print(precision_score(y_train,bayes_rf.predict(X_train)))\n",
    "print(precision_score(y_test,bayes_rf.predict(X_test)))\n",
    "\n",
    "print(-bayes_xgb.score(X_train,y_train))\n",
    "print(-bayes_xgb.score(X_test,y_test))\n",
    "print(precision_score(y_train,bayes_xgb.predict(X_train)))\n",
    "print(precision_score(y_test,bayes_xgb.predict(X_test)))"
   ]
  }
 ],
 "metadata": {
  "kernelspec": {
   "display_name": "Python 3.9.7 ('DSI')",
   "language": "python",
   "name": "python3"
  },
  "language_info": {
   "codemirror_mode": {
    "name": "ipython",
    "version": 3
   },
   "file_extension": ".py",
   "mimetype": "text/x-python",
   "name": "python",
   "nbconvert_exporter": "python",
   "pygments_lexer": "ipython3",
   "version": "3.9.7"
  },
  "orig_nbformat": 4,
  "vscode": {
   "interpreter": {
    "hash": "b4d6332538adc0f67df4f4e8d60068b20453d8fcecb090a715006aaedd7cb3da"
   }
  }
 },
 "nbformat": 4,
 "nbformat_minor": 2
}
