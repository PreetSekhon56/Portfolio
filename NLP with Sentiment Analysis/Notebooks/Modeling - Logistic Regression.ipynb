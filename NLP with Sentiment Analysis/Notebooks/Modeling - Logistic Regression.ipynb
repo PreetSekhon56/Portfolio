{
 "cells": [
  {
   "cell_type": "markdown",
   "id": "50a2237c-c160-4da8-9e04-b626d449c622",
   "metadata": {},
   "source": [
    "# Modeling - Logistic Regression\n",
    "___\n",
    "\n",
    "#"
   ]
  },
  {
   "cell_type": "markdown",
   "id": "737c6929-cbda-4fa2-b86b-67247a97f469",
   "metadata": {},
   "source": [
    "### Imports\n",
    "---"
   ]
  },
  {
   "cell_type": "code",
   "execution_count": 2,
   "id": "f07243ef-63ed-40c7-a0ba-975918000a45",
   "metadata": {},
   "outputs": [],
   "source": [
    "#Import all Libraries, Transformers, Models, and Plotting Tools\n",
    "\n",
    "import pandas as pd\n",
    "import matplotlib.pyplot as plt\n",
    "from sklearn.model_selection import train_test_split, GridSearchCV\n",
    "from sklearn.pipeline import Pipeline\n",
    "from sklearn.metrics import confusion_matrix, plot_confusion_matrix\n",
    "from sklearn.compose import make_column_transformer\n",
    "from sklearn.metrics import classification_report\n",
    "from sklearn.linear_model import LogisticRegression\n",
    "import nltk\n",
    "from nltk.corpus import stopwords\n",
    "from sklearn.feature_extraction.text import CountVectorizer "
   ]
  },
  {
   "cell_type": "markdown",
   "id": "5d7f1af8-cba5-4fb9-817f-939c75725cf9",
   "metadata": {},
   "source": [
    "#\n",
    "\n",
    "### Data and Features\n",
    "___"
   ]
  },
  {
   "cell_type": "code",
   "execution_count": 3,
   "id": "69356a4e-b6be-4627-847d-640ab3585317",
   "metadata": {},
   "outputs": [
    {
     "data": {
      "text/plain": [
       "0    0.588988\n",
       "1    0.411012\n",
       "Name: poker, dtype: float64"
      ]
     },
     "execution_count": 3,
     "metadata": {},
     "output_type": "execute_result"
    }
   ],
   "source": [
    "# Read in Clean Combined Data Frame\n",
    "df = pd.read_csv('./data/df.csv')\n",
    "\n",
    "#Set X and y Variables\n",
    "X = df[['lemma_text']] \n",
    "y = df['poker']\n",
    "\n",
    "#Train/Test/Split\n",
    "X_train, X_test, y_train, y_test = train_test_split(X, y, test_size=0.33, stratify=y, random_state=42)\n",
    "\n",
    "#Getting Baseline\n",
    "y.value_counts(normalize=True)"
   ]
  },
  {
   "cell_type": "markdown",
   "id": "28f01ca8-710f-47ff-a00d-3a3daedd724d",
   "metadata": {},
   "source": [
    "#\n",
    "\n",
    "### Modeling\n",
    "___"
   ]
  },
  {
   "cell_type": "code",
   "execution_count": 4,
   "id": "3ed0a094-b61f-4ded-9ebf-98bda1646840",
   "metadata": {},
   "outputs": [
    {
     "name": "stderr",
     "output_type": "stream",
     "text": [
      "[nltk_data] Downloading package stopwords to\n",
      "[nltk_data]     /Users/preetsekhon/nltk_data...\n",
      "[nltk_data]   Package stopwords is already up-to-date!\n"
     ]
    }
   ],
   "source": [
    "#instantiating count vectorizer \n",
    "cvec=CountVectorizer(stop_words='english')\n",
    "\n",
    "#Instantiating Stopwords and adding additional words added to stopwords list after initial word count EDA\n",
    "nltk.download('stopwords')\n",
    "stopwords = stopwords.words('english')\n",
    "stop_list = [\"dad\",\"poker\", \"say\", \"joke\"] \n",
    "stpwrd = nltk.corpus.stopwords.words('english')\n",
    "stpwrd.extend(stop_list)\n",
    "\n",
    "#Creating a Column Transformer to Model Non Sentiment Columns with Count Vectorizer\n",
    "ct1=make_column_transformer(\n",
    "    (cvec, 'lemma_text'), \n",
    "    remainder='passthrough'\n",
    ")\n",
    "\n",
    "#Creating a Pipeline with Model \n",
    "transformer_pipe1 = Pipeline([\n",
    "    ('ct1',ct1),\n",
    "    ('lr',LogisticRegression())\n",
    "])\n"
   ]
  },
  {
   "cell_type": "code",
   "execution_count": 5,
   "id": "21f1fd4a-888b-481c-9135-bb1c2afe7a0f",
   "metadata": {},
   "outputs": [
    {
     "data": {
      "text/plain": [
       "Pipeline(steps=[('ct1',\n",
       "                 ColumnTransformer(remainder='passthrough',\n",
       "                                   transformers=[('countvectorizer',\n",
       "                                                  CountVectorizer(stop_words='english'),\n",
       "                                                  'lemma_text')])),\n",
       "                ('lr', LogisticRegression())])"
      ]
     },
     "execution_count": 5,
     "metadata": {},
     "output_type": "execute_result"
    }
   ],
   "source": [
    "#Fitting Transformer on Training Set \n",
    "transformer_pipe1.fit(X_train, y_train)"
   ]
  },
  {
   "cell_type": "code",
   "execution_count": 6,
   "id": "b4abd81d-980f-4183-b158-efbabed77424",
   "metadata": {},
   "outputs": [
    {
     "data": {
      "text/plain": [
       "0.996741491672701"
      ]
     },
     "execution_count": 6,
     "metadata": {},
     "output_type": "execute_result"
    }
   ],
   "source": [
    "#Scoring Data on Training Set\n",
    "transformer_pipe1.score(X_train, y_train)"
   ]
  },
  {
   "cell_type": "code",
   "execution_count": 7,
   "id": "4c8839e8-c3b4-4784-80e6-e350049b093c",
   "metadata": {},
   "outputs": [
    {
     "data": {
      "text/plain": [
       "0.9759323902259783"
      ]
     },
     "execution_count": 7,
     "metadata": {},
     "output_type": "execute_result"
    }
   ],
   "source": [
    "#Scoring Data on Test Set\n",
    "transformer_pipe1.score(X_test, y_test)"
   ]
  },
  {
   "cell_type": "code",
   "execution_count": 8,
   "id": "9626e071-69fb-429e-83a2-6d521039cc3e",
   "metadata": {},
   "outputs": [
    {
     "name": "stdout",
     "output_type": "stream",
     "text": [
      "              precision    recall  f1-score   support\n",
      "\n",
      "   Dad Jokes       0.97      0.99      0.98      3206\n",
      "       Poker       0.99      0.95      0.97      2237\n",
      "\n",
      "    accuracy                           0.98      5443\n",
      "   macro avg       0.98      0.97      0.97      5443\n",
      "weighted avg       0.98      0.98      0.98      5443\n",
      "\n"
     ]
    }
   ],
   "source": [
    "# Get Predictions\n",
    "preds_pipe = transformer_pipe1.predict(X_test)\n",
    "\n",
    "# Calculate the specificity and precision\n",
    "print(classification_report(y_test, preds_pipe, target_names=['Dad Jokes', 'Poker']))"
   ]
  },
  {
   "cell_type": "code",
   "execution_count": 9,
   "id": "0646fa88-c5e6-4047-b0e5-aa5dbdb0106f",
   "metadata": {},
   "outputs": [
    {
     "name": "stderr",
     "output_type": "stream",
     "text": [
      "/Users/preetsekhon/opt/anaconda3/envs/dsi/lib/python3.9/site-packages/sklearn/utils/deprecation.py:87: FutureWarning: Function plot_confusion_matrix is deprecated; Function `plot_confusion_matrix` is deprecated in 1.0 and will be removed in 1.2. Use one of the class methods: ConfusionMatrixDisplay.from_predictions or ConfusionMatrixDisplay.from_estimator.\n",
      "  warnings.warn(msg, category=FutureWarning)\n"
     ]
    },
    {
     "data": {
      "image/png": "[encoded data removed]",
      "text/plain": [
       "<Figure size 432x288 with 2 Axes>"
      ]
     },
     "metadata": {
      "needs_background": "light"
     },
     "output_type": "display_data"
    }
   ],
   "source": [
    "#Plotting Confusion Matrix and Saving Plot to Folder\n",
    "plot_confusion_matrix(transformer_pipe1,X_test,y_test,display_labels=['Dad Jokes','Poker'])\n",
    "plt.title('Logistic Regression')\n",
    "plt.savefig('visuals/RF_CM.jpeg',dpi=300, bbox_inches = \"tight\")\n",
    "plt.show();"
   ]
  }
 ],
 "metadata": {
  "kernelspec": {
   "display_name": "Python 3 (ipykernel)",
   "language": "python",
   "name": "python3"
  },
  "language_info": {
   "codemirror_mode": {
    "name": "ipython",
    "version": 3
   },
   "file_extension": ".py",
   "mimetype": "text/x-python",
   "name": "python",
   "nbconvert_exporter": "python",
   "pygments_lexer": "ipython3",
   "version": "3.9.7"
  }
 },
 "nbformat": 4,
 "nbformat_minor": 5
}
