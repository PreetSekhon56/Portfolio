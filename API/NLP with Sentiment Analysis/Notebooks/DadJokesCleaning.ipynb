{
 "cells": [
  {
   "cell_type": "markdown",
   "id": "f65e9603-491f-4c04-b33b-58c7dfeef546",
   "metadata": {},
   "source": [
    "# Cleaning - Dad Jokes\n",
    "___\n",
    "\n",
    "#"
   ]
  },
  {
   "cell_type": "markdown",
   "id": "d51b324a-b4f0-41ab-896a-8a622b5b6857",
   "metadata": {},
   "source": [
    "### Imports and Reading in Data\n",
    "---"
   ]
  },
  {
   "cell_type": "code",
   "execution_count": 38,
   "id": "0a39a263-b12f-426e-a03c-a7b6c749c605",
   "metadata": {},
   "outputs": [
    {
     "name": "stderr",
     "output_type": "stream",
     "text": [
      "/var/folders/3j/my4n0ykx0yb51nj_xv6qbxp40000gn/T/ipykernel_9627/4039426275.py:8: DtypeWarning: Columns (0,1,2,4,5,7,9,10,11,12,13,14,18,20,21,22,23,24,25,26,27,29,30,31,32,33,34,37,38,40,41,42,45,46,47,51,55,58,60,61,62,64,65,66,67,68,69,70,71,75,80,81,85,86,88,89) have mixed types. Specify dtype option on import or set low_memory=False.\n",
      "  dj = pd.read_csv('data/DADJOKES_initial_scrape.csv')\n"
     ]
    },
    {
     "data": {
      "text/plain": [
       "(50102, 90)"
      ]
     },
     "execution_count": 38,
     "metadata": {},
     "output_type": "execute_result"
    }
   ],
   "source": [
    "#Libraries\n",
    "import pandas as pd\n",
    "\n",
    "#Dad Jokes Raw Data\n",
    "dj = pd.read_csv('data/DADJOKES_initial_scrape.csv')\n",
    "\n",
    "#Shape\n",
    "dj.shape"
   ]
  },
  {
   "cell_type": "code",
   "execution_count": 39,
   "id": "69cbea71-e6b3-42ca-b400-18e3d77b72c2",
   "metadata": {},
   "outputs": [
    {
     "data": {
      "text/html": [
       "<div>\n",
       "<style scoped>\n",
       "    .dataframe tbody tr th:only-of-type {\n",
       "        vertical-align: middle;\n",
       "    }\n",
       "\n",
       "    .dataframe tbody tr th {\n",
       "        vertical-align: top;\n",
       "    }\n",
       "\n",
       "    .dataframe thead th {\n",
       "        text-align: right;\n",
       "    }\n",
       "</style>\n",
       "<table border=\"1\" class=\"dataframe\">\n",
       "  <thead>\n",
       "    <tr style=\"text-align: right;\">\n",
       "      <th></th>\n",
       "      <th>Unnamed: 0</th>\n",
       "      <th>all_awardings</th>\n",
       "      <th>allow_live_comments</th>\n",
       "      <th>author</th>\n",
       "      <th>author_flair_css_class</th>\n",
       "      <th>author_flair_richtext</th>\n",
       "      <th>author_flair_text</th>\n",
       "      <th>author_flair_type</th>\n",
       "      <th>author_fullname</th>\n",
       "      <th>author_is_blocked</th>\n",
       "      <th>...</th>\n",
       "      <th>rte_mode</th>\n",
       "      <th>brand_safe</th>\n",
       "      <th>approved_at_utc</th>\n",
       "      <th>author_created_utc</th>\n",
       "      <th>banned_at_utc</th>\n",
       "      <th>media_embed</th>\n",
       "      <th>secure_media_embed</th>\n",
       "      <th>suggested_sort</th>\n",
       "      <th>mod_reports</th>\n",
       "      <th>user_reports</th>\n",
       "    </tr>\n",
       "  </thead>\n",
       "  <tbody>\n",
       "    <tr>\n",
       "      <th>0</th>\n",
       "      <td>0</td>\n",
       "      <td>[]</td>\n",
       "      <td>False</td>\n",
       "      <td>Ok_Strength4608</td>\n",
       "      <td>NaN</td>\n",
       "      <td>[]</td>\n",
       "      <td>NaN</td>\n",
       "      <td>text</td>\n",
       "      <td>t2_hg4t7u8x</td>\n",
       "      <td>False</td>\n",
       "      <td>...</td>\n",
       "      <td>NaN</td>\n",
       "      <td>NaN</td>\n",
       "      <td>NaN</td>\n",
       "      <td>NaN</td>\n",
       "      <td>NaN</td>\n",
       "      <td>NaN</td>\n",
       "      <td>NaN</td>\n",
       "      <td>NaN</td>\n",
       "      <td>NaN</td>\n",
       "      <td>NaN</td>\n",
       "    </tr>\n",
       "    <tr>\n",
       "      <th>1</th>\n",
       "      <td>1</td>\n",
       "      <td>[]</td>\n",
       "      <td>False</td>\n",
       "      <td>nate_hawwk</td>\n",
       "      <td>NaN</td>\n",
       "      <td>[]</td>\n",
       "      <td>NaN</td>\n",
       "      <td>text</td>\n",
       "      <td>t2_leo5a0m</td>\n",
       "      <td>False</td>\n",
       "      <td>...</td>\n",
       "      <td>NaN</td>\n",
       "      <td>NaN</td>\n",
       "      <td>NaN</td>\n",
       "      <td>NaN</td>\n",
       "      <td>NaN</td>\n",
       "      <td>NaN</td>\n",
       "      <td>NaN</td>\n",
       "      <td>NaN</td>\n",
       "      <td>NaN</td>\n",
       "      <td>NaN</td>\n",
       "    </tr>\n",
       "  </tbody>\n",
       "</table>\n",
       "<p>2 rows × 90 columns</p>\n",
       "</div>"
      ],
      "text/plain": [
       "  Unnamed: 0 all_awardings allow_live_comments           author  \\\n",
       "0          0            []               False  Ok_Strength4608   \n",
       "1          1            []               False       nate_hawwk   \n",
       "\n",
       "  author_flair_css_class author_flair_richtext  author_flair_text  \\\n",
       "0                    NaN                    []                NaN   \n",
       "1                    NaN                    []                NaN   \n",
       "\n",
       "  author_flair_type author_fullname author_is_blocked  ... rte_mode  \\\n",
       "0              text     t2_hg4t7u8x             False  ...      NaN   \n",
       "1              text      t2_leo5a0m             False  ...      NaN   \n",
       "\n",
       "  brand_safe approved_at_utc author_created_utc banned_at_utc  media_embed  \\\n",
       "0        NaN             NaN                NaN           NaN          NaN   \n",
       "1        NaN             NaN                NaN           NaN          NaN   \n",
       "\n",
       "  secure_media_embed suggested_sort mod_reports user_reports  \n",
       "0                NaN            NaN         NaN          NaN  \n",
       "1                NaN            NaN         NaN          NaN  \n",
       "\n",
       "[2 rows x 90 columns]"
      ]
     },
     "execution_count": 39,
     "metadata": {},
     "output_type": "execute_result"
    }
   ],
   "source": [
    "dj.head(2)"
   ]
  },
  {
   "cell_type": "markdown",
   "id": "ed18d805-bc67-4da1-bd2f-7da5d95221bd",
   "metadata": {},
   "source": [
    "### Cleaning\n",
    "---"
   ]
  },
  {
   "cell_type": "code",
   "execution_count": 40,
   "id": "ca7f8711-0cc4-4180-b318-f45ec993d465",
   "metadata": {},
   "outputs": [
    {
     "data": {
      "text/plain": [
       "selftext     1487\n",
       "title           8\n",
       "subreddit       8\n",
       "dtype: int64"
      ]
     },
     "execution_count": 40,
     "metadata": {},
     "output_type": "execute_result"
    }
   ],
   "source": [
    "#Dropped all Columns but These Three\n",
    "dj = dj[['selftext', 'title', 'subreddit']]\n",
    "\n",
    "#Null Value Check\n",
    "dj.isna().sum()"
   ]
  },
  {
   "cell_type": "code",
   "execution_count": 41,
   "id": "a66c9a75-1d8a-4773-b97a-4e3ccc827dc5",
   "metadata": {},
   "outputs": [
    {
     "data": {
      "text/plain": [
       "(48613, 3)"
      ]
     },
     "execution_count": 41,
     "metadata": {},
     "output_type": "execute_result"
    }
   ],
   "source": [
    "#Dropping Nulls\n",
    "dj.dropna(inplace=True)\n",
    "\n",
    "dj.shape"
   ]
  },
  {
   "cell_type": "code",
   "execution_count": 42,
   "id": "69b59359-fd34-4d14-89d8-567d90b89ec8",
   "metadata": {},
   "outputs": [
    {
     "data": {
      "text/plain": [
       "[removed]                                                                                                                                                                                                                                                                    1235\n",
       "This evening I was packing up the dishwasher when my my mum told me to put a tablet in.\\nSo cue my dad who was standing just outside with his windows tablet so I went into the hall and picked it up and almost put it into the dishwasher when mum called me out on it.     778\n",
       "1. Wait till 11:59.\\n2. Say, \"See you next year!\"\\n3. Turn your back on person.\\n4. Turn back a minute later.\\n5. \"Heeeeey there!\"\\n\\nIf we stick to this, I'm sure we can have a great new year!                                                                             389\n",
       "See you next year!                                                                                                                                                                                                                                                            389\n",
       "\"The opposite of down, dummy.\"                                                                                                                                                                                                                                                389\n",
       "                                                                                                                                                                                                                                                                             ... \n",
       "One says “How about a baking while skydiving? That’d be thrilling!”\\nThe other replies, “I dunno, I don’t think It’d be worth the whisk”                                                                                                                                        1\n",
       "I hit the roof                                                                                                                                                                                                                                                                  1\n",
       "Sorry, this was a ruff one.                                                                                                                                                                                                                                                     1\n",
       "This was a rough joke.                                                                                                                                                                                                                                                          1\n",
       "It's partly an even number                                                                                                                                                                                                                                                      1\n",
       "Name: selftext, Length: 9275, dtype: int64"
      ]
     },
     "execution_count": 42,
     "metadata": {},
     "output_type": "execute_result"
    }
   ],
   "source": [
    "#Checking for Repeating Values\n",
    "dj['selftext'].value_counts()"
   ]
  },
  {
   "cell_type": "code",
   "execution_count": 43,
   "id": "37b540bc-9671-468f-8b7d-de76e50d67e5",
   "metadata": {},
   "outputs": [
    {
     "data": {
      "text/plain": [
       "(47378, 3)"
      ]
     },
     "execution_count": 43,
     "metadata": {},
     "output_type": "execute_result"
    }
   ],
   "source": [
    "#Removed '[removed]'\n",
    "dj = dj[dj.selftext != '[removed]']\n",
    "\n",
    "dj.shape"
   ]
  },
  {
   "cell_type": "code",
   "execution_count": 44,
   "id": "45d8fdfd-d36c-465f-a3f0-2a837b33608c",
   "metadata": {},
   "outputs": [
    {
     "data": {
      "text/plain": [
       "(9713, 2)"
      ]
     },
     "execution_count": 44,
     "metadata": {},
     "output_type": "execute_result"
    }
   ],
   "source": [
    "#Combining All Text to One Column for Feature Engineering and Target Column\n",
    "dj['text'] = dj[['title', 'selftext']].apply(\" \".join, axis=1)\n",
    "dj = dj[['text', 'subreddit']]\n",
    "\n",
    "#Dropping Duplicates\n",
    "dj.drop_duplicates('text',inplace=True)\n",
    "\n",
    "#Lowercasing Text for Featuring\n",
    "dj['text'] = dj['text'].str.lower()\n",
    "\n",
    "dj.shape"
   ]
  },
  {
   "cell_type": "markdown",
   "id": "96d095e4-2648-4250-be52-f4c1ac1624f1",
   "metadata": {},
   "source": [
    "### Cleaned Data Set Saved to Data Folder\n",
    "---"
   ]
  },
  {
   "cell_type": "code",
   "execution_count": 45,
   "id": "b43c1bc0-3932-45f6-a168-d757cbb6838e",
   "metadata": {},
   "outputs": [],
   "source": [
    "dj.to_csv('./data/DADJOKES_cleaned.csv')"
   ]
  }
 ],
 "metadata": {
  "kernelspec": {
   "display_name": "Python 3 (ipykernel)",
   "language": "python",
   "name": "python3"
  },
  "language_info": {
   "codemirror_mode": {
    "name": "ipython",
    "version": 3
   },
   "file_extension": ".py",
   "mimetype": "text/x-python",
   "name": "python",
   "nbconvert_exporter": "python",
   "pygments_lexer": "ipython3",
   "version": "3.9.7"
  }
 },
 "nbformat": 4,
 "nbformat_minor": 5
}
