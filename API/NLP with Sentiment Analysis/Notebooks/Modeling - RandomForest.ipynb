{
 "cells": [
  {
   "cell_type": "markdown",
   "id": "50a2237c-c160-4da8-9e04-b626d449c622",
   "metadata": {},
   "source": [
    "# Modeling - Random Forest Classifier\n",
    "___\n",
    "\n",
    "#"
   ]
  },
  {
   "cell_type": "markdown",
   "id": "a264fbf7-aaf3-49c0-bb84-61ad83f70598",
   "metadata": {},
   "source": [
    "### Imports\n",
    "---"
   ]
  },
  {
   "cell_type": "code",
   "execution_count": 14,
   "id": "2ceb97d4-b69e-40f8-a9f5-9f08a0ad7af2",
   "metadata": {},
   "outputs": [],
   "source": [
    "#Import all Libraries, Transformers, Models, and Plotting Tools\n",
    "\n",
    "import pandas as pd\n",
    "import matplotlib.pyplot as plt\n",
    "from sklearn.model_selection import train_test_split, GridSearchCV\n",
    "from sklearn.pipeline import Pipeline\n",
    "from sklearn.metrics import confusion_matrix, plot_confusion_matrix\n",
    "from sklearn.compose import make_column_transformer\n",
    "from sklearn.metrics import classification_report\n",
    "from sklearn.ensemble import RandomForestClassifier\n",
    "import nltk\n",
    "from nltk.corpus import stopwords\n",
    "from sklearn.feature_extraction.text import CountVectorizer "
   ]
  },
  {
   "cell_type": "markdown",
   "id": "7d64fa5a-fd5a-49b6-a5f2-c8b6ee13483a",
   "metadata": {},
   "source": [
    "#\n",
    "\n",
    "### Data and Features\n",
    "___"
   ]
  },
  {
   "cell_type": "code",
   "execution_count": 22,
   "id": "b348d96a-2f4a-4c53-a191-60fcac16ae21",
   "metadata": {},
   "outputs": [
    {
     "data": {
      "text/plain": [
       "0    0.588988\n",
       "1    0.411012\n",
       "Name: poker, dtype: float64"
      ]
     },
     "execution_count": 22,
     "metadata": {},
     "output_type": "execute_result"
    }
   ],
   "source": [
    "# Read in Clean Combined Data Frame\n",
    "df = pd.read_csv('./data/df.csv')\n",
    "\n",
    "#Set X and y Variables\n",
    "X = df[['lemma_text']] \n",
    "y = df['poker']\n",
    "\n",
    "#Train/Test/Split\n",
    "X_train, X_test, y_train, y_test = train_test_split(X, y, test_size=0.33, stratify=y, random_state=42)\n",
    "\n",
    "#Getting Baseline\n",
    "y.value_counts(normalize=True)"
   ]
  },
  {
   "cell_type": "markdown",
   "id": "6bf2630a-542b-4338-be33-ebaf45e1d444",
   "metadata": {},
   "source": [
    "#\n",
    "\n",
    "### Modeling\n",
    "___"
   ]
  },
  {
   "cell_type": "code",
   "execution_count": 16,
   "id": "3ed0a094-b61f-4ded-9ebf-98bda1646840",
   "metadata": {},
   "outputs": [
    {
     "name": "stderr",
     "output_type": "stream",
     "text": [
      "[nltk_data] Downloading package stopwords to\n",
      "[nltk_data]     /Users/preetsekhon/nltk_data...\n",
      "[nltk_data]   Package stopwords is already up-to-date!\n"
     ]
    }
   ],
   "source": [
    "#instantiating count vectorizer \n",
    "cvec=CountVectorizer(stop_words='english')\n",
    "\n",
    "#Instantiating Stopwords and adding additional words added to stopwords list after initial word count EDA\n",
    "nltk.download('stopwords')\n",
    "stopwords = stopwords.words('english')\n",
    "stop_list = [\"dad\",\"poker\", \"say\", \"joke\"] \n",
    "stpwrd = nltk.corpus.stopwords.words('english')\n",
    "stpwrd.extend(stop_list)\n",
    "\n",
    "#Creating a Column Transformer to Model Non Sentiment Columns with Count Vectorizer\n",
    "ct1=make_column_transformer(\n",
    "    (cvec, 'lemma_text'), \n",
    "    remainder='passthrough'\n",
    ")\n",
    "\n",
    "#Creating a Pipeline with Model \n",
    "transformer_pipe1 = Pipeline([\n",
    "    ('ct1',ct1),\n",
    "    ('rf',RandomForestClassifier())\n",
    "])\n"
   ]
  },
  {
   "cell_type": "code",
   "execution_count": 17,
   "id": "aaadfeea-5c86-44a7-a5c0-725a1aed6915",
   "metadata": {},
   "outputs": [
    {
     "data": {
      "text/plain": [
       "Pipeline(steps=[('ct1',\n",
       "                 ColumnTransformer(remainder='passthrough',\n",
       "                                   transformers=[('countvectorizer',\n",
       "                                                  CountVectorizer(stop_words='english'),\n",
       "                                                  'lemma_text')])),\n",
       "                ('rf', RandomForestClassifier())])"
      ]
     },
     "execution_count": 17,
     "metadata": {},
     "output_type": "execute_result"
    }
   ],
   "source": [
    "#Fitting Transformer on Training Set \n",
    "transformer_pipe1.fit(X_train, y_train)"
   ]
  },
  {
   "cell_type": "code",
   "execution_count": 18,
   "id": "cec8c433-e5ea-4c21-ac2c-26f1805805f2",
   "metadata": {},
   "outputs": [
    {
     "data": {
      "text/plain": [
       "1.0"
      ]
     },
     "execution_count": 18,
     "metadata": {},
     "output_type": "execute_result"
    }
   ],
   "source": [
    "#Scoring Data on Training Set\n",
    "transformer_pipe1.score(X_train, y_train)"
   ]
  },
  {
   "cell_type": "code",
   "execution_count": 19,
   "id": "03cf6d89-463e-42dd-87f7-a48880ba1a83",
   "metadata": {},
   "outputs": [
    {
     "data": {
      "text/plain": [
       "0.9739114458938085"
      ]
     },
     "execution_count": 19,
     "metadata": {},
     "output_type": "execute_result"
    }
   ],
   "source": [
    "#Scoring Data on Test Set\n",
    "transformer_pipe1.score(X_test, y_test)"
   ]
  },
  {
   "cell_type": "code",
   "execution_count": 20,
   "id": "486042c5-e3dd-457f-9430-91dc1daa5a9f",
   "metadata": {},
   "outputs": [
    {
     "name": "stdout",
     "output_type": "stream",
     "text": [
      "              precision    recall  f1-score   support\n",
      "\n",
      "   Dad Jokes       0.96      1.00      0.98      3206\n",
      "       Poker       0.99      0.94      0.97      2237\n",
      "\n",
      "    accuracy                           0.97      5443\n",
      "   macro avg       0.98      0.97      0.97      5443\n",
      "weighted avg       0.97      0.97      0.97      5443\n",
      "\n"
     ]
    }
   ],
   "source": [
    "# Get Predictions\n",
    "preds_pipe = transformer_pipe1.predict(X_test)\n",
    "\n",
    "# Calculate the specificity and precision\n",
    "print(classification_report(y_test, preds_pipe, target_names=['Dad Jokes', 'Poker']))"
   ]
  },
  {
   "cell_type": "code",
   "execution_count": 21,
   "id": "50c5be34-6fd9-48b6-a3e1-8a67ba9b3a12",
   "metadata": {},
   "outputs": [
    {
     "name": "stderr",
     "output_type": "stream",
     "text": [
      "/Users/preetsekhon/opt/anaconda3/envs/dsi/lib/python3.9/site-packages/sklearn/utils/deprecation.py:87: FutureWarning: Function plot_confusion_matrix is deprecated; Function `plot_confusion_matrix` is deprecated in 1.0 and will be removed in 1.2. Use one of the class methods: ConfusionMatrixDisplay.from_predictions or ConfusionMatrixDisplay.from_estimator.\n",
      "  warnings.warn(msg, category=FutureWarning)\n"
     ]
    },
    {
     "data": {
      "image/png": "[encoded data removed]",
      "text/plain": [
       "<Figure size 432x288 with 2 Axes>"
      ]
     },
     "metadata": {
      "needs_background": "light"
     },
     "output_type": "display_data"
    }
   ],
   "source": [
    "#Plotting Confusion Matrix and Saving Plot to Folder\n",
    "plot_confusion_matrix(transformer_pipe1,X_test,y_test,display_labels=['Dad Jokes','Poker'])\n",
    "plt.title('Random Forest')\n",
    "plt.savefig('visuals/RF_CM.jpeg',dpi=300, bbox_inches = \"tight\")\n",
    "plt.show();"
   ]
  }
 ],
 "metadata": {
  "kernelspec": {
   "display_name": "Python 3 (ipykernel)",
   "language": "python",
   "name": "python3"
  },
  "language_info": {
   "codemirror_mode": {
    "name": "ipython",
    "version": 3
   },
   "file_extension": ".py",
   "mimetype": "text/x-python",
   "name": "python",
   "nbconvert_exporter": "python",
   "pygments_lexer": "ipython3",
   "version": "3.9.7"
  }
 },
 "nbformat": 4,
 "nbformat_minor": 5
}
