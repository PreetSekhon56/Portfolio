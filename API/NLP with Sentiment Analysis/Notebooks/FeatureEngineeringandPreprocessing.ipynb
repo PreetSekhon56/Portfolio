{
 "cells": [
  {
   "cell_type": "markdown",
   "id": "6cb7f734-d2b6-42b5-8743-71e324434c5a",
   "metadata": {},
   "source": [
    "# Feature Engineering and Preprocessing\n",
    "___\n",
    "\n",
    "#"
   ]
  },
  {
   "cell_type": "markdown",
   "id": "14b8ae0c-e1f0-4d0d-8bdf-fbddc9fc0886",
   "metadata": {},
   "source": [
    "### Imports and Reading in Data\n",
    "---"
   ]
  },
  {
   "cell_type": "code",
   "execution_count": 51,
   "id": "133f9a09-9fd6-4e24-80b2-4078e42a90ea",
   "metadata": {},
   "outputs": [
    {
     "name": "stderr",
     "output_type": "stream",
     "text": [
      "[nltk_data] Downloading package stopwords to\n",
      "[nltk_data]     /Users/preetsekhon/nltk_data...\n",
      "[nltk_data]   Package stopwords is already up-to-date!\n"
     ]
    }
   ],
   "source": [
    "import pandas as pd\n",
    "import numpy as np\n",
    "import matplotlib.pyplot as plt\n",
    "import seaborn as sns\n",
    "import nltk\n",
    "from nltk.corpus import wordnet \n",
    "from nltk.tokenize import sent_tokenize, word_tokenize, RegexpTokenizer\n",
    "from nltk.stem import WordNetLemmatizer\n",
    "from nltk.stem.porter import PorterStemmer\n",
    "from nltk.corpus import stopwords\n",
    "from nltk.sentiment.vader import SentimentIntensityAnalyzer\n",
    "import re\n",
    "from sklearn.feature_extraction.text import CountVectorizer\n",
    "nltk.download('stopwords')\n",
    "\n",
    "pk = pd.read_csv('data/POKER_cleaned.csv')\n",
    "dj = pd.read_csv('data/DADJOKES_cleaned.csv')"
   ]
  },
  {
   "cell_type": "code",
   "execution_count": 52,
   "id": "14e6fb34-8d3f-4260-b123-1650be24b78d",
   "metadata": {},
   "outputs": [
    {
     "data": {
      "text/plain": [
       "(6778, 3)"
      ]
     },
     "execution_count": 52,
     "metadata": {},
     "output_type": "execute_result"
    }
   ],
   "source": [
    "pk.shape"
   ]
  },
  {
   "cell_type": "code",
   "execution_count": 53,
   "id": "4f51c06f-225d-4280-9e7d-a15a23e32b2a",
   "metadata": {},
   "outputs": [
    {
     "data": {
      "text/plain": [
       "(9713, 3)"
      ]
     },
     "execution_count": 53,
     "metadata": {},
     "output_type": "execute_result"
    }
   ],
   "source": [
    "dj.shape"
   ]
  },
  {
   "cell_type": "code",
   "execution_count": 54,
   "id": "c920569d-9353-47d9-8726-47143125c706",
   "metadata": {},
   "outputs": [],
   "source": [
    "#Combining Data Sets\n",
    "df = pd.concat([pk, dj])"
   ]
  },
  {
   "cell_type": "code",
   "execution_count": 55,
   "id": "8bca6536-fea4-47dc-984f-778a778d1af4",
   "metadata": {},
   "outputs": [
    {
     "data": {
      "text/plain": [
       "(16491, 3)"
      ]
     },
     "execution_count": 55,
     "metadata": {},
     "output_type": "execute_result"
    }
   ],
   "source": [
    "df.shape"
   ]
  },
  {
   "cell_type": "code",
   "execution_count": 56,
   "id": "276618e8-6318-43cb-99da-e41ac19dd5dc",
   "metadata": {},
   "outputs": [
    {
     "data": {
      "text/html": [
       "<div>\n",
       "<style scoped>\n",
       "    .dataframe tbody tr th:only-of-type {\n",
       "        vertical-align: middle;\n",
       "    }\n",
       "\n",
       "    .dataframe tbody tr th {\n",
       "        vertical-align: top;\n",
       "    }\n",
       "\n",
       "    .dataframe thead th {\n",
       "        text-align: right;\n",
       "    }\n",
       "</style>\n",
       "<table border=\"1\" class=\"dataframe\">\n",
       "  <thead>\n",
       "    <tr style=\"text-align: right;\">\n",
       "      <th></th>\n",
       "      <th>Unnamed: 0</th>\n",
       "      <th>text</th>\n",
       "      <th>subreddit</th>\n",
       "    </tr>\n",
       "  </thead>\n",
       "  <tbody>\n",
       "    <tr>\n",
       "      <th>0</th>\n",
       "      <td>1</td>\n",
       "      <td>best poker content for 6 max zone poker if you...</td>\n",
       "      <td>poker</td>\n",
       "    </tr>\n",
       "    <tr>\n",
       "      <th>1</th>\n",
       "      <td>2</td>\n",
       "      <td>4♦️5♦️ \\n\\n[view poll](https://www.reddit.com/...</td>\n",
       "      <td>poker</td>\n",
       "    </tr>\n",
       "  </tbody>\n",
       "</table>\n",
       "</div>"
      ],
      "text/plain": [
       "   Unnamed: 0                                               text subreddit\n",
       "0           1  best poker content for 6 max zone poker if you...     poker\n",
       "1           2  4♦️5♦️ \\n\\n[view poll](https://www.reddit.com/...     poker"
      ]
     },
     "execution_count": 56,
     "metadata": {},
     "output_type": "execute_result"
    }
   ],
   "source": [
    "pk.head(2)"
   ]
  },
  {
   "cell_type": "code",
   "execution_count": 57,
   "id": "d469c60b-1843-44de-92c7-79cca8416d99",
   "metadata": {},
   "outputs": [
    {
     "data": {
      "text/html": [
       "<div>\n",
       "<style scoped>\n",
       "    .dataframe tbody tr th:only-of-type {\n",
       "        vertical-align: middle;\n",
       "    }\n",
       "\n",
       "    .dataframe tbody tr th {\n",
       "        vertical-align: top;\n",
       "    }\n",
       "\n",
       "    .dataframe thead th {\n",
       "        text-align: right;\n",
       "    }\n",
       "</style>\n",
       "<table border=\"1\" class=\"dataframe\">\n",
       "  <thead>\n",
       "    <tr style=\"text-align: right;\">\n",
       "      <th></th>\n",
       "      <th>Unnamed: 0</th>\n",
       "      <th>text</th>\n",
       "      <th>subreddit</th>\n",
       "    </tr>\n",
       "  </thead>\n",
       "  <tbody>\n",
       "    <tr>\n",
       "      <th>0</th>\n",
       "      <td>0</td>\n",
       "      <td>what is terrible homework called? workshit.</td>\n",
       "      <td>dadjokes</td>\n",
       "    </tr>\n",
       "    <tr>\n",
       "      <th>1</th>\n",
       "      <td>1</td>\n",
       "      <td>what device does the army use to find good sol...</td>\n",
       "      <td>dadjokes</td>\n",
       "    </tr>\n",
       "  </tbody>\n",
       "</table>\n",
       "</div>"
      ],
      "text/plain": [
       "   Unnamed: 0                                               text subreddit\n",
       "0           0        what is terrible homework called? workshit.  dadjokes\n",
       "1           1  what device does the army use to find good sol...  dadjokes"
      ]
     },
     "execution_count": 57,
     "metadata": {},
     "output_type": "execute_result"
    }
   ],
   "source": [
    "dj.head(2)"
   ]
  },
  {
   "cell_type": "code",
   "execution_count": 58,
   "id": "d5555bbd-8d35-495b-8ed3-53eec02e584f",
   "metadata": {},
   "outputs": [
    {
     "data": {
      "text/html": [
       "<div>\n",
       "<style scoped>\n",
       "    .dataframe tbody tr th:only-of-type {\n",
       "        vertical-align: middle;\n",
       "    }\n",
       "\n",
       "    .dataframe tbody tr th {\n",
       "        vertical-align: top;\n",
       "    }\n",
       "\n",
       "    .dataframe thead th {\n",
       "        text-align: right;\n",
       "    }\n",
       "</style>\n",
       "<table border=\"1\" class=\"dataframe\">\n",
       "  <thead>\n",
       "    <tr style=\"text-align: right;\">\n",
       "      <th></th>\n",
       "      <th>Unnamed: 0</th>\n",
       "      <th>text</th>\n",
       "      <th>subreddit</th>\n",
       "    </tr>\n",
       "  </thead>\n",
       "  <tbody>\n",
       "    <tr>\n",
       "      <th>0</th>\n",
       "      <td>1</td>\n",
       "      <td>best poker content for 6 max zone poker if you...</td>\n",
       "      <td>poker</td>\n",
       "    </tr>\n",
       "    <tr>\n",
       "      <th>1</th>\n",
       "      <td>2</td>\n",
       "      <td>4♦️5♦️ \\n\\n[view poll](https://www.reddit.com/...</td>\n",
       "      <td>poker</td>\n",
       "    </tr>\n",
       "  </tbody>\n",
       "</table>\n",
       "</div>"
      ],
      "text/plain": [
       "   Unnamed: 0                                               text subreddit\n",
       "0           1  best poker content for 6 max zone poker if you...     poker\n",
       "1           2  4♦️5♦️ \\n\\n[view poll](https://www.reddit.com/...     poker"
      ]
     },
     "execution_count": 58,
     "metadata": {},
     "output_type": "execute_result"
    }
   ],
   "source": [
    "df.head(2)"
   ]
  },
  {
   "cell_type": "code",
   "execution_count": 59,
   "id": "bcd4f71e-a4ff-4eae-94e2-1b8c463d4345",
   "metadata": {},
   "outputs": [],
   "source": [
    "#Dropping Row\n",
    "pk.drop(['Unnamed: 0'], axis = 1, inplace=True)\n",
    "dj.drop(['Unnamed: 0'], axis = 1, inplace=True)\n",
    "df.drop(['Unnamed: 0'], axis = 1, inplace=True)"
   ]
  },
  {
   "cell_type": "markdown",
   "id": "83ccbed8-3c91-4390-b50b-69d6959b999c",
   "metadata": {},
   "source": [
    "#\n",
    "\n",
    "### Tokenizing and Sentiment Intensity Analyzer\n",
    "---"
   ]
  },
  {
   "cell_type": "code",
   "execution_count": 61,
   "id": "f10ec768-9be0-49be-929d-7b014d5061a2",
   "metadata": {},
   "outputs": [],
   "source": [
    "#Tokenizing\n",
    "pk['tokenized_text'] = pk['text'].apply(word_tokenize)\n",
    "dj['tokenized_text'] = dj['text'].apply(word_tokenize)\n",
    "df['tokenized_text'] = df['text'].apply(word_tokenize)\n",
    "\n",
    "#Instantiating \n",
    "sent = SentimentIntensityAnalyzer()\n",
    "\n",
    "#Creating Sentiment Columns and Sentiment For Loop\n",
    "\n",
    "pk['neg'] = 0\n",
    "pk['pos'] = 0\n",
    "pk['neu'] = 0\n",
    "pk['compound'] = 0\n",
    "\n",
    "for row in pk.iterrows():\n",
    "    idx, values = row\n",
    "    sentiments = sent.polarity_scores(values['text'])\n",
    "    pk.loc[idx, 'neg'] = sentiments['neg']\n",
    "    pk.loc[idx, 'pos'] = sentiments['pos']\n",
    "    pk.loc[idx, 'neu'] = sentiments['neu']\n",
    "    pk.loc[idx, 'compound'] = sentiments['compound']\n",
    "\n",
    "    \n",
    "dj['neg'] = 0\n",
    "dj['pos'] = 0\n",
    "dj['neu'] = 0\n",
    "dj['compound'] = 0\n",
    "\n",
    "for row in dj.iterrows():\n",
    "    idx, values = row\n",
    "    sentiments = sent.polarity_scores(values['text'])\n",
    "    dj.loc[idx, 'neg'] = sentiments['neg']\n",
    "    dj.loc[idx, 'pos'] = sentiments['pos']\n",
    "    dj.loc[idx, 'neu'] = sentiments['neu']\n",
    "    dj.loc[idx, 'compound'] = sentiments['compound']\n",
    "\n",
    "    \n",
    "df['neg'] = 0\n",
    "df['pos'] = 0\n",
    "df['neu'] = 0\n",
    "df['compound'] = 0\n",
    "\n",
    "for row in df.iterrows():\n",
    "    idx, values = row\n",
    "    sentiments = sent.polarity_scores(values['text'])\n",
    "    df.loc[idx, 'neg'] = sentiments['neg']\n",
    "    df.loc[idx, 'pos'] = sentiments['pos']\n",
    "    df.loc[idx, 'neu'] = sentiments['neu']\n",
    "    df.loc[idx, 'compound'] = sentiments['compound']"
   ]
  },
  {
   "cell_type": "code",
   "execution_count": 62,
   "id": "98c95fd7-8d16-4167-bdfc-ce1c93331d63",
   "metadata": {},
   "outputs": [
    {
     "data": {
      "text/html": [
       "<div>\n",
       "<style scoped>\n",
       "    .dataframe tbody tr th:only-of-type {\n",
       "        vertical-align: middle;\n",
       "    }\n",
       "\n",
       "    .dataframe tbody tr th {\n",
       "        vertical-align: top;\n",
       "    }\n",
       "\n",
       "    .dataframe thead th {\n",
       "        text-align: right;\n",
       "    }\n",
       "</style>\n",
       "<table border=\"1\" class=\"dataframe\">\n",
       "  <thead>\n",
       "    <tr style=\"text-align: right;\">\n",
       "      <th></th>\n",
       "      <th>text</th>\n",
       "      <th>subreddit</th>\n",
       "      <th>tokenized_text</th>\n",
       "      <th>neg</th>\n",
       "      <th>pos</th>\n",
       "      <th>neu</th>\n",
       "      <th>compound</th>\n",
       "    </tr>\n",
       "  </thead>\n",
       "  <tbody>\n",
       "    <tr>\n",
       "      <th>0</th>\n",
       "      <td>best poker content for 6 max zone poker if you...</td>\n",
       "      <td>poker</td>\n",
       "      <td>[best, poker, content, for, 6, max, zone, poke...</td>\n",
       "      <td>0.0</td>\n",
       "      <td>0.182</td>\n",
       "      <td>0.818</td>\n",
       "      <td>0.7964</td>\n",
       "    </tr>\n",
       "    <tr>\n",
       "      <th>1</th>\n",
       "      <td>4♦️5♦️ \\n\\n[view poll](https://www.reddit.com/...</td>\n",
       "      <td>poker</td>\n",
       "      <td>[4♦️5♦️, [, view, poll, ], (, https, :, //www....</td>\n",
       "      <td>0.0</td>\n",
       "      <td>0.000</td>\n",
       "      <td>1.000</td>\n",
       "      <td>0.0000</td>\n",
       "    </tr>\n",
       "  </tbody>\n",
       "</table>\n",
       "</div>"
      ],
      "text/plain": [
       "                                                text subreddit  \\\n",
       "0  best poker content for 6 max zone poker if you...     poker   \n",
       "1  4♦️5♦️ \\n\\n[view poll](https://www.reddit.com/...     poker   \n",
       "\n",
       "                                      tokenized_text  neg    pos    neu  \\\n",
       "0  [best, poker, content, for, 6, max, zone, poke...  0.0  0.182  0.818   \n",
       "1  [4♦️5♦️, [, view, poll, ], (, https, :, //www....  0.0  0.000  1.000   \n",
       "\n",
       "   compound  \n",
       "0    0.7964  \n",
       "1    0.0000  "
      ]
     },
     "execution_count": 62,
     "metadata": {},
     "output_type": "execute_result"
    }
   ],
   "source": [
    "pk.head(2)"
   ]
  },
  {
   "cell_type": "code",
   "execution_count": 63,
   "id": "dc3b9e18-3e1b-4dd4-bf1d-ac23ca50e5d7",
   "metadata": {},
   "outputs": [
    {
     "data": {
      "text/html": [
       "<div>\n",
       "<style scoped>\n",
       "    .dataframe tbody tr th:only-of-type {\n",
       "        vertical-align: middle;\n",
       "    }\n",
       "\n",
       "    .dataframe tbody tr th {\n",
       "        vertical-align: top;\n",
       "    }\n",
       "\n",
       "    .dataframe thead th {\n",
       "        text-align: right;\n",
       "    }\n",
       "</style>\n",
       "<table border=\"1\" class=\"dataframe\">\n",
       "  <thead>\n",
       "    <tr style=\"text-align: right;\">\n",
       "      <th></th>\n",
       "      <th>text</th>\n",
       "      <th>subreddit</th>\n",
       "      <th>tokenized_text</th>\n",
       "      <th>neg</th>\n",
       "      <th>pos</th>\n",
       "      <th>neu</th>\n",
       "      <th>compound</th>\n",
       "    </tr>\n",
       "  </thead>\n",
       "  <tbody>\n",
       "    <tr>\n",
       "      <th>0</th>\n",
       "      <td>what is terrible homework called? workshit.</td>\n",
       "      <td>dadjokes</td>\n",
       "      <td>[what, is, terrible, homework, called, ?, work...</td>\n",
       "      <td>0.383</td>\n",
       "      <td>0.000</td>\n",
       "      <td>0.617</td>\n",
       "      <td>-0.4767</td>\n",
       "    </tr>\n",
       "    <tr>\n",
       "      <th>1</th>\n",
       "      <td>what device does the army use to find good sol...</td>\n",
       "      <td>dadjokes</td>\n",
       "      <td>[what, device, does, the, army, use, to, find,...</td>\n",
       "      <td>0.000</td>\n",
       "      <td>0.209</td>\n",
       "      <td>0.791</td>\n",
       "      <td>0.4404</td>\n",
       "    </tr>\n",
       "  </tbody>\n",
       "</table>\n",
       "</div>"
      ],
      "text/plain": [
       "                                                text subreddit  \\\n",
       "0        what is terrible homework called? workshit.  dadjokes   \n",
       "1  what device does the army use to find good sol...  dadjokes   \n",
       "\n",
       "                                      tokenized_text    neg    pos    neu  \\\n",
       "0  [what, is, terrible, homework, called, ?, work...  0.383  0.000  0.617   \n",
       "1  [what, device, does, the, army, use, to, find,...  0.000  0.209  0.791   \n",
       "\n",
       "   compound  \n",
       "0   -0.4767  \n",
       "1    0.4404  "
      ]
     },
     "execution_count": 63,
     "metadata": {},
     "output_type": "execute_result"
    }
   ],
   "source": [
    "dj.head(2)"
   ]
  },
  {
   "cell_type": "code",
   "execution_count": 64,
   "id": "87049a9a-10a4-4681-affc-0d0b60fd5c17",
   "metadata": {},
   "outputs": [
    {
     "data": {
      "text/html": [
       "<div>\n",
       "<style scoped>\n",
       "    .dataframe tbody tr th:only-of-type {\n",
       "        vertical-align: middle;\n",
       "    }\n",
       "\n",
       "    .dataframe tbody tr th {\n",
       "        vertical-align: top;\n",
       "    }\n",
       "\n",
       "    .dataframe thead th {\n",
       "        text-align: right;\n",
       "    }\n",
       "</style>\n",
       "<table border=\"1\" class=\"dataframe\">\n",
       "  <thead>\n",
       "    <tr style=\"text-align: right;\">\n",
       "      <th></th>\n",
       "      <th>text</th>\n",
       "      <th>subreddit</th>\n",
       "      <th>tokenized_text</th>\n",
       "      <th>neg</th>\n",
       "      <th>pos</th>\n",
       "      <th>neu</th>\n",
       "      <th>compound</th>\n",
       "    </tr>\n",
       "  </thead>\n",
       "  <tbody>\n",
       "    <tr>\n",
       "      <th>0</th>\n",
       "      <td>best poker content for 6 max zone poker if you...</td>\n",
       "      <td>poker</td>\n",
       "      <td>[best, poker, content, for, 6, max, zone, poke...</td>\n",
       "      <td>0.383</td>\n",
       "      <td>0.000</td>\n",
       "      <td>0.617</td>\n",
       "      <td>-0.4767</td>\n",
       "    </tr>\n",
       "    <tr>\n",
       "      <th>1</th>\n",
       "      <td>4♦️5♦️ \\n\\n[view poll](https://www.reddit.com/...</td>\n",
       "      <td>poker</td>\n",
       "      <td>[4♦️5♦️, [, view, poll, ], (, https, :, //www....</td>\n",
       "      <td>0.000</td>\n",
       "      <td>0.209</td>\n",
       "      <td>0.791</td>\n",
       "      <td>0.4404</td>\n",
       "    </tr>\n",
       "  </tbody>\n",
       "</table>\n",
       "</div>"
      ],
      "text/plain": [
       "                                                text subreddit  \\\n",
       "0  best poker content for 6 max zone poker if you...     poker   \n",
       "1  4♦️5♦️ \\n\\n[view poll](https://www.reddit.com/...     poker   \n",
       "\n",
       "                                      tokenized_text    neg    pos    neu  \\\n",
       "0  [best, poker, content, for, 6, max, zone, poke...  0.383  0.000  0.617   \n",
       "1  [4♦️5♦️, [, view, poll, ], (, https, :, //www....  0.000  0.209  0.791   \n",
       "\n",
       "   compound  \n",
       "0   -0.4767  \n",
       "1    0.4404  "
      ]
     },
     "execution_count": 64,
     "metadata": {},
     "output_type": "execute_result"
    }
   ],
   "source": [
    "df.head(2)"
   ]
  },
  {
   "cell_type": "markdown",
   "id": "6bcc15e7-90bc-40f4-b953-f82ddef5148b",
   "metadata": {},
   "source": [
    "#\n",
    "\n",
    "### Lemmatizing\n",
    "___"
   ]
  },
  {
   "cell_type": "code",
   "execution_count": 65,
   "id": "d99bf941-bd1a-4fc8-a332-a08f6852f1c1",
   "metadata": {},
   "outputs": [],
   "source": [
    "#Instantiating\n",
    "lemmatizer = WordNetLemmatizer()\n",
    "\n",
    "\n",
    "def pos_tag_converter(nltk_tag):\n",
    "    if nltk_tag.startswith('J'):\n",
    "        return wordnet.ADJ\n",
    "    elif nltk_tag.startswith('V'):\n",
    "        return wordnet.VERB\n",
    "    elif nltk_tag.startswith('N'):\n",
    "        return wordnet.NOUN\n",
    "    elif nltk_tag.startswith('R'):\n",
    "        return wordnet.ADV\n",
    "    else:                    \n",
    "        return None"
   ]
  },
  {
   "cell_type": "code",
   "execution_count": 66,
   "id": "63c1d65e-dbb1-4f3d-b5a5-cf094de466e3",
   "metadata": {},
   "outputs": [],
   "source": [
    "def lemmatize(sentence):\n",
    "    token = RegexpTokenizer(r'[\\w\\'\\']+')\n",
    "    nltk_tag = nltk.pos_tag(token.tokenize(sentence.lower()))\n",
    "    wordnet_tag = map(lambda x: (x[0], pos_tag_converter(x[1])), nltk_tag)\n",
    "    \n",
    "    lem_words = []\n",
    "    for word, tag in wordnet_tag:\n",
    "            if tag is None:                        \n",
    "                 lem_words.append(word)\n",
    "            else:\n",
    "                lem_words.append(lemmatizer.lemmatize(word, tag))\n",
    "    return \" \".join(lem_words)"
   ]
  },
  {
   "cell_type": "code",
   "execution_count": 67,
   "id": "64f1d4f6-9867-47d6-9ae1-f87196529f1f",
   "metadata": {},
   "outputs": [],
   "source": [
    "pk['lemma_text'] = pk['text'].apply(lemmatize)\n",
    "dj['lemma_text'] = dj['text'].apply(lemmatize)\n",
    "df['lemma_text'] = df['text'].apply(lemmatize)"
   ]
  },
  {
   "cell_type": "code",
   "execution_count": 68,
   "id": "cd14679f-92fe-46f7-8795-2cf90a3fd0b8",
   "metadata": {},
   "outputs": [
    {
     "data": {
      "text/html": [
       "<div>\n",
       "<style scoped>\n",
       "    .dataframe tbody tr th:only-of-type {\n",
       "        vertical-align: middle;\n",
       "    }\n",
       "\n",
       "    .dataframe tbody tr th {\n",
       "        vertical-align: top;\n",
       "    }\n",
       "\n",
       "    .dataframe thead th {\n",
       "        text-align: right;\n",
       "    }\n",
       "</style>\n",
       "<table border=\"1\" class=\"dataframe\">\n",
       "  <thead>\n",
       "    <tr style=\"text-align: right;\">\n",
       "      <th></th>\n",
       "      <th>text</th>\n",
       "      <th>subreddit</th>\n",
       "      <th>tokenized_text</th>\n",
       "      <th>neg</th>\n",
       "      <th>pos</th>\n",
       "      <th>neu</th>\n",
       "      <th>compound</th>\n",
       "      <th>lemma_text</th>\n",
       "    </tr>\n",
       "  </thead>\n",
       "  <tbody>\n",
       "    <tr>\n",
       "      <th>0</th>\n",
       "      <td>best poker content for 6 max zone poker if you...</td>\n",
       "      <td>poker</td>\n",
       "      <td>[best, poker, content, for, 6, max, zone, poke...</td>\n",
       "      <td>0.0</td>\n",
       "      <td>0.182</td>\n",
       "      <td>0.818</td>\n",
       "      <td>0.7964</td>\n",
       "      <td>best poker content for 6 max zone poker if you...</td>\n",
       "    </tr>\n",
       "    <tr>\n",
       "      <th>1</th>\n",
       "      <td>4♦️5♦️ \\n\\n[view poll](https://www.reddit.com/...</td>\n",
       "      <td>poker</td>\n",
       "      <td>[4♦️5♦️, [, view, poll, ], (, https, :, //www....</td>\n",
       "      <td>0.0</td>\n",
       "      <td>0.000</td>\n",
       "      <td>1.000</td>\n",
       "      <td>0.0000</td>\n",
       "      <td>4 5 view poll http www reddit com poll z4z3hz</td>\n",
       "    </tr>\n",
       "  </tbody>\n",
       "</table>\n",
       "</div>"
      ],
      "text/plain": [
       "                                                text subreddit  \\\n",
       "0  best poker content for 6 max zone poker if you...     poker   \n",
       "1  4♦️5♦️ \\n\\n[view poll](https://www.reddit.com/...     poker   \n",
       "\n",
       "                                      tokenized_text  neg    pos    neu  \\\n",
       "0  [best, poker, content, for, 6, max, zone, poke...  0.0  0.182  0.818   \n",
       "1  [4♦️5♦️, [, view, poll, ], (, https, :, //www....  0.0  0.000  1.000   \n",
       "\n",
       "   compound                                         lemma_text  \n",
       "0    0.7964  best poker content for 6 max zone poker if you...  \n",
       "1    0.0000      4 5 view poll http www reddit com poll z4z3hz  "
      ]
     },
     "execution_count": 68,
     "metadata": {},
     "output_type": "execute_result"
    }
   ],
   "source": [
    "pk.head(2)"
   ]
  },
  {
   "cell_type": "code",
   "execution_count": 69,
   "id": "5c0d2e17-ae8e-4957-9c5d-686ccf3e031f",
   "metadata": {},
   "outputs": [
    {
     "data": {
      "text/html": [
       "<div>\n",
       "<style scoped>\n",
       "    .dataframe tbody tr th:only-of-type {\n",
       "        vertical-align: middle;\n",
       "    }\n",
       "\n",
       "    .dataframe tbody tr th {\n",
       "        vertical-align: top;\n",
       "    }\n",
       "\n",
       "    .dataframe thead th {\n",
       "        text-align: right;\n",
       "    }\n",
       "</style>\n",
       "<table border=\"1\" class=\"dataframe\">\n",
       "  <thead>\n",
       "    <tr style=\"text-align: right;\">\n",
       "      <th></th>\n",
       "      <th>text</th>\n",
       "      <th>subreddit</th>\n",
       "      <th>tokenized_text</th>\n",
       "      <th>neg</th>\n",
       "      <th>pos</th>\n",
       "      <th>neu</th>\n",
       "      <th>compound</th>\n",
       "      <th>lemma_text</th>\n",
       "    </tr>\n",
       "  </thead>\n",
       "  <tbody>\n",
       "    <tr>\n",
       "      <th>0</th>\n",
       "      <td>what is terrible homework called? workshit.</td>\n",
       "      <td>dadjokes</td>\n",
       "      <td>[what, is, terrible, homework, called, ?, work...</td>\n",
       "      <td>0.383</td>\n",
       "      <td>0.000</td>\n",
       "      <td>0.617</td>\n",
       "      <td>-0.4767</td>\n",
       "      <td>what be terrible homework call workshit</td>\n",
       "    </tr>\n",
       "    <tr>\n",
       "      <th>1</th>\n",
       "      <td>what device does the army use to find good sol...</td>\n",
       "      <td>dadjokes</td>\n",
       "      <td>[what, device, does, the, army, use, to, find,...</td>\n",
       "      <td>0.000</td>\n",
       "      <td>0.209</td>\n",
       "      <td>0.791</td>\n",
       "      <td>0.4404</td>\n",
       "      <td>what device do the army use to find good soldi...</td>\n",
       "    </tr>\n",
       "  </tbody>\n",
       "</table>\n",
       "</div>"
      ],
      "text/plain": [
       "                                                text subreddit  \\\n",
       "0        what is terrible homework called? workshit.  dadjokes   \n",
       "1  what device does the army use to find good sol...  dadjokes   \n",
       "\n",
       "                                      tokenized_text    neg    pos    neu  \\\n",
       "0  [what, is, terrible, homework, called, ?, work...  0.383  0.000  0.617   \n",
       "1  [what, device, does, the, army, use, to, find,...  0.000  0.209  0.791   \n",
       "\n",
       "   compound                                         lemma_text  \n",
       "0   -0.4767            what be terrible homework call workshit  \n",
       "1    0.4404  what device do the army use to find good soldi...  "
      ]
     },
     "execution_count": 69,
     "metadata": {},
     "output_type": "execute_result"
    }
   ],
   "source": [
    "dj.head(2)"
   ]
  },
  {
   "cell_type": "code",
   "execution_count": 70,
   "id": "c7d44742-a9cc-41c7-9051-472af78d963f",
   "metadata": {},
   "outputs": [
    {
     "data": {
      "text/html": [
       "<div>\n",
       "<style scoped>\n",
       "    .dataframe tbody tr th:only-of-type {\n",
       "        vertical-align: middle;\n",
       "    }\n",
       "\n",
       "    .dataframe tbody tr th {\n",
       "        vertical-align: top;\n",
       "    }\n",
       "\n",
       "    .dataframe thead th {\n",
       "        text-align: right;\n",
       "    }\n",
       "</style>\n",
       "<table border=\"1\" class=\"dataframe\">\n",
       "  <thead>\n",
       "    <tr style=\"text-align: right;\">\n",
       "      <th></th>\n",
       "      <th>text</th>\n",
       "      <th>subreddit</th>\n",
       "      <th>tokenized_text</th>\n",
       "      <th>neg</th>\n",
       "      <th>pos</th>\n",
       "      <th>neu</th>\n",
       "      <th>compound</th>\n",
       "      <th>lemma_text</th>\n",
       "    </tr>\n",
       "  </thead>\n",
       "  <tbody>\n",
       "    <tr>\n",
       "      <th>0</th>\n",
       "      <td>best poker content for 6 max zone poker if you...</td>\n",
       "      <td>poker</td>\n",
       "      <td>[best, poker, content, for, 6, max, zone, poke...</td>\n",
       "      <td>0.383</td>\n",
       "      <td>0.000</td>\n",
       "      <td>0.617</td>\n",
       "      <td>-0.4767</td>\n",
       "      <td>best poker content for 6 max zone poker if you...</td>\n",
       "    </tr>\n",
       "    <tr>\n",
       "      <th>1</th>\n",
       "      <td>4♦️5♦️ \\n\\n[view poll](https://www.reddit.com/...</td>\n",
       "      <td>poker</td>\n",
       "      <td>[4♦️5♦️, [, view, poll, ], (, https, :, //www....</td>\n",
       "      <td>0.000</td>\n",
       "      <td>0.209</td>\n",
       "      <td>0.791</td>\n",
       "      <td>0.4404</td>\n",
       "      <td>4 5 view poll http www reddit com poll z4z3hz</td>\n",
       "    </tr>\n",
       "  </tbody>\n",
       "</table>\n",
       "</div>"
      ],
      "text/plain": [
       "                                                text subreddit  \\\n",
       "0  best poker content for 6 max zone poker if you...     poker   \n",
       "1  4♦️5♦️ \\n\\n[view poll](https://www.reddit.com/...     poker   \n",
       "\n",
       "                                      tokenized_text    neg    pos    neu  \\\n",
       "0  [best, poker, content, for, 6, max, zone, poke...  0.383  0.000  0.617   \n",
       "1  [4♦️5♦️, [, view, poll, ], (, https, :, //www....  0.000  0.209  0.791   \n",
       "\n",
       "   compound                                         lemma_text  \n",
       "0   -0.4767  best poker content for 6 max zone poker if you...  \n",
       "1    0.4404      4 5 view poll http www reddit com poll z4z3hz  "
      ]
     },
     "execution_count": 70,
     "metadata": {},
     "output_type": "execute_result"
    }
   ],
   "source": [
    "df.head(2)"
   ]
  },
  {
   "cell_type": "markdown",
   "id": "bb463502-b771-4174-8587-ef99241d88ad",
   "metadata": {
    "tags": []
   },
   "source": [
    "# \n",
    "\n",
    "### CountVectorizer"
   ]
  },
  {
   "cell_type": "code",
   "execution_count": 71,
   "id": "c81f4b24-85ab-4b4b-92c2-ae4ebce893c4",
   "metadata": {},
   "outputs": [
    {
     "name": "stderr",
     "output_type": "stream",
     "text": [
      "[nltk_data] Downloading package stopwords to\n",
      "[nltk_data]     /Users/preetsekhon/nltk_data...\n",
      "[nltk_data]   Package stopwords is already up-to-date!\n"
     ]
    }
   ],
   "source": [
    "#instantiating count vectorizer \n",
    "cvec=CountVectorizer(stop_words='english')\n",
    "\n",
    "#Instantiating Stopwords and adding additional words added to stopwords list after initial word count EDA\n",
    "nltk.download('stopwords')\n",
    "stopwords = stopwords.words('english')\n",
    "stop_list = [\"dad\",\"poker\", \"say\", \"joke\"] \n",
    "stpwrd = nltk.corpus.stopwords.words('english')\n",
    "stpwrd.extend(stop_list)"
   ]
  },
  {
   "cell_type": "code",
   "execution_count": 72,
   "id": "658b2b74-3705-40fc-b71b-f1c5bf97cec0",
   "metadata": {},
   "outputs": [],
   "source": [
    "#Count Vectorizing each DF, separately, for EDA\n",
    "pk_cvec = cvec.fit_transform(pk['lemma_text'])\n",
    "pk_cvec.todense()\n",
    "words_pk = pd.DataFrame(pk_cvec.todense(), columns = cvec.get_feature_names_out())\n",
    "\n",
    "dj_cvec = cvec.fit_transform(dj['lemma_text'])\n",
    "dj_cvec.todense()\n",
    "words_dj = pd.DataFrame(dj_cvec.todense(), columns = cvec.get_feature_names_out())\n",
    "\n",
    "df_cvec = cvec.fit_transform(df['lemma_text'])\n",
    "df_cvec.todense()\n",
    "words_df = pd.DataFrame(df_cvec.todense(), columns = cvec.get_feature_names_out())"
   ]
  },
  {
   "cell_type": "markdown",
   "id": "1c472b11-d8c5-4153-9203-1f29c36e8478",
   "metadata": {
    "tags": []
   },
   "source": [
    "#\n",
    "\n",
    "### EDA\n",
    "___"
   ]
  },
  {
   "cell_type": "code",
   "execution_count": 73,
   "id": "b87fd0b5-a0fa-4914-9e09-46776563f20c",
   "metadata": {},
   "outputs": [
    {
     "data": {
      "image/png": "[encoded data removed]",
      "text/plain": [
       "<Figure size 432x288 with 1 Axes>"
      ]
     },
     "metadata": {
      "needs_background": "light"
     },
     "output_type": "display_data"
    }
   ],
   "source": [
    "#Word Counts and Saving Plot\n",
    "words_pk.sum().sort_values(ascending=False).head(10).plot(kind='barh', color = \"skyblue\")\n",
    "\n",
    "plt.ylabel('Word')\n",
    "plt.xlabel('Appearances')\n",
    "plt.title('Poker after Lemmatation and CountVectorizing')\n",
    "\n",
    "plt.savefig('./visuals/pk_wc.jpeg', dpi=300, bbox_inches = \"tight\")\n",
    "plt.show();"
   ]
  },
  {
   "cell_type": "code",
   "execution_count": 74,
   "id": "6a45f3f3-90c7-4096-ad5c-632f6a49d2ad",
   "metadata": {},
   "outputs": [
    {
     "data": {
      "image/png": "[encoded data removed]",
      "text/plain": [
       "<Figure size 432x288 with 1 Axes>"
      ]
     },
     "metadata": {
      "needs_background": "light"
     },
     "output_type": "display_data"
    }
   ],
   "source": [
    "#Word Counts and Saving Plot\n",
    "words_dj.sum().sort_values(ascending=False).head(10).plot(kind='barh', color = \"green\")\n",
    "\n",
    "plt.ylabel('Word')\n",
    "plt.xlabel('Appearances')\n",
    "plt.title('Dad Jokes after Lemmatation and CountVectorizing')\n",
    "\n",
    "plt.savefig('./visuals/dj_wc.jpeg', dpi=300, bbox_inches = \"tight\")\n",
    "plt.show();"
   ]
  },
  {
   "cell_type": "code",
   "execution_count": 75,
   "id": "e2d3adab-8c8c-4e73-8215-7ed4a0864d95",
   "metadata": {},
   "outputs": [
    {
     "data": {
      "image/png": "[encoded data removed]",
      "text/plain": [
       "<Figure size 720x576 with 1 Axes>"
      ]
     },
     "metadata": {
      "needs_background": "light"
     },
     "output_type": "display_data"
    }
   ],
   "source": [
    "#Positive Sentiment Analysis Historgram and Saving Plot\n",
    "fig = plt.figure(figsize = (10,8))\n",
    "ax = fig.gca()\n",
    "\n",
    "plt.title('Positive Sentiment Analysis Historgram')\n",
    "plt.ylabel('Frequency')\n",
    "plt.xlabel('Positivity Score')\n",
    "plt.legend(['Dad Jokes','Poker'])\n",
    "\n",
    "plt.hist(dj['pos'], color = \"blue\", alpha = .5, label = 'Dad Jokes')\n",
    "plt.hist(pk['pos'], color = \"green\", alpha = .5, label = 'Poker')\n",
    "\n",
    "ax.legend()\n",
    "plt.savefig('./visuals/pos_his.jpeg', dpi=300, bbox_inches = \"tight\")\n",
    "plt.show()"
   ]
  },
  {
   "cell_type": "code",
   "execution_count": 76,
   "id": "9b1380c1-47e3-4dad-8dde-16308703e822",
   "metadata": {},
   "outputs": [
    {
     "ename": "NameError",
     "evalue": "name 'x' is not defined",
     "output_type": "error",
     "traceback": [
      "\u001b[0;31m---------------------------------------------------------------------------\u001b[0m",
      "\u001b[0;31mNameError\u001b[0m                                 Traceback (most recent call last)",
      "\u001b[0;32m/var/folders/3j/my4n0ykx0yb51nj_xv6qbxp40000gn/T/ipykernel_23980/1350416391.py\u001b[0m in \u001b[0;36m<module>\u001b[0;34m\u001b[0m\n\u001b[1;32m     11\u001b[0m \u001b[0mplt\u001b[0m\u001b[0;34m.\u001b[0m\u001b[0mhist\u001b[0m\u001b[0;34m(\u001b[0m\u001b[0mpk\u001b[0m\u001b[0;34m[\u001b[0m\u001b[0;34m'neg'\u001b[0m\u001b[0;34m]\u001b[0m\u001b[0;34m,\u001b[0m \u001b[0mcolor\u001b[0m \u001b[0;34m=\u001b[0m \u001b[0;34m\"green\"\u001b[0m\u001b[0;34m,\u001b[0m \u001b[0malpha\u001b[0m \u001b[0;34m=\u001b[0m \u001b[0;36m.5\u001b[0m\u001b[0;34m,\u001b[0m \u001b[0mlabel\u001b[0m \u001b[0;34m=\u001b[0m \u001b[0;34m'Poker'\u001b[0m\u001b[0;34m)\u001b[0m\u001b[0;34m\u001b[0m\u001b[0;34m\u001b[0m\u001b[0m\n\u001b[1;32m     12\u001b[0m \u001b[0;34m\u001b[0m\u001b[0m\n\u001b[0;32m---> 13\u001b[0;31m \u001b[0;32mfor\u001b[0m \u001b[0mindex\u001b[0m\u001b[0;34m,\u001b[0m\u001b[0mdata\u001b[0m \u001b[0;32min\u001b[0m \u001b[0menumerate\u001b[0m\u001b[0;34m(\u001b[0m\u001b[0mx\u001b[0m\u001b[0;34m)\u001b[0m\u001b[0;34m:\u001b[0m\u001b[0;34m\u001b[0m\u001b[0;34m\u001b[0m\u001b[0m\n\u001b[0m\u001b[1;32m     14\u001b[0m     \u001b[0mplt\u001b[0m\u001b[0;34m.\u001b[0m\u001b[0mtext\u001b[0m\u001b[0;34m(\u001b[0m\u001b[0mx\u001b[0m\u001b[0;34m=\u001b[0m\u001b[0mindex\u001b[0m \u001b[0;34m,\u001b[0m \u001b[0my\u001b[0m \u001b[0;34m=\u001b[0m\u001b[0mdata\u001b[0m\u001b[0;34m+\u001b[0m\u001b[0;36m1\u001b[0m \u001b[0;34m,\u001b[0m \u001b[0ms\u001b[0m\u001b[0;34m=\u001b[0m\u001b[0;34mf\"{data}\"\u001b[0m \u001b[0;34m,\u001b[0m \u001b[0mfontdict\u001b[0m\u001b[0;34m=\u001b[0m\u001b[0mdict\u001b[0m\u001b[0;34m(\u001b[0m\u001b[0mfontsize\u001b[0m\u001b[0;34m=\u001b[0m\u001b[0;36m20\u001b[0m\u001b[0;34m)\u001b[0m\u001b[0;34m)\u001b[0m\u001b[0;34m\u001b[0m\u001b[0;34m\u001b[0m\u001b[0m\n\u001b[1;32m     15\u001b[0m \u001b[0mplt\u001b[0m\u001b[0;34m.\u001b[0m\u001b[0mtight_layout\u001b[0m\u001b[0;34m(\u001b[0m\u001b[0;34m)\u001b[0m\u001b[0;34m\u001b[0m\u001b[0;34m\u001b[0m\u001b[0m\n",
      "\u001b[0;31mNameError\u001b[0m: name 'x' is not defined"
     ]
    },
    {
     "data": {
      "image/png": "[encoded data removed]",
      "text/plain": [
       "<Figure size 720x576 with 1 Axes>"
      ]
     },
     "metadata": {
      "needs_background": "light"
     },
     "output_type": "display_data"
    }
   ],
   "source": [
    "#Negative Sentiment Analysis Historgram and Saving Plot\n",
    "fig = plt.figure(figsize = (10,8))\n",
    "ax = fig.gca()\n",
    "\n",
    "plt.title('Negative Sentiment Analysis Historgram')\n",
    "plt.ylabel('Frequency')\n",
    "plt.xlabel('Negative Score')\n",
    "plt.legend(['Dad Jokes','Poker'])\n",
    "\n",
    "plt.hist(dj['neg'], color = \"blue\", alpha = .5, label = 'Dad Jokes')\n",
    "plt.hist(pk['neg'], color = \"green\", alpha = .5, label = 'Poker')\n",
    "\n",
    "for index,data in enumerate(x):\n",
    "    plt.text(x=index , y =data+1 , s=f\"{data}\" , fontdict=dict(fontsize=20))\n",
    "plt.tight_layout()\n",
    "\n",
    "\n",
    "ax.legend()\n",
    "plt.savefig('visuals/neg_his.jpeg',dpi=300, bbox_inches = \"tight\")\n",
    "plt.show()\n"
   ]
  },
  {
   "cell_type": "code",
   "execution_count": null,
   "id": "819e587e-fdb4-4daf-8274-f0c723cfbd9f",
   "metadata": {},
   "outputs": [],
   "source": [
    "#Neutral Sentiment Analysis Historgram and Saving Plot\n",
    "fig = plt.figure(figsize = (10,8))\n",
    "ax = fig.gca()\n",
    "\n",
    "plt.title('Neutral Sentiment Analysis Historgram')\n",
    "plt.ylabel('Frequency')\n",
    "plt.xlabel('Neutral Score')\n",
    "plt.legend(['Dad Jokes','Poker'])\n",
    "\n",
    "plt.hist(dj['neu'], color = \"blue\", alpha = .5, label = 'Dad Jokes')\n",
    "plt.hist(pk['neu'], color = \"green\", alpha = .5, label = 'Poker')\n",
    "\n",
    "ax.legend()\n",
    "plt.savefig('visuals/neu_his.jpeg',dpi=300, bbox_inches = \"tight\")\n",
    "plt.show()\n",
    "\n"
   ]
  },
  {
   "cell_type": "code",
   "execution_count": null,
   "id": "9db3ffd1-426f-4db4-ae0b-1df6ad8681a4",
   "metadata": {},
   "outputs": [],
   "source": [
    "#Compound Sentiment Analysis Historgram and Saving Plot\n",
    "fig = plt.figure(figsize = (10,8))\n",
    "ax = fig.gca()\n",
    "\n",
    "plt.title('Compound Sentiment Analysis Historgram')\n",
    "plt.ylabel('Frequency')\n",
    "plt.xlabel('Compound Score')\n",
    "plt.legend(['Dad Jokes','Poker'])\n",
    "\n",
    "plt.hist(dj['compound'], color = \"blue\", alpha = .5, label = 'Dad Jokes')\n",
    "plt.hist(pk['compound'], color = \"green\", alpha = .5, label = 'Poker')\n",
    "\n",
    "ax.legend()\n",
    "plt.savefig('visuals/compound_his.jpeg',dpi=300, bbox_inches = \"tight\")\n",
    "plt.show()\n",
    "\n"
   ]
  },
  {
   "cell_type": "markdown",
   "id": "04db2673-aa5a-4ec2-9ded-350441087156",
   "metadata": {},
   "source": [
    "#\n",
    "\n",
    "### Preprocessing"
   ]
  },
  {
   "cell_type": "code",
   "execution_count": null,
   "id": "019aaca9-febd-4a91-b1b5-3f84081c647b",
   "metadata": {},
   "outputs": [],
   "source": [
    "df.head(2)"
   ]
  },
  {
   "cell_type": "code",
   "execution_count": null,
   "id": "9b155c42-bee3-400e-8910-0a38a374d985",
   "metadata": {},
   "outputs": [],
   "source": [
    "#Binarizing Target Column and Dropping Old Column \n",
    "df['poker'] = df['subreddit'].map({'dadjokes': 0, 'poker': 1})\n",
    "df.drop(['subreddit'], axis = 1, inplace = True)\n",
    "\n",
    "df.head(2)"
   ]
  },
  {
   "cell_type": "code",
   "execution_count": null,
   "id": "ada79df2-780b-4f84-ae05-f1ceadcd7cf5",
   "metadata": {},
   "outputs": [],
   "source": [
    "#Character Count Column Function\n",
    "\n",
    "def get_char_count(column, new_column='char_count'):\n",
    "    df[new_column] = df[column].apply(lambda x: sum([len(item) for item in x]))\n",
    "    return [new_column]\n",
    "\n",
    "get_char_count('text')"
   ]
  },
  {
   "cell_type": "code",
   "execution_count": null,
   "id": "33a38efe-e48e-42a9-94b5-3cf2489e7b35",
   "metadata": {},
   "outputs": [],
   "source": [
    "df.head(2)"
   ]
  },
  {
   "cell_type": "code",
   "execution_count": null,
   "id": "4f156cae-e4f2-424a-8966-e3969d0edac0",
   "metadata": {},
   "outputs": [],
   "source": [
    "#Word Count Column Function\n",
    "\n",
    "def get_word_count(self, new_column='word_count'):\n",
    "    df['word_count'] = df['lemma_text'].apply(lambda x: len(str(x).split(' ')))\n",
    "    return df['word_count']\n",
    "\n",
    "get_word_count('lemma_text')"
   ]
  },
  {
   "cell_type": "code",
   "execution_count": null,
   "id": "24e08cd4-93ee-498d-91b9-b838cf776831",
   "metadata": {},
   "outputs": [],
   "source": [
    "df.head(2)"
   ]
  },
  {
   "cell_type": "code",
   "execution_count": null,
   "id": "74231112-ce4e-4832-98ca-bc6fd182a6da",
   "metadata": {},
   "outputs": [],
   "source": [
    "#Dropping Processed Columns\n",
    "df = df[['neg', 'neu', 'pos', 'compound', 'char_count', 'word_count', 'lemma_text', 'poker']]\n",
    "\n",
    "df.head(2)"
   ]
  },
  {
   "cell_type": "code",
   "execution_count": null,
   "id": "fea84d6e-afb4-4d5f-8bad-3bf6e0f7226d",
   "metadata": {},
   "outputs": [],
   "source": [
    "df.head(2)"
   ]
  },
  {
   "cell_type": "markdown",
   "id": "f7ee9f84-3334-4fc8-906d-6d047fa0972c",
   "metadata": {},
   "source": [
    "### Cleaned Data Set Saved to Data Folder\n",
    "---"
   ]
  },
  {
   "cell_type": "code",
   "execution_count": null,
   "id": "7a91fd3f-1116-43d8-9df3-1be3c0fb791e",
   "metadata": {},
   "outputs": [],
   "source": [
    "df.to_csv('./data/df.csv')"
   ]
  }
 ],
 "metadata": {
  "kernelspec": {
   "display_name": "Python 3 (ipykernel)",
   "language": "python",
   "name": "python3"
  },
  "language_info": {
   "codemirror_mode": {
    "name": "ipython",
    "version": 3
   },
   "file_extension": ".py",
   "mimetype": "text/x-python",
   "name": "python",
   "nbconvert_exporter": "python",
   "pygments_lexer": "ipython3",
   "version": "3.9.7"
  }
 },
 "nbformat": 4,
 "nbformat_minor": 5
}
